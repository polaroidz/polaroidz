{
  "nbformat": 4,
  "nbformat_minor": 0,
  "metadata": {
    "colab": {
      "name": "Hypothesis_Testing_in_R.ipynb",
      "provenance": [],
      "collapsed_sections": [],
      "authorship_tag": "ABX9TyPz7zkvjLEH75kQaeOaR/aV",
      "include_colab_link": true
    },
    "kernelspec": {
      "name": "ir",
      "display_name": "R"
    },
    "language_info": {
      "name": "R"
    }
  },
  "cells": [
    {
      "cell_type": "markdown",
      "metadata": {
        "id": "view-in-github",
        "colab_type": "text"
      },
      "source": [
        "<a href=\"https://colab.research.google.com/github/polaroidz/polaroidz/blob/main/Hypothesis_Testing_in_R.ipynb\" target=\"_parent\"><img src=\"https://colab.research.google.com/assets/colab-badge.svg\" alt=\"Open In Colab\"/></a>"
      ]
    },
    {
      "cell_type": "code",
      "metadata": {
        "colab": {
          "base_uri": "https://localhost:8080/"
        },
        "id": "03bNYGmyeZ47",
        "outputId": "fc4c59e6-e609-4085-81b4-3d0ad0c0bf7b"
      },
      "source": [
        "library(tidyverse)"
      ],
      "execution_count": null,
      "outputs": [
        {
          "output_type": "stream",
          "text": [
            "Warning message in system(\"timedatectl\", intern = TRUE):\n",
            "“running command 'timedatectl' had status 1”\n",
            "── \u001b[1mAttaching packages\u001b[22m ─────────────────────────────────────── tidyverse 1.3.0 ──\n",
            "\n",
            "\u001b[32m✔\u001b[39m \u001b[34mggplot2\u001b[39m 3.3.3     \u001b[32m✔\u001b[39m \u001b[34mpurrr  \u001b[39m 0.3.4\n",
            "\u001b[32m✔\u001b[39m \u001b[34mtibble \u001b[39m 3.1.0     \u001b[32m✔\u001b[39m \u001b[34mdplyr  \u001b[39m 1.0.5\n",
            "\u001b[32m✔\u001b[39m \u001b[34mtidyr  \u001b[39m 1.1.3     \u001b[32m✔\u001b[39m \u001b[34mstringr\u001b[39m 1.4.0\n",
            "\u001b[32m✔\u001b[39m \u001b[34mreadr  \u001b[39m 1.4.0     \u001b[32m✔\u001b[39m \u001b[34mforcats\u001b[39m 0.5.1\n",
            "\n",
            "── \u001b[1mConflicts\u001b[22m ────────────────────────────────────────── tidyverse_conflicts() ──\n",
            "\u001b[31m✖\u001b[39m \u001b[34mdplyr\u001b[39m::\u001b[32mfilter()\u001b[39m masks \u001b[34mstats\u001b[39m::filter()\n",
            "\u001b[31m✖\u001b[39m \u001b[34mdplyr\u001b[39m::\u001b[32mlag()\u001b[39m    masks \u001b[34mstats\u001b[39m::lag()\n",
            "\n"
          ],
          "name": "stderr"
        }
      ]
    },
    {
      "cell_type": "code",
      "metadata": {
        "id": "Vgqpcwhgeu6r"
      },
      "source": [
        ""
      ],
      "execution_count": null,
      "outputs": []
    },
    {
      "cell_type": "code",
      "metadata": {
        "id": "m43Lvdkieu9l"
      },
      "source": [
        "# Hypothesize that the proportion is 6%\n",
        "late_prop_hyp <- 0.06\n",
        "\n",
        "# Calculate the standard error\n",
        "std_error <- late_shipments_boot_distn %>% \n",
        "  summarize(sd_late_prop = sd(late_prop)) %>% \n",
        "  pull(sd_late_prop)\n",
        "\n",
        "# Find z-score of late_prop_samp\n",
        "z_score <- (late_prop_samp - late_prop_hyp) / std_error\n",
        "\n",
        "# See the results\n",
        "z_score"
      ],
      "execution_count": null,
      "outputs": []
    },
    {
      "cell_type": "code",
      "metadata": {
        "id": "kzY_mb2OevAZ"
      },
      "source": [
        ""
      ],
      "execution_count": null,
      "outputs": []
    },
    {
      "cell_type": "code",
      "metadata": {
        "id": "b2Vjgy9OpJLa"
      },
      "source": [
        "# Calculate 95% confidence interval using quantile method\n",
        "conf_int_quantile <- late_shipments_boot_distn %>%\n",
        "  summarize(\n",
        "    lower = quantile(prop_late_shipments, 0.025),\n",
        "    upper = quantile(prop_late_shipments, 0.975)\n",
        "  )\n",
        "\n",
        "# See the result\n",
        "conf_int_quantile"
      ],
      "execution_count": null,
      "outputs": []
    },
    {
      "cell_type": "code",
      "metadata": {
        "id": "B-G2msVopJN4"
      },
      "source": [
        ""
      ],
      "execution_count": null,
      "outputs": []
    },
    {
      "cell_type": "code",
      "metadata": {
        "id": "nQFsM14bpJQn"
      },
      "source": [
        "# Calculate the numerator of the test statistic\n",
        "numerator <- xbar_no - xbar_yes\n",
        "\n",
        "# Calculate the denominator of the test statistic\n",
        "denominator <- sqrt(s_no ^ 2 / n_no + s_yes ^ 2 / n_yes)\n",
        "\n",
        "# Calculate the test statistic\n",
        "t_stat <- numerator / denominator\n",
        "\n",
        "# See the result\n",
        "t_stat"
      ],
      "execution_count": null,
      "outputs": []
    },
    {
      "cell_type": "code",
      "metadata": {
        "id": "4HqW_1pOpJSv"
      },
      "source": [
        ""
      ],
      "execution_count": null,
      "outputs": []
    },
    {
      "cell_type": "code",
      "metadata": {
        "id": "dbIh1SC8rtNj"
      },
      "source": [
        "# Calculate the degrees of freedom\n",
        "degrees_of_freedom <- n_no + n_yes - 2\n",
        "\n",
        "# Calculate the p-value from the test stat\n",
        "p_value <- pt(t_stat, df = degrees_of_freedom)\n",
        "\n",
        "# See the result\n",
        "p_value"
      ],
      "execution_count": null,
      "outputs": []
    },
    {
      "cell_type": "code",
      "metadata": {
        "id": "i9HhxNNjrtQa"
      },
      "source": [
        ""
      ],
      "execution_count": null,
      "outputs": []
    },
    {
      "cell_type": "code",
      "metadata": {
        "id": "Dmcw4Z0ZrtTG"
      },
      "source": [
        "# View the dem_votes_potus_12_16 dataset\n",
        "View(dem_votes_potus_12_16)\n",
        "\n",
        "# Calculate the differences from 2012 to 2016\n",
        "sample_dem_data <- dem_votes_potus_12_16 %>% \n",
        "  mutate(diff = dem_percent_12 - dem_percent_16)\n",
        "\n",
        "# See the result\n",
        "sample_dem_data"
      ],
      "execution_count": null,
      "outputs": []
    },
    {
      "cell_type": "code",
      "metadata": {
        "id": "YmEQAPukrtVm"
      },
      "source": [
        ""
      ],
      "execution_count": null,
      "outputs": []
    },
    {
      "cell_type": "code",
      "metadata": {
        "id": "aEzM8xZ9NCom"
      },
      "source": [
        "diff_stats <- sample_dem_data %>%\n",
        "  summarize(\n",
        "    xbar_diff = mean(diff),\n",
        "    s_siff = sd(diff) \n",
        "  )"
      ],
      "execution_count": null,
      "outputs": []
    },
    {
      "cell_type": "code",
      "metadata": {
        "id": "alPT3-WrNCra"
      },
      "source": [
        "# From previous step\n",
        "sample_dem_data <- dem_votes_potus_12_16 %>% \n",
        "  mutate(diff = dem_percent_12 - dem_percent_16)\n",
        "\n",
        "# Using sample_dem_data, plot diff as a histogram\n",
        "ggplot(sample_dem_data, aes(x = diff)) +\n",
        "  geom_histogram(binwidth = 1)\n"
      ],
      "execution_count": null,
      "outputs": []
    },
    {
      "cell_type": "code",
      "metadata": {
        "id": "4lBGWtkYNCuM"
      },
      "source": [
        "# Conduct a t-test on diff\n",
        "test_results <- t.test(sample_dem_data$diff, alternative = \"greater\", mu = 0)\n",
        "\n",
        "# See the results\n",
        "test_results"
      ],
      "execution_count": null,
      "outputs": []
    },
    {
      "cell_type": "code",
      "metadata": {
        "colab": {
          "base_uri": "https://localhost:8080/",
          "height": 34
        },
        "id": "bCQLLInUNCwX",
        "outputId": "cbd22a36-1b6c-4d4f-a504-325a2d1d582b"
      },
      "source": [
        "p.adjust.methods"
      ],
      "execution_count": null,
      "outputs": [
        {
          "output_type": "display_data",
          "data": {
            "text/plain": [
              "[1] \"holm\"       \"hochberg\"   \"hommel\"     \"bonferroni\" \"BH\"        \n",
              "[6] \"BY\"         \"fdr\"        \"none\"      "
            ],
            "text/latex": "\\begin{enumerate*}\n\\item 'holm'\n\\item 'hochberg'\n\\item 'hommel'\n\\item 'bonferroni'\n\\item 'BH'\n\\item 'BY'\n\\item 'fdr'\n\\item 'none'\n\\end{enumerate*}\n",
            "text/markdown": "1. 'holm'\n2. 'hochberg'\n3. 'hommel'\n4. 'bonferroni'\n5. 'BH'\n6. 'BY'\n7. 'fdr'\n8. 'none'\n\n\n",
            "text/html": [
              "<style>\n",
              ".list-inline {list-style: none; margin:0; padding: 0}\n",
              ".list-inline>li {display: inline-block}\n",
              ".list-inline>li:not(:last-child)::after {content: \"\\00b7\"; padding: 0 .5ex}\n",
              "</style>\n",
              "<ol class=list-inline><li>'holm'</li><li>'hochberg'</li><li>'hommel'</li><li>'bonferroni'</li><li>'BH'</li><li>'BY'</li><li>'fdr'</li><li>'none'</li></ol>\n"
            ]
          },
          "metadata": {
            "tags": []
          }
        }
      ]
    },
    {
      "cell_type": "code",
      "metadata": {
        "id": "tJnv-GqFrtYQ"
      },
      "source": [
        "# Using late_shipments, group by shipment mode, and \n",
        "# calculate the mean and std dev of pack price\n",
        "late_shipments %>%\n",
        "    group_by(shipment_mode) %>%\n",
        "    summarize(\n",
        "        xbar_pack_price = mean(pack_price),\n",
        "        s_pack_price = sd(pack_price)\n",
        "    )"
      ],
      "execution_count": null,
      "outputs": []
    },
    {
      "cell_type": "code",
      "metadata": {
        "id": "-Ha8VXkiQBfI"
      },
      "source": [
        ""
      ],
      "execution_count": null,
      "outputs": []
    },
    {
      "cell_type": "code",
      "metadata": {
        "id": "dVSYjjHHQBh-"
      },
      "source": [
        "# Using late_shipments, plot pack_price vs. shipment_mode\n",
        "# as a box plot with flipped x and y coordinates\n",
        "ggplot(late_shipments, aes(x = shipment_mode, y = pack_price)) +\n",
        "  geom_boxplot() +\n",
        "  coord_flip()"
      ],
      "execution_count": null,
      "outputs": []
    },
    {
      "cell_type": "markdown",
      "metadata": {
        "id": "7v4YoyPSQl9L"
      },
      "source": [
        "![image.png](data:image/png;base64,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)"
      ]
    },
    {
      "cell_type": "code",
      "metadata": {
        "id": "kFoiZbD4QBkp"
      },
      "source": [
        ""
      ],
      "execution_count": null,
      "outputs": []
    },
    {
      "cell_type": "code",
      "metadata": {
        "id": "YeyXPJC3QBnP"
      },
      "source": [
        "# Run a linear regression of pack price vs. shipment mode \n",
        "mdl_pack_price_vs_shipment_mode <- lm(\n",
        "    pack_price ~ shipment_mode, \n",
        "    data = late_shipments\n",
        ")\n",
        "\n",
        "# See the results\n",
        "summary(mdl_pack_price_vs_shipment_mode)"
      ],
      "execution_count": null,
      "outputs": []
    },
    {
      "cell_type": "code",
      "metadata": {
        "id": "NWEy9RglQBp0"
      },
      "source": [
        "# From previous step\n",
        "mdl_pack_price_vs_shipment_mode <- lm(pack_price ~ shipment_mode, data = late_shipments)\n",
        "\n",
        "# Perform ANOVA on the regression model\n",
        "anova(mdl_pack_price_vs_shipment_mode)"
      ],
      "execution_count": null,
      "outputs": []
    },
    {
      "cell_type": "code",
      "metadata": {
        "id": "0PmVeMUuQBse"
      },
      "source": [
        "# Perform pairwise t-tests on pack price, grouped by\n",
        "# shipment mode, no p-value adjustment\n",
        "test_results <- pairwise.t.test(\n",
        "    late_shipments$pack_price,\n",
        "    late_shipments$shipment_mode,\n",
        "    alternative = \"two.sided\",\n",
        "    p.adjust.method = \"none\"\n",
        ")\n",
        "\n",
        "# See the results\n",
        "test_results"
      ],
      "execution_count": null,
      "outputs": []
    },
    {
      "cell_type": "code",
      "metadata": {
        "id": "3JxPA-3qQBvI"
      },
      "source": [
        ""
      ],
      "execution_count": null,
      "outputs": []
    },
    {
      "cell_type": "code",
      "metadata": {
        "id": "k4lUGq4wRkLZ"
      },
      "source": [
        "# Hypothesize that the proportion of late shipments is 6%\n",
        "p_0 <- 0.06\n",
        "\n",
        "# Calculate the sample proportion of late shipments\n",
        "p_hat <- late_shipments %>%\n",
        "  summarize(prop_late = mean(late == \"Yes\")) %>%\n",
        "  pull(prop_late)\n",
        "\n",
        "# Calculate the sample size\n",
        "n <- nrow(late_shipments)"
      ],
      "execution_count": null,
      "outputs": []
    },
    {
      "cell_type": "code",
      "metadata": {
        "id": "4GBUo1JNRkOU"
      },
      "source": [
        "# From previous step\n",
        "p_0 <- 0.06\n",
        "p_hat <- late_shipments %>%\n",
        "  summarize(prop_late = mean(late == \"Yes\")) %>%\n",
        "  pull(prop_late)\n",
        "n <- nrow(late_shipments)\n",
        "\n",
        "# Calculate the numerator of the test statistic\n",
        "numerator <- p_hat - p_0\n",
        "\n",
        "# Calculate the denominator of the test statistic\n",
        "denominator <- sqrt(p_0 * (1 - p_0) / n)\n",
        "\n",
        "# Calculate the test statistic\n",
        "z_score <- numerator / denominator\n",
        "\n",
        "# See the result\n",
        "z_score"
      ],
      "execution_count": null,
      "outputs": []
    },
    {
      "cell_type": "code",
      "metadata": {
        "id": "dAQ8tj67RkQ_"
      },
      "source": [
        "# From previous step\n",
        "p_0 <- 0.06\n",
        "p_hat <- late_shipments %>%\n",
        "  summarize(prop_late = mean(late == \"Yes\")) %>%\n",
        "  pull(prop_late)\n",
        "n <- nrow(late_shipments)\n",
        "numerator <- p_hat - p_0\n",
        "denominator <- sqrt(p_0 * (1 - p_0) / n)\n",
        "z_score <- numerator / denominator\n",
        "\n",
        "# Calculate the p-value from the z-score\n",
        "p_value <- pnorm(z_score, lower.tail=FALSE)\n",
        "\n",
        "# See the result\n",
        "p_value"
      ],
      "execution_count": null,
      "outputs": []
    },
    {
      "cell_type": "code",
      "metadata": {
        "id": "liWmN_2FRkTw"
      },
      "source": [
        ""
      ],
      "execution_count": null,
      "outputs": []
    },
    {
      "cell_type": "code",
      "metadata": {
        "id": "7m5rk3v4k49L"
      },
      "source": [
        "library(infer)\n",
        "\n",
        "stack_overflow %>%\n",
        "  prop_test(\n",
        "    hobbyist ~ age_cat,                     # proportions ~ categories\n",
        "    order = c(\"At least 30\", \"Under 30\"),   # which p-hat to subract\n",
        "    success = \"Yes\",\n",
        "    alternative = \"two-sided\",\n",
        "    correct = FALSE                         # Yates' continuity correction for small samples\n",
        "  )"
      ],
      "execution_count": null,
      "outputs": []
    },
    {
      "cell_type": "code",
      "metadata": {
        "id": "E9U-BZYgk5AC"
      },
      "source": [
        ""
      ],
      "execution_count": null,
      "outputs": []
    },
    {
      "cell_type": "code",
      "metadata": {
        "id": "xJJgXAxsk5C5"
      },
      "source": [
        "# See the sample variables\n",
        "print(p_hats)\n",
        "print(ns)\n",
        "\n",
        "# Calculate the pooled estimate of the population proportion\n",
        "p_hat <- weighted.mean(p_hats, ns)\n",
        "# Or explicitly using \n",
        "# (p_hats[\"reasonable\"] * ns[\"reasonable\"] + p_hats[\"expensive\"] * ns[\"expensive\"]) / (ns[\"reasonable\"] + ns[\"expensive\"])\n",
        "\n",
        "# See the result\n",
        "p_hat"
      ],
      "execution_count": null,
      "outputs": []
    },
    {
      "cell_type": "code",
      "metadata": {
        "id": "6RQPOtW9k5F9"
      },
      "source": [
        "# See the sample variables\n",
        "print(p_hats)\n",
        "print(ns)\n",
        "\n",
        "# Calculate the pooled estimate of the population proportion\n",
        "p_hat <- weighted.mean(p_hats, ns)\n",
        "# Or explicitly using \n",
        "# (p_hats[\"reasonable\"] * ns[\"reasonable\"] + p_hats[\"expensive\"] * ns[\"expensive\"]) / (ns[\"reasonable\"] + ns[\"expensive\"])\n",
        "\n",
        "# See the result\n",
        "p_hat"
      ],
      "execution_count": null,
      "outputs": []
    },
    {
      "cell_type": "code",
      "metadata": {
        "id": "P3SuGrfYRkWc"
      },
      "source": [
        "# From previous steps\n",
        "p_hat <- weighted.mean(p_hats, ns)\n",
        "p_hat_times_not_p_hat <- p_hat * (1 - p_hat)\n",
        "p_hat_times_not_p_hat_over_ns <- p_hat_times_not_p_hat / ns\n",
        "std_error <- sqrt(sum(p_hat_times_not_p_hat_over_ns))\n"
      ],
      "execution_count": null,
      "outputs": []
    },
    {
      "cell_type": "code",
      "metadata": {
        "id": "NoKghFYT7_2d"
      },
      "source": [
        "# From previous steps\n",
        "p_hat <- weighted.mean(p_hats, ns)\n",
        "p_hat_times_not_p_hat <- p_hat * (1 - p_hat)\n",
        "p_hat_times_not_p_hat_over_ns <- p_hat_times_not_p_hat / ns\n",
        "std_error <- sqrt(sum(p_hat_times_not_p_hat_over_ns))\n",
        "z_score <- (p_hats[\"expensive\"] - p_hats[\"reasonable\"]) / std_error\n",
        "\n",
        "# Calculate the p-value from the z-score\n",
        "p_value <- pnorm(z_score, lower.tail = FALSE)\n",
        "\n",
        "# See the result\n",
        "p_value"
      ],
      "execution_count": null,
      "outputs": []
    },
    {
      "cell_type": "code",
      "metadata": {
        "id": "BgqCDpol8uV3"
      },
      "source": [
        ""
      ],
      "execution_count": null,
      "outputs": []
    },
    {
      "cell_type": "code",
      "metadata": {
        "id": "7PvOXHPx8uY0"
      },
      "source": [
        "# Perform a proportion test appropriate to the hypotheses \n",
        "test_results <- late_shipments %>% \n",
        "  prop_test(\n",
        "    late ~ freight_cost_group,\n",
        "    order = c(\"expensive\", \"reasonable\"),\n",
        "    success = \"Yes\",\n",
        "    alternative = \"greater\",\n",
        "    correct = FALSE\n",
        "  )\n",
        "\n",
        "# See the results\n",
        "test_results"
      ],
      "execution_count": null,
      "outputs": []
    },
    {
      "cell_type": "code",
      "metadata": {
        "id": "VIj_YTzG8ucU"
      },
      "source": [
        ""
      ],
      "execution_count": null,
      "outputs": []
    },
    {
      "cell_type": "code",
      "metadata": {
        "id": "0qGewQZh8ueG"
      },
      "source": [
        "library(infer)\n",
        "\n",
        "stack_overflow %>%\n",
        "  chisq_test(age_cat ~ job_sat)"
      ],
      "execution_count": null,
      "outputs": []
    },
    {
      "cell_type": "code",
      "metadata": {
        "id": "JaQjvpXo8ug0"
      },
      "source": [
        ""
      ],
      "execution_count": null,
      "outputs": []
    }
  ]
}