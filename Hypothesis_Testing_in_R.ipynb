{
  "nbformat": 4,
  "nbformat_minor": 0,
  "metadata": {
    "colab": {
      "name": "Hypothesis_Testing_in_R.ipynb",
      "provenance": [],
      "collapsed_sections": [],
      "authorship_tag": "ABX9TyMCBeKhhkCfbHtccVVViHYQ",
      "include_colab_link": true
    },
    "kernelspec": {
      "name": "ir",
      "display_name": "R"
    },
    "language_info": {
      "name": "R"
    }
  },
  "cells": [
    {
      "cell_type": "markdown",
      "metadata": {
        "id": "view-in-github",
        "colab_type": "text"
      },
      "source": [
        "<a href=\"https://colab.research.google.com/github/polaroidz/polaroidz/blob/main/Hypothesis_Testing_in_R.ipynb\" target=\"_parent\"><img src=\"https://colab.research.google.com/assets/colab-badge.svg\" alt=\"Open In Colab\"/></a>"
      ]
    },
    {
      "cell_type": "code",
      "metadata": {
        "colab": {
          "base_uri": "https://localhost:8080/"
        },
        "id": "03bNYGmyeZ47",
        "outputId": "fc4c59e6-e609-4085-81b4-3d0ad0c0bf7b"
      },
      "source": [
        "library(tidyverse)"
      ],
      "execution_count": null,
      "outputs": [
        {
          "output_type": "stream",
          "text": [
            "Warning message in system(\"timedatectl\", intern = TRUE):\n",
            "“running command 'timedatectl' had status 1”\n",
            "── \u001b[1mAttaching packages\u001b[22m ─────────────────────────────────────── tidyverse 1.3.0 ──\n",
            "\n",
            "\u001b[32m✔\u001b[39m \u001b[34mggplot2\u001b[39m 3.3.3     \u001b[32m✔\u001b[39m \u001b[34mpurrr  \u001b[39m 0.3.4\n",
            "\u001b[32m✔\u001b[39m \u001b[34mtibble \u001b[39m 3.1.0     \u001b[32m✔\u001b[39m \u001b[34mdplyr  \u001b[39m 1.0.5\n",
            "\u001b[32m✔\u001b[39m \u001b[34mtidyr  \u001b[39m 1.1.3     \u001b[32m✔\u001b[39m \u001b[34mstringr\u001b[39m 1.4.0\n",
            "\u001b[32m✔\u001b[39m \u001b[34mreadr  \u001b[39m 1.4.0     \u001b[32m✔\u001b[39m \u001b[34mforcats\u001b[39m 0.5.1\n",
            "\n",
            "── \u001b[1mConflicts\u001b[22m ────────────────────────────────────────── tidyverse_conflicts() ──\n",
            "\u001b[31m✖\u001b[39m \u001b[34mdplyr\u001b[39m::\u001b[32mfilter()\u001b[39m masks \u001b[34mstats\u001b[39m::filter()\n",
            "\u001b[31m✖\u001b[39m \u001b[34mdplyr\u001b[39m::\u001b[32mlag()\u001b[39m    masks \u001b[34mstats\u001b[39m::lag()\n",
            "\n"
          ],
          "name": "stderr"
        }
      ]
    },
    {
      "cell_type": "code",
      "metadata": {
        "id": "Vgqpcwhgeu6r"
      },
      "source": [
        ""
      ],
      "execution_count": null,
      "outputs": []
    },
    {
      "cell_type": "code",
      "metadata": {
        "id": "m43Lvdkieu9l"
      },
      "source": [
        "# Hypothesize that the proportion is 6%\n",
        "late_prop_hyp <- 0.06\n",
        "\n",
        "# Calculate the standard error\n",
        "std_error <- late_shipments_boot_distn %>% \n",
        "  summarize(sd_late_prop = sd(late_prop)) %>% \n",
        "  pull(sd_late_prop)\n",
        "\n",
        "# Find z-score of late_prop_samp\n",
        "z_score <- (late_prop_samp - late_prop_hyp) / std_error\n",
        "\n",
        "# See the results\n",
        "z_score"
      ],
      "execution_count": null,
      "outputs": []
    },
    {
      "cell_type": "code",
      "metadata": {
        "id": "kzY_mb2OevAZ"
      },
      "source": [
        ""
      ],
      "execution_count": null,
      "outputs": []
    },
    {
      "cell_type": "code",
      "metadata": {
        "id": "b2Vjgy9OpJLa"
      },
      "source": [
        "# Calculate 95% confidence interval using quantile method\n",
        "conf_int_quantile <- late_shipments_boot_distn %>%\n",
        "  summarize(\n",
        "    lower = quantile(prop_late_shipments, 0.025),\n",
        "    upper = quantile(prop_late_shipments, 0.975)\n",
        "  )\n",
        "\n",
        "# See the result\n",
        "conf_int_quantile"
      ],
      "execution_count": null,
      "outputs": []
    },
    {
      "cell_type": "code",
      "metadata": {
        "id": "B-G2msVopJN4"
      },
      "source": [
        ""
      ],
      "execution_count": null,
      "outputs": []
    },
    {
      "cell_type": "code",
      "metadata": {
        "id": "nQFsM14bpJQn"
      },
      "source": [
        "# Calculate the numerator of the test statistic\n",
        "numerator <- xbar_no - xbar_yes\n",
        "\n",
        "# Calculate the denominator of the test statistic\n",
        "denominator <- sqrt(s_no ^ 2 / n_no + s_yes ^ 2 / n_yes)\n",
        "\n",
        "# Calculate the test statistic\n",
        "t_stat <- numerator / denominator\n",
        "\n",
        "# See the result\n",
        "t_stat"
      ],
      "execution_count": null,
      "outputs": []
    },
    {
      "cell_type": "code",
      "metadata": {
        "id": "4HqW_1pOpJSv"
      },
      "source": [
        ""
      ],
      "execution_count": null,
      "outputs": []
    },
    {
      "cell_type": "code",
      "metadata": {
        "id": "dbIh1SC8rtNj"
      },
      "source": [
        "# Calculate the degrees of freedom\n",
        "degrees_of_freedom <- n_no + n_yes - 2\n",
        "\n",
        "# Calculate the p-value from the test stat\n",
        "p_value <- pt(t_stat, df = degrees_of_freedom)\n",
        "\n",
        "# See the result\n",
        "p_value"
      ],
      "execution_count": null,
      "outputs": []
    },
    {
      "cell_type": "code",
      "metadata": {
        "id": "i9HhxNNjrtQa"
      },
      "source": [
        ""
      ],
      "execution_count": null,
      "outputs": []
    },
    {
      "cell_type": "code",
      "metadata": {
        "id": "Dmcw4Z0ZrtTG"
      },
      "source": [
        "# View the dem_votes_potus_12_16 dataset\n",
        "View(dem_votes_potus_12_16)\n",
        "\n",
        "# Calculate the differences from 2012 to 2016\n",
        "sample_dem_data <- dem_votes_potus_12_16 %>% \n",
        "  mutate(diff = dem_percent_12 - dem_percent_16)\n",
        "\n",
        "# See the result\n",
        "sample_dem_data"
      ],
      "execution_count": null,
      "outputs": []
    },
    {
      "cell_type": "code",
      "metadata": {
        "id": "YmEQAPukrtVm"
      },
      "source": [
        ""
      ],
      "execution_count": null,
      "outputs": []
    },
    {
      "cell_type": "code",
      "metadata": {
        "id": "aEzM8xZ9NCom"
      },
      "source": [
        "diff_stats <- sample_dem_data %>%\n",
        "  summarize(\n",
        "    xbar_diff = mean(diff),\n",
        "    s_siff = sd(diff) \n",
        "  )"
      ],
      "execution_count": null,
      "outputs": []
    },
    {
      "cell_type": "code",
      "metadata": {
        "id": "alPT3-WrNCra"
      },
      "source": [
        "# From previous step\n",
        "sample_dem_data <- dem_votes_potus_12_16 %>% \n",
        "  mutate(diff = dem_percent_12 - dem_percent_16)\n",
        "\n",
        "# Using sample_dem_data, plot diff as a histogram\n",
        "ggplot(sample_dem_data, aes(x = diff)) +\n",
        "  geom_histogram(binwidth = 1)\n"
      ],
      "execution_count": null,
      "outputs": []
    },
    {
      "cell_type": "code",
      "metadata": {
        "id": "4lBGWtkYNCuM"
      },
      "source": [
        "# Conduct a t-test on diff\n",
        "test_results <- t.test(sample_dem_data$diff, alternative = \"greater\", mu = 0)\n",
        "\n",
        "# See the results\n",
        "test_results"
      ],
      "execution_count": null,
      "outputs": []
    },
    {
      "cell_type": "code",
      "metadata": {
        "colab": {
          "base_uri": "https://localhost:8080/",
          "height": 34
        },
        "id": "bCQLLInUNCwX",
        "outputId": "cbd22a36-1b6c-4d4f-a504-325a2d1d582b"
      },
      "source": [
        "p.adjust.methods"
      ],
      "execution_count": null,
      "outputs": [
        {
          "output_type": "display_data",
          "data": {
            "text/plain": [
              "[1] \"holm\"       \"hochberg\"   \"hommel\"     \"bonferroni\" \"BH\"        \n",
              "[6] \"BY\"         \"fdr\"        \"none\"      "
            ],
            "text/latex": "\\begin{enumerate*}\n\\item 'holm'\n\\item 'hochberg'\n\\item 'hommel'\n\\item 'bonferroni'\n\\item 'BH'\n\\item 'BY'\n\\item 'fdr'\n\\item 'none'\n\\end{enumerate*}\n",
            "text/markdown": "1. 'holm'\n2. 'hochberg'\n3. 'hommel'\n4. 'bonferroni'\n5. 'BH'\n6. 'BY'\n7. 'fdr'\n8. 'none'\n\n\n",
            "text/html": [
              "<style>\n",
              ".list-inline {list-style: none; margin:0; padding: 0}\n",
              ".list-inline>li {display: inline-block}\n",
              ".list-inline>li:not(:last-child)::after {content: \"\\00b7\"; padding: 0 .5ex}\n",
              "</style>\n",
              "<ol class=list-inline><li>'holm'</li><li>'hochberg'</li><li>'hommel'</li><li>'bonferroni'</li><li>'BH'</li><li>'BY'</li><li>'fdr'</li><li>'none'</li></ol>\n"
            ]
          },
          "metadata": {
            "tags": []
          }
        }
      ]
    },
    {
      "cell_type": "code",
      "metadata": {
        "id": "tJnv-GqFrtYQ"
      },
      "source": [
        "# Using late_shipments, group by shipment mode, and \n",
        "# calculate the mean and std dev of pack price\n",
        "late_shipments %>%\n",
        "    group_by(shipment_mode) %>%\n",
        "    summarize(\n",
        "        xbar_pack_price = mean(pack_price),\n",
        "        s_pack_price = sd(pack_price)\n",
        "    )"
      ],
      "execution_count": null,
      "outputs": []
    },
    {
      "cell_type": "code",
      "metadata": {
        "id": "-Ha8VXkiQBfI"
      },
      "source": [
        ""
      ],
      "execution_count": null,
      "outputs": []
    },
    {
      "cell_type": "code",
      "metadata": {
        "id": "dVSYjjHHQBh-"
      },
      "source": [
        "# Using late_shipments, plot pack_price vs. shipment_mode\n",
        "# as a box plot with flipped x and y coordinates\n",
        "ggplot(late_shipments, aes(x = shipment_mode, y = pack_price)) +\n",
        "  geom_boxplot() +\n",
        "  coord_flip()"
      ],
      "execution_count": null,
      "outputs": []
    },
    {
      "cell_type": "markdown",
      "metadata": {
        "id": "7v4YoyPSQl9L"
      },
      "source": [
        "![image.png](data:image/png;base64,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)"
      ]
    },
    {
      "cell_type": "code",
      "metadata": {
        "id": "kFoiZbD4QBkp"
      },
      "source": [
        ""
      ],
      "execution_count": null,
      "outputs": []
    },
    {
      "cell_type": "code",
      "metadata": {
        "id": "YeyXPJC3QBnP"
      },
      "source": [
        "# Run a linear regression of pack price vs. shipment mode \n",
        "mdl_pack_price_vs_shipment_mode <- lm(\n",
        "    pack_price ~ shipment_mode, \n",
        "    data = late_shipments\n",
        ")\n",
        "\n",
        "# See the results\n",
        "summary(mdl_pack_price_vs_shipment_mode)"
      ],
      "execution_count": null,
      "outputs": []
    },
    {
      "cell_type": "code",
      "metadata": {
        "id": "NWEy9RglQBp0"
      },
      "source": [
        "# From previous step\n",
        "mdl_pack_price_vs_shipment_mode <- lm(pack_price ~ shipment_mode, data = late_shipments)\n",
        "\n",
        "# Perform ANOVA on the regression model\n",
        "anova(mdl_pack_price_vs_shipment_mode)"
      ],
      "execution_count": null,
      "outputs": []
    },
    {
      "cell_type": "code",
      "metadata": {
        "id": "0PmVeMUuQBse"
      },
      "source": [
        "# Perform pairwise t-tests on pack price, grouped by\n",
        "# shipment mode, no p-value adjustment\n",
        "test_results <- pairwise.t.test(\n",
        "    late_shipments$pack_price,\n",
        "    late_shipments$shipment_mode,\n",
        "    alternative = \"two.sided\",\n",
        "    p.adjust.method = \"none\"\n",
        ")\n",
        "\n",
        "# See the results\n",
        "test_results"
      ],
      "execution_count": null,
      "outputs": []
    },
    {
      "cell_type": "code",
      "metadata": {
        "id": "3JxPA-3qQBvI"
      },
      "source": [
        ""
      ],
      "execution_count": null,
      "outputs": []
    },
    {
      "cell_type": "code",
      "metadata": {
        "id": "k4lUGq4wRkLZ"
      },
      "source": [
        "# Hypothesize that the proportion of late shipments is 6%\n",
        "p_0 <- 0.06\n",
        "\n",
        "# Calculate the sample proportion of late shipments\n",
        "p_hat <- late_shipments %>%\n",
        "  summarize(prop_late = mean(late == \"Yes\")) %>%\n",
        "  pull(prop_late)\n",
        "\n",
        "# Calculate the sample size\n",
        "n <- nrow(late_shipments)"
      ],
      "execution_count": null,
      "outputs": []
    },
    {
      "cell_type": "code",
      "metadata": {
        "id": "4GBUo1JNRkOU"
      },
      "source": [
        "# From previous step\n",
        "p_0 <- 0.06\n",
        "p_hat <- late_shipments %>%\n",
        "  summarize(prop_late = mean(late == \"Yes\")) %>%\n",
        "  pull(prop_late)\n",
        "n <- nrow(late_shipments)\n",
        "\n",
        "# Calculate the numerator of the test statistic\n",
        "numerator <- p_hat - p_0\n",
        "\n",
        "# Calculate the denominator of the test statistic\n",
        "denominator <- sqrt(p_0 * (1 - p_0) / n)\n",
        "\n",
        "# Calculate the test statistic\n",
        "z_score <- numerator / denominator\n",
        "\n",
        "# See the result\n",
        "z_score"
      ],
      "execution_count": null,
      "outputs": []
    },
    {
      "cell_type": "code",
      "metadata": {
        "id": "dAQ8tj67RkQ_"
      },
      "source": [
        "# From previous step\n",
        "p_0 <- 0.06\n",
        "p_hat <- late_shipments %>%\n",
        "  summarize(prop_late = mean(late == \"Yes\")) %>%\n",
        "  pull(prop_late)\n",
        "n <- nrow(late_shipments)\n",
        "numerator <- p_hat - p_0\n",
        "denominator <- sqrt(p_0 * (1 - p_0) / n)\n",
        "z_score <- numerator / denominator\n",
        "\n",
        "# Calculate the p-value from the z-score\n",
        "p_value <- pnorm(z_score, lower.tail=FALSE)\n",
        "\n",
        "# See the result\n",
        "p_value"
      ],
      "execution_count": null,
      "outputs": []
    },
    {
      "cell_type": "code",
      "metadata": {
        "id": "liWmN_2FRkTw"
      },
      "source": [
        ""
      ],
      "execution_count": null,
      "outputs": []
    },
    {
      "cell_type": "code",
      "metadata": {
        "id": "7m5rk3v4k49L"
      },
      "source": [
        "library(infer)\n",
        "\n",
        "stack_overflow %>%\n",
        "  prop_test(\n",
        "    hobbyist ~ age_cat,                     # proportions ~ categories\n",
        "    order = c(\"At least 30\", \"Under 30\"),   # which p-hat to subract\n",
        "    success = \"Yes\",\n",
        "    alternative = \"two-sided\",\n",
        "    correct = FALSE                         # Yates' continuity correction for small samples\n",
        "  )"
      ],
      "execution_count": null,
      "outputs": []
    },
    {
      "cell_type": "code",
      "metadata": {
        "id": "E9U-BZYgk5AC"
      },
      "source": [
        ""
      ],
      "execution_count": null,
      "outputs": []
    },
    {
      "cell_type": "code",
      "metadata": {
        "id": "xJJgXAxsk5C5"
      },
      "source": [
        "# See the sample variables\n",
        "print(p_hats)\n",
        "print(ns)\n",
        "\n",
        "# Calculate the pooled estimate of the population proportion\n",
        "p_hat <- weighted.mean(p_hats, ns)\n",
        "# Or explicitly using \n",
        "# (p_hats[\"reasonable\"] * ns[\"reasonable\"] + p_hats[\"expensive\"] * ns[\"expensive\"]) / (ns[\"reasonable\"] + ns[\"expensive\"])\n",
        "\n",
        "# See the result\n",
        "p_hat"
      ],
      "execution_count": null,
      "outputs": []
    },
    {
      "cell_type": "code",
      "metadata": {
        "id": "6RQPOtW9k5F9"
      },
      "source": [
        "# See the sample variables\n",
        "print(p_hats)\n",
        "print(ns)\n",
        "\n",
        "# Calculate the pooled estimate of the population proportion\n",
        "p_hat <- weighted.mean(p_hats, ns)\n",
        "# Or explicitly using \n",
        "# (p_hats[\"reasonable\"] * ns[\"reasonable\"] + p_hats[\"expensive\"] * ns[\"expensive\"]) / (ns[\"reasonable\"] + ns[\"expensive\"])\n",
        "\n",
        "# See the result\n",
        "p_hat"
      ],
      "execution_count": null,
      "outputs": []
    },
    {
      "cell_type": "code",
      "metadata": {
        "id": "P3SuGrfYRkWc"
      },
      "source": [
        "# From previous steps\n",
        "p_hat <- weighted.mean(p_hats, ns)\n",
        "p_hat_times_not_p_hat <- p_hat * (1 - p_hat)\n",
        "p_hat_times_not_p_hat_over_ns <- p_hat_times_not_p_hat / ns\n",
        "std_error <- sqrt(sum(p_hat_times_not_p_hat_over_ns))\n"
      ],
      "execution_count": null,
      "outputs": []
    },
    {
      "cell_type": "code",
      "metadata": {
        "id": "NoKghFYT7_2d"
      },
      "source": [
        "# From previous steps\n",
        "p_hat <- weighted.mean(p_hats, ns)\n",
        "p_hat_times_not_p_hat <- p_hat * (1 - p_hat)\n",
        "p_hat_times_not_p_hat_over_ns <- p_hat_times_not_p_hat / ns\n",
        "std_error <- sqrt(sum(p_hat_times_not_p_hat_over_ns))\n",
        "z_score <- (p_hats[\"expensive\"] - p_hats[\"reasonable\"]) / std_error\n",
        "\n",
        "# Calculate the p-value from the z-score\n",
        "p_value <- pnorm(z_score, lower.tail = FALSE)\n",
        "\n",
        "# See the result\n",
        "p_value"
      ],
      "execution_count": null,
      "outputs": []
    },
    {
      "cell_type": "code",
      "metadata": {
        "id": "BgqCDpol8uV3"
      },
      "source": [
        ""
      ],
      "execution_count": null,
      "outputs": []
    },
    {
      "cell_type": "code",
      "metadata": {
        "id": "7PvOXHPx8uY0"
      },
      "source": [
        "# Perform a proportion test appropriate to the hypotheses \n",
        "test_results <- late_shipments %>% \n",
        "  prop_test(\n",
        "    late ~ freight_cost_group,\n",
        "    order = c(\"expensive\", \"reasonable\"),\n",
        "    success = \"Yes\",\n",
        "    alternative = \"greater\",\n",
        "    correct = FALSE\n",
        "  )\n",
        "\n",
        "# See the results\n",
        "test_results"
      ],
      "execution_count": null,
      "outputs": []
    },
    {
      "cell_type": "code",
      "metadata": {
        "id": "VIj_YTzG8ucU"
      },
      "source": [
        ""
      ],
      "execution_count": null,
      "outputs": []
    },
    {
      "cell_type": "code",
      "metadata": {
        "id": "0qGewQZh8ueG"
      },
      "source": [
        "library(infer)\n",
        "\n",
        "stack_overflow %>%\n",
        "  chisq_test(age_cat ~ job_sat)"
      ],
      "execution_count": null,
      "outputs": []
    },
    {
      "cell_type": "code",
      "metadata": {
        "id": "JaQjvpXo8ug0"
      },
      "source": [
        ""
      ],
      "execution_count": null,
      "outputs": []
    },
    {
      "cell_type": "code",
      "metadata": {
        "id": "fZ5elxZBL5Om"
      },
      "source": [
        ""
      ],
      "execution_count": null,
      "outputs": []
    },
    {
      "cell_type": "code",
      "metadata": {
        "id": "Gt_ATjWsL5RM"
      },
      "source": [
        "# Plot vendor_inco_term filled by freight_cost_group.\n",
        "# Make it a proportional stacked bar plot.\n",
        "ggplot(late_shipments, aes(x = vendor_inco_term, fill = freight_cost_group)) +\n",
        "    geom_bar(position = \"fill\")"
      ],
      "execution_count": null,
      "outputs": []
    },
    {
      "cell_type": "markdown",
      "metadata": {
        "id": "Hnl7ClhAL6lR"
      },
      "source": [
        "![image.png](data:image/png;base64,iVBORw0KGgoAAAANSUhEUgAAAoAAAAKACAYAAAAMzckjAAAgAElEQVR4Ae2de6xtVXX/TU011f7lqzZNbFJj1fhWfFRFfCEmWmsVxBIUjSJoa1AIIk+1vHygGEMJamvFahV5XqPN1daqBR/UWmrwUbBasAiCXO4VLpfL685f5vq5N2evNce6e+wxx5xrrf05yeGcNdYce6z1/Y41vl/mPufcewU+QAAEQAAEQAAEQAAE1gqBe63V3XKzIAACIAACIAACIAACAQNIE4AACIAACIAACIDAmiGAAVwzwrldEAABEAABEAABEMAA0gMgAAIgAAIgAAIgsGYIjNIAbt++PfD5/zG4/fbbw6233goeI+6JHTt2hMgjPT3u53rnzp0hcgmP4+UxzlKexUX+1swTrdXtjtIA/upXvwp8/n8M7rrrrrBt2zbwGHFP/PrXvw533nknHI6YwziPonG4+eab4XHEPN50003h7rvvhsMNHK6VI1qzm8UAbmj0MZpKDOD4/2cAAzh+DjGA0+AQA9jlcc080VrdLgYQA8j/7VbuAQxgV3TG+D9j7ACOn0cMYJfDtXJEa3azGMDK4m8VOnYAuwPLimnpfAzg+DmMPYMBHD+PGMAuh2vmidbqdjGAGEB2ACv3AAawKzqlTXiOehjA8fOIAexyuFaOaM1uFgNYWfytwsMOYHdgWTEtnY8BHD+HsWcwgOPnEQPY5XDNPNFa3S4GEAPIDmDlHsAAdkWntAnPUQ8DOH4eMYBdDtfKEa3ZzWIAK4u/VXjYAewOLCumpfMxgOPnMPYMBnD8PGIAuxyumSdaq9vFAGIA2QGs3AMYwK7olDbhOephAMfPIwawy+FaOaI1u1kMYGXxtwoPO4DdgWXFtHQ+BnD8HMaewQCOn0cMYJfDNfNEa3W7GEAMIDuAlXsAA9gVndImPEc9DOD4ecQAdjlcK0e0ZjeLAaws/lbhYQewO7CsmJbOxwCOn8PYMxjA8fOIAexyuGaeaK1uFwOIAWQHsHIPYAC7olPahOeohwEcP48YwC6Ha+WI1uxmMYCVxd8qPOwAdgeWFdPS+RjA8XMYewYDOH4eMYBdDtfME63V7WIAMYDsAFbuAQxgV3RKm/Ac9TCA4+cRA9jlcK0c0ZrdLAawsvhbhYcdwO7AsmJaOh8DOH4OY89gAMfPIwawy+GaeaK1ul0MIAaQHcDKPYAB7IpOaROeox4GcPw8YgC7HK6VI1qzm8UAVhZ/q/CwA9gdWFZMS+djAMfPYewZDOD4ecQAdjlcM0+0VreLAcQAsgNYuQcwgF3RKW3Cc9TDAI6fRwxgl8O1ckRrdrMYwMribxUedgC7A8uKael8DOD4OYw9gwEcP48YwC6Ha+aJ1up2MYAYQHYAK/cABrArOqVNeI56GMDx84gB7HK4Vo5ozW4WA1hZ/K3Cww5gd2BZMS2djwEcP4exZzCA4+cRA9jlcM080VrdLgYQA8gOYOUewAB2Rae0Cc9RDwM4fh4xgF0O18oRrdnNZjWAcTfqyCOPDPvvv3/4l3/5FxHKTZs2hRNOOCEcf/zx4dprr52vk+LzBb/5JsewnsprsAPYHVhj4xYDOH4OY89hAMfPIwawy2FbfzmeDgJZDeCuXbvCli1bwuc+9znRAN54442NSYxrr7zyynDKKac0aErxFNRjE3jP68UAdgeWJ94er40BHD+HsS8wgOPnEQPY5TClwcSmgUBWAziDpM8AXnLJJeHss8+eLQ2HHHJI870Uny/c8I2HCI/1NTGA3YE1Ni4xgOPnEAM4DQ4xgF0eN0gv304MgeIGcPPmzeHcc8+dw3jwwQc330vxePKXv/xlOOqoo5rP+Dbxzp07+fwNBnEn9Y477gCPEfdE5C/ySF+P+7m+++67eRZH/BzG5y/u4vIsLj6Hc7Hmm8khUNwASjt9UjwiHndIzj///Obz+9//frjlllvMnzvf8dbA5/Aw0HALf8PjL3Ki4TCuhcfx8wiH4+dQem4n53q4oTkCRQxg/D+qrVu3NkXjzwjGXxSJsSuuuCKceuqpvfH5lW74JsdbfAysYQ4sDbdwOH4OI9/wOH4e4XD8HEqzd4P08u3EEMhuAN/73veG+LbuW97ylvDRj360gWv79u3h0EMPnUMX38Y97rjjms/2bwGn4vPE33wjNaomzsAa/8CCw/FziAEcJofx2WKeDpebZWefhkNpbVt/OZ4OAtkNYAlopEbVxJd9gFhXdgjCYVm8Pfpbw2Fc63ENvKa9jzQ8grcdbw8MNRxKa0toOjXqIIAB5GcBByXA0hBKxT0GJq9pF7IUV30xMLdj7oFhH2ftcx71eU17X7R5WuW4jjWhagkEMIAYQAwgPZC1B7Qig9Dbhd4DQw2PHvV5TXtfaDiU1pYwItSogwAGEPHPKv7WoS0NoVTcWot8u8CkMExx1RdLvQYxH240uPZx1j6neV3WluO2zdMqx3WsCVVLIIABxABiAOmBrD2gFRkMQTlDoMFaw6PmdVlbjm8Nh9LaEkaEGnUQwAAi/lnF3zrcpSGUiltrke8jRCmu+mLw4MODFdc+ztrnrLXI9+mBNk+rHNexJlQtgQAGEAOIAaQHsvaAVmQQfx/xt+Kq4dFai3yfHtBwKK0tYUSoUQcBDCDin1X8rYNcGkKpuLUW+cMQHXjw4cGKa+qZk2LWWuT79IDElyZex5pQtQQCGEAMIAaQHsjaAxpxiWsRfx/xt+Kq4dFai3yfHtBwKK0tYUSoUQcBDCDiPygBloZQKo5o+IiGFdcUV30xaz3yffqgj7P2OTjw4cCKa5unVY7rWBOqlkAAA4gBxADSA1l7QCsyVpEj38d8aHiEAx8OrLhqOJTWljAi1KiDAAYQ8c8q/iUHlrUW+T6iJQmJFIcHHx6suEp8peLWWuT79ECKK22sjjWhagkEMIAYQAwgPZC1B7QCg/j7iL8VVw2P1lrk+/SAhkNpbQkjQo06CGAAEf+s4m8d5NIQSsWttcgfhujAgw8PVlxTz5wUs9Yi36cHJL408TrWhKolEMAAYgAxgPRA1h7QiEtci/j7iL8VVw2P1lrk+/SAhkNpbQkjQo06CGAAEf9BCbA0hFJxRMNHNKy4prjqi1nrke/TB32ctc/BgQ8HVlzbPK1yXMeaULUEAhhADCAGkB7I2gNakbGKHPk+5kPDIxz4cGDFVcOhtLaEEaFGHQQwgIh/VvEvObCstcj3ES1JSKQ4PPjwYMVV4isVt9Yi36cHUlxpY3WsCVVLIIABxABiAOmBrD2gFRjE30f8rbhqeLTWIt+nBzQcSmtLGBFq1EEAA4j4ZxV/6yCXhlAqbq1F/jBEBx58eLDimnrmpJi1Fvk+PSDxpYnXsSZULYEABhADiAGkB7L2gEZc4lrE30f8rbhqeLTWIt+nBzQcSmtLGBFq1EEAA4j4D0qApSGUiiMaPqJhxTXFVV/MWo98nz7o46x9Dg58OLDi2uZpleM61oSqJRDAAGIAMYD0QNYe0IqMVeTI9zEfGh7hwIcDK64aDqW1JYwINeoggAFE/LOKf8mBZa1Fvo9oSUIixeHBhwcrrhJfqbi1Fvk+PZDiShurY02oWgIBDCAGEANID2TtAa3AIP4+4m/FVcOjtRb5Pj2g4VBaW8KIUKMOAhhAxD+r+FsHuTSEUnFrLfKHITrw4MODFdfUMyfFrLXI9+kBiS9NvI41oWoJBDCAGEAMID2QtQc04hLXIv4+4m/FVcOjtRb5Pj2g4VBaW8KIUKMOAhhAxH9QAiwNoVQc0fARDSuuKa76YtZ65Pv0QR9n7XNw4MOBFdc2T6sc17EmVC2BAAYQA4gBpAey9oBWZKwiR76P+dDwCAc+HFhx1XAorS1hRKhRBwEMIOKfVfxLDixrLfJ9REsSEikODz48WHGV+ErFrbXI9+mBFFfaWB1rQtUSCGAAMYAYQHogaw9oBQbx9xF/K64aHq21yPfpAQ2H0toSRoQadRDAACL+WcXfOsilIZSKW2uRPwzRgQcfHqy4pp45KWatRb5PD0h8aeJ1rAlVSyCAAcQAYgDpgaw9oBGXuBbx9xF/K64aHq21yPfpAQ2H0toSRoQadRDAACL+gxJgaQil4oiGj2hYcU1x1Rez1iPfpw/6OGufgwMfDqy4tnla5biONaFqCQQwgBhADCA9kLUHtCJjFTnyfcyHhkc48OHAiquGQ2ltCSNCjToIYAAR/6ziX3JgWWuR7yNakpBIcXjw4cGKq8RXKm6tRb5PD6S40sbqWBOqlkAAA4gBxADSA1l7QCswiL+P+Ftx1fBorUW+Tw9oOJTWljAi1KiDAAYQ8c8q/tZBLg2hVNxai/xhiA48+PBgxTX1zEkxay3yfXpA4ksTr2NNqFoCAQwgBhADSA9k7QGNuMS1iL+P+Ftx1fBorUW+Tw9oOJTWljAi1KiDAAYQ8R+UAEtDKBVHNHxEw4priqu+mLUe+T590MdZ+xwc+HBgxbXN0yrHdawJVUsggAHEAGIA6YGsPaAVGavIke9jPjQ8woEPB1ZcNRxKa0sYEWrUQQADiPhnFf+SA8tai3wf0ZKERIrDgw8PVlwlvlJxay3yfXogxZU2VseaULUEAhhADCAGkB7I2gNagUH8fcTfiquGR2st8n16QMOhtLaEEaFGHQQwgIh/VvG3DnJpCKXi1lrkD0N04MGHByuuqWdOillrke/TAxJfmngda0LVEghgADGAGEB6IGsPaMQlrkX8fcTfiquGR2st8n16QMOhtLaEEaFGHQQwgIj/oARYGkKpOKLhIxpWXFNc9cWs9cj36YM+ztrn4MCHAyuubZ5WOa5jTahaAgEMIAYQA0gPZO0BrchYRY58H/Oh4REOfDiw4qrhUFpbwohQow4CGEDEP6v4lxxY1lrk+4iWJCRSHB58eLDiKvGViltrke/TAymutLE61oSqJRDAAGIAMYD0QNYe0AoM4u8j/lZcNTxaa5Hv0wMaDqW1JYwINeoggAFE/LOKv3WQS0MoFbfWIn8YogMPPjxYcU09c1LMWot8nx6Q+NLE61gTqpZAAAOIAcQA0gNZe0AjLnEt4u8j/lZcNTxaa5Hv0wMaDqW1JYwINeoggAFE/AclwNIQSsURDR/RsOKa4qovZq1Hvk8f9HHWPgcHPhxYcW3ztMpxHWtC1RIIYAAxgBhAeiBrD2hFxipy5PuYDw2PcODDgRVXDYfS2hJGhBp1EMAAIv5Zxb/kwLLWIt9HtCQhkeLw4MODFVeJr1TcWot8nx5IcaWN1bEmVC2BAAYQA4gBpAey9oBWYBB/H/G34qrh0VqLfJ8e0HAorS1hRKhRBwEMIOKfVfytg1waQqm4tRb5wxAdePDhwYpr6pmTYtZa5Pv0gMSXJl7HmlC1BAIYQAwgBpAeyNoDGnGJaxF/H/G34qrh0VqLfJ8e0HAorS1hRKhRBwEMIOI/KAGWhlAqjmj4iIYV1xRXfTFrPfJ9+qCPs/Y5OPDhwIprm6dVjutYE6qWQAADiAHEANIDWXtAKzJWkSPfx3xoeIQDHw6suGo4lNaWMCLUqIMABhDxzyr+JQeWtRb5PqIlCYkUhwcfHqy4Snyl4tZa5Pv0QIorbayONaFqCQQwgBhADCA9kLUHtAKD+PuIvxVXDY/WWuT79ICGQ2ltCSNCjToIYAAR/6zibx3k0hBKxa21yB+G6MCDDw9WXFPPnBSz1iLfpwckvjTxOtaEqiUQwABiADGA9EDWHtCIS1yL+PuIvxVXDY/WWuT79ICGQ2ltCSNCjToIYAAR/0EJsDSEUnFEw0c0rLimuOqLWeuR79MHfZy1z8GBDwdWXNs8rXJcx5pQtQQCGEAMIAaQHsjaA1qRsYoc+T7mQ8MjHPhwYMVVw6G0toQRoUYdBEZpAHfs2BGsn9YHi3yfgafhFQ58OLDiquEwrrXWI9+nDzQ8woEPB1ZcNRxKa+tYE6qWQGCUBlD6PxVN3Ppgke8z8ODQB9eS/arhMK4teW3UWr6/NDyC6/K4lsRKw6G0toQRoUYdBDCAvP03KAGWhlAqXnKQUmt5gUtx1RcD2+WxLYlVH2ftcyWvi1rL90ubp1WO61gTqpZAAAOIAcQA0gNZe0ArMgj68oJeEisNjyWvi1rL94uGQ2ltCSNCjToIYAAR/6zibx3O0hBKxa21yF9eSDRYpbjqi2lem7U+nKVw7eOsfS6VT6wcVxLWbZ5WOa5jTahaAgEMIAYQA0gPZO0BrchI4kW8roHQ8AhXdbmS8NdwKK0tYUSoUQcBDCDin1X8pUG0bFwaQqn4sq/JurLilOKqLwY/ZflZFu8+ztrnln1N1pXlus3TKsd1rAlVSyCAAcQAYgDpgaw9oBUZTEFZU7As3hoel31N1pXlWsOhtLaEEaFGHQQwgIh/VvG3DnhpCKXi1lrk+4hRiqu+GDz48GDFtY+z9jlrLfJ9eqDN0yrHdawJVUsggAHEAGIA6YGsPaAVGcTfR/ytuGp4tNYi36cHNBxKa0sYEWrUQQADiPhnFX/rIJeGUCpurUX+MEQHHnx4sOKaeuakmLUW+T49IPGlidexJlQtgQAGEAOIAaQHsvaARlziWsTfR/ytuGp4tNYi36cHNBxKa0sYEWrUQQADiPgPSoClIZSKIxo+omHFNcVVX8xaj3yfPujjrH0ODnw4sOLa5mmV4zrWhKolEMAAYgAxgPRA1h7QioxV5Mj3MR8aHuHAhwMrrhoOpbUljAg16iCAAUT8s4p/yYFlrUW+j2hJQiLF4cGHByuuEl+puLUW+T49kOJKG6tjTahaAgEMIAYQA0gPZO0BrcAg/j7ib8VVw6O1Fvk+PaDhUFpbwohQow4CGEDEP6v4Wwe5NIRScWst8ochOvDgw4MV19QzJ8Wstcj36QGJL028jjWhagkEMIAYQAwgPZC1BzTiEtci/j7ib8VVw6O1Fvk+PaDhUFpbwohQow4CGEDEf1ACLA2hVBzR8BENK64prvpi1nrk+/RBH2ftc3Dgw4EV1zZPqxzXsSZULYEABhADiAGkB7L2gFZkrCJHvo/50PAIBz4cWHHVcCitLWFEqFEHAQwg4p9V/EsOLGst8n1ESxISKQ4PPjxYcZX4SsWttcj36YEUV9pYHWtC1RIIYAAxgBhAeiBrD2gFBvH3EX8rrhoerbXI9+kBDYfS2hJGhBp1EMAAIv5Zxd86yKUhlIpba5E/DNGBBx8erLimnjkpZq1Fvk8PSHxp4nWsCVVLIIABxABiAOmBrD2gEZe4FvH3EX8rrhoerbXI9+kBDYfS2hJGhBp1EMAAIv6DEmBpCKXiiIaPaFhxTXHVF7PWI9+nD/o4a5+DAx8OrLi2eVrluI41oWoJBDCAGEAMID2QtQe0ImMVOfJ9zIeGRzjw4cCKq4ZDaW0JI0KNOghgABH/rOJfcmBZa5HvI1qSkEhxePDhwYqrxFcqbq1Fvk8PpLjSxupYE6qWQAADiAHEANIDWXtAKzCIv4/4W3HV8GitRb5PD2g4lNaWMCLUqIMABhDxzyr+1kEuDaFU3FqL/GGIDjz48GDFNfXMSTFrLfJ9ekDiSxOvY02oWgIBDCAGEANID2TtAY24xLWIv4/4W3HV8GitRb5PD2g4lNaWMCLUqIMABhDxH5QAS0MoFUc0fETDimuKq76YtR75Pn3Qx1n7HBz4cGDFtc3TKsd1rAlVSyCAAcQAYgDpgaw9oBUZq8iR72M+NDzCgQ8HVlw1HEprSxgRatRBAAOI+GcV/5IDy1qLfB/RkoREisODDw9WXCW+UnFrLfJ9eiDFlTZWx5pQtQQCGEAMIAaQHsjaA1qBQfx9xN+Kq4ZHay3yfXpAw6G0toQRoUYdBDCAiH9W8bcOcmkIpeLWWuQPQ3TgwYcHK66pZ06KWWuR79MDEl+aeB1rQtUSCGAAMYAYQHogaw9oxCWuRfx9xN+Kq4ZHay3yfXpAw6G0toQRoUYdBDCAiP+gBFgaQqk4ouEjGlZcU1z1xaz1yPfpgz7O2ufgwIcDK65tnlY5rmNNqFoCAQwgBhADSA9k7QGtyFhFjnwf86HhEQ58OLDiquFQWlvCiFCjDgIYQMQ/q/iXHFjWWuT7iJYkJFIcHnx4sOIq8ZWKW2uR79MDKa60sTrWhKolEMAAYgAxgPRA1h7QCgzi7yP+Vlw1PFprke/TAxoOpbUljAg16iCAAUT8s4q/dZBLQygVt9YifxiiAw8+PFhxTT1zUsxai3yfHpD40sTrWBOqlkAAA4gBxADSA1l7QCMucS3i7yP+Vlw1PFprke/TAxoOpbUljAg16iCAAUT8ByXA0hBKxRENH9Gw4priqi9mrUe+Tx/0cdY+Bwc+HFhxbfO0ynEda0LVEghgADGAGEB6IGsPaEXGKnLk+5gPDY9w4MOBFVcNh9LaEkaEGnUQwAAi/lnFv+TAstYi30e0JCGR4vDgw4MVV4mvVNxai3yfHkhxpY3VsSZULYEABhADiAGkB7L2gFZgEH8f8bfiquHRWot8nx7QcCitLWFEqFEHAQwg4p9V/K2DXBpCqbi1FvnDEB148OHBimvqmZNi1lrk+/SAxJcmXseaULUEAhhADCAGkB7I2gMacYlrEX8f8bfiquHRWot8nx7QcCitLWFEqFEHAQwg4j8oAZaGUCqOaPiIhhXXFFd9MWs98n36oI+z9jk48OHAimubp1WO61gTqpZAAAOIAcQA0gNZe0ArMlaRI9/HfGh4hAMfDqy4ajiU1pYwItSogwAGEPHPKv4lB5a1Fvk+oiUJiRSHBx8erLhKfKXi1lrk+/RAiittrI41oWoJBDCAGEAMID2QtQe0AoP4+4i/FVcNj9Za5Pv0gIZDaW0JI0KNOghgABH/rOJvHeTSEErFrbXIH4bowIMPD1ZcU8+cFLPWIt+nByS+NPE61oSqJRDAAGIAMYD0QNYe0IhLXIv4+4i/FVcNj9Za5Pv0gIZDaW0JI0KNOghgABH/QQmwNIRScUTDRzSsuKa46otZ65Hv0wd9nLXPwYEPB1Zc2zytclzHmlC1BAIYQAwgBpAeyNoDWpGxihz5PuZDwyMc+HBgxVXDobS2hBGhRh0EMICIf1bxLzmwrLXI9xEtSUikODz48GDFVeIrFbfWIt+nB1JcaWN1rAlVSyCAAcQAYgDpgaw9oBUYxN9H/K24ani01iLfpwc0HEprSxgRatRBAAOI+GcVf+sgl4ZQKm6tRf4wRAcefHiw4pp65qSYtRb5Pj0g8aWJ17EmVC2BAAYQA4gBpAey9oBGXOJaxN9H/K24ani01iLfpwc0HEprSxgRatRBAAOI+A9KgKUhlIojGj6iYcU1xVVfzFqPfJ8+6OOsfQ4OfDiw4trmaZXjOtaEqiUQwABiADGA9EDWHtCKjFXkyPcxHxoe4cCHAyuuGg6ltSWMCDXqIIABRPyzin/JgWWtRb6PaElCIsXhwYcHK64SX6m4tRb5Pj2Q4kobq2NNqFoCAQwgBhADSA9k7QGtwCD+PuJvxVXDo7UW+T49oOFQWlvCiFCjDgIYQMQ/q/hbB7k0hFJxay3yhyE68ODDgxXX1DMnxay1yPfpAYkvTbyONaFqCQSyG8BNmzaFE044IRx//PHh2muv7dzDFVdcEY4++ujm87DDDgtHHnlks+a2224L+++///zcZZdd1smdBTTNK61l4PgMHCuuEl+puLUW+T49kOKqLwYPPjxYce3jrH3OWot8nx5o87TK8Ux3+To9BLIawBtvvLExdLt27QpXXnllOOWUU3oRO/fcc8OFF17YrIkGMBrDZT5WaeJ2DgPHZ+BYcW3z1HdsrUW+Tw/0cZY6Bw8+PFhxTXElxay1yPfpAYkvTXwZTWbNOBHIagAvueSScPbZZ8+ROOSQQ+bfp76JO4BbtmxpTkUDeMABB4SjjjoqnH766eGWW25JpTQxTfNKaxk4PgPHiqvEVypurUW+Tw+kuOqLwYMPD1Zc+zhrn7PWIt+nB9o8rXIsCjEnRo9AVgO4efPmEHf1Zh8HH3zw7NvO15///Ofh2GOPncfjruHM9MW3kc8888z5uauvvjq87GUvaz4/9rGPhbvuusv8ycDxGThWXDXcWmuR79MDGg7jWnjw4cGKq4ZHay3yfXpAw6G0di7EfDM5BLIaQM0O4D/8wz+EL3/5y0lAt23bFo444oj5uZ07d4Yf/ehHzecvf/nLsHXrVvMnA8dn4Fhx1XBrrUW+Tw9oOIxr4cGHByuuGh6ttcj36QENh9LauRDzzeQQyGoA49u58Zc64m5e/GWPU089tQEsHsfm2vjxlre8Zb7jF+PxLeC4Ln5EI3naaadtXL7w/Srb2O0cBo7PwLHi2uap79hai3yfHujjLHUOHnx4sOKa4kqKWWuR79MDEl+a+IL4cjApBLIawIhMfPv2uOOOaz5nvwW8ffv2cOihh86Bi+bwpJNOmh/Hby6//PJw+OGHh2OOOabJvf766xfObzzQNK+0loHjM3CsuEp8peLWWuT79ECKq74YPPjwYMW1j7P2OWst8n16oM3TKscbtZfvp4VAdgNYAp5Vmridw8DxGThWXNs89R1ba5Hv0wN9nKXOwYMPD1ZcU1xJMWst8n16QOJLEy+h6dSogwAGkD8EPaifwdIMJkTDRzSsuGo4jGut9cj36QMNj3Dgw4EVVw2H0to61oSqJRDAAGIAByXA0hBKxe/1tUsCn8PDIMVVX8wqcuT7mI8+ztrn4MCHAyuubZ5WOS5hRKhRBwEMIAYQA4iRzGqktSJjFTnyfcyHhkc48OHAiquGQ2ltHWtC1RIIYAAxgBhADCAGkDnQmQOSIUjFrUaFfB8DmeJKGythRKhRBwEMIIO/M/hrDmPNcOLt3+G9/Rs50XAY19bsN2rLxkPDIzjKONbERsOhtLaONaFqCQQwgBjAQQmwNIRScQwgBrCmuE69duqZk2JTx2Ks9yfxpYmXMCLUqIMABhADiAHkLWDeAmYOdOaAxiSM1SBN/bo1HEpr61gTqpZAAAPI4O8M/ppDURpCqTg7gOwA1gd3tJUAACAASURBVOzVqddOPXNSbOpYjPX+JL408RJGhBp1EMAAYgAxgOwAsgPIHOjMAY1JGKtBmvp1aziU1taxJlQtgQAGkMHfGfw1h6I0hFJxdgDZAazZq1OvnXrmpNjUsRjr/Ul8aeIljAg16iCAAcQAYgDZAWQHkDnQmQMakzBWgzT169ZwKK2tY02oWgIBDCCDvzP4aw5FaQil4uwAsgNYs1enXjv1zEmxqWMx1vuT+NLESxgRatRBAAOIAcQAsgPIDiBzoDMHNCZhrAZp6tet4VBaW8eaULUEAhhABn9n8NccitIQSsXZAWQHsGavTr126pmTYlPHYqz3J/GliZcwItSogwAGEAOIAWQHkB1A5kBnDmhMwlgN0tSvW8OhtLaONaFqCQQwgAz+zuCvORSlIZSKswPIDmDNXp167dQzJ8WmjsVY70/iSxMvYUSoUQcBDCAGEAPIDiA7gMyBzhzQmISxGqSpX7eGQ2ltHWtC1RIIYAAZ/J3BX3MoSkMoFWcHkB3Amr069dqpZ06KTR2Lsd6fxJcmXsKIUKMOAhhADCAGkB1AdgCZA505oDEJYzVIU79uDYfS2jrWhKolEMAAMvg7g7/mUJSGUCrODiA7gDV7deq1U8+cFJs6FmO9P4kvTbyEEaFGHQQwgBhADCA7gOwAMgc6c0BjEsZqkKZ+3RoOpbV1rAlVSyCAAWTwdwZ/zaEoDaFUnB1AdgBr9urUa6eeOSk2dSzGen8SX5p4CSNCjToIYAAxgBhAdgDZAWQOdOaAxiSM1SBN/bo1HEpr61gTqpZAAAPI4O8M/ppDURpCqTg7gOwA1uzVqddOPXNSbOpYjPX+JL408RJGhBp1EMAAYgAxgOwAsgPIHOjMAY1JGKtBmvp1aziU1taxJlQtgQAGkMHfGfw1h6I0hFJxdgDZAazZq1OvnXrmpNjUsRjr/Ul8aeIljAg16iCAAcQAYgDZAWQHkDnQmQMakzBWgzT169ZwKK2tY02oWgIBDCCDvzP4aw5FaQil4uwAsgNYs1enXjv1zEmxqWMx1vuT+NLESxgRatRBAAOIAcQAsgPIDiBzoDMHNCZhrAZp6tet4VBaW8eaULUEAhhABn9n8NccitIQSsXZAWQHsGavTr126pmTYlPHYqz3J/GliZcwItSogwAGEAOIAWQHkB1A5kBnDmhMwlgN0tSvW8OhtLaONaFqCQQwgAz+zuCvORSlIZSKswPIDmDNXp167dQzJ8WmjsVY70/iSxMvYUSoUQcBDCAGEAPIDiA7gMyBzhzQmISxGqSpX7eGQ2ltHWtC1RIIYAAZ/J3BX3MoSkMoFWcHkB3Amr069dqpZ06KTR2Lsd6fxJcmXsKIUKMOAhhADCAGkB1AdgCZA505oDEJYzVIU79uDYfS2jrWhKolEMAAMvg7g7/mUJSGUCrODiA7gDV7deq1U8+cFJs6FmO9P4kvTbyEEaFGHQQwgBhADCA7gOwAMgc6c0BjEsZqkKZ+3RoOpbV1rAlVSyCAAWTwdwZ/zaEoDaFUnB1AdgBr9urUa6eeOSk2dSzGen8SX5p4CSNCjToIYAAxgBhAdgDZAWQOdOaAxiSM1SBN/bo1HEpr61gTqpZAAAPI4O8M/ppDURpCqTg7gOwA1uzVqddOPXNSbOpYjPX+JL408RJGhBp1EMAAYgAxgOwAsgPIHOjMAY1JGKtBmvp1aziU1taxJlQtgQAGkMHfGfw1h6I0hFJxdgDZAazZq1OvnXrmpNjUsRjr/Ul8aeIljAg16iCAAcQAYgDZAWQHkDnQmQMakzBWgzT169ZwKK2tY02oWgIBDCCDvzP4aw5FaQil4uwAsgNYs1enXjv1zEmxqWMx1vuT+NLESxgRatRBAAOIAcQAsgPIDiBzoDMHNCZhrAZp6tet4VBaW8eaULUEAhhABn9n8NccitIQSsXZAWQHsGavTr126pmTYlPHYqz3J/GliZcwItSogwAGEAOIAWQHkB1A5kBnDmhMwlgN0tSvW8OhtLaONaFqCQQwgAz+zuCvORSlIZSKswPIDmDNXp167dQzJ8WmjsVY70/iSxMvYUSoUQcBDCAGEAPIDiA7gMyBzhzQmISxGqSpX7eGQ2ltHWtC1RIIYAAZ/J3BX3MoSkMoFWcHkB3Amr069dqpZ06KTR2Lsd6fxJcmXsKIUKMOAhhADCAGkB1AdgCZA505oDEJYzVIU79uDYfS2jrWhKolEMAAMvg7g7/mUJSGUCrODiA7gDV7deq1U8+cFONZnMazmOK3hBGhRh0EMIAYQAwgO4DsADIHOnMgZQakGAYQA1jHwlDVggAGkMHfGfw1dzYkgUnFEZ1piE7NfqP2W8XnP/XMSTGexWk8iyl+LQaD3GEjgAHEAIoCUEMcUwNIiiE60xCdGn1GTdn4zbCRnrtUnGdxGs9iitthWxiuzoIABhADiAHkLWDeAmYOdOZAygxIMQwgBtBiRMitgwAGkMHfGfyzHYAaXyWBScURnWmITo0+oyY7gOswP1JzUxurY02oWgIBDCAGEAPIDiA7gMyBzhzQGIV1MFNjvEcNh9LaEkaEGnUQwAAy+DuDv+buiDSEUvExDuR1uOYUV32xmv1GbXknsI+z9rl16Osx3mObp1WO61gTqpZAAAOIAcQAsgPIDiBzoDMHNGZhjOZoHa5Zw6G0toQRoUYdBDCADP7O4K+5KyINoVR8HQb4GO8xxVVfrGa/UZsdwDE+Y8tec99zt+y5OtaEqiUQwABiADGA7ACyA8gc6MyBZQ1CXLesIWFd2V/c0nAorS1hRKhRBwEMIIO/M/hr7opIQygVR0zKismyeKe46ovV7DdqswO4bF+PcV3fc7fsuTrWhKolEBilAdy6dWuwfjL45cFfExsNr2McyOtwzRoO49qa/UZteQ5oeFyHvh7jPWo4lNaWMCLUqIPAKA3gzTffHKyfDH558NfERsPrGAfyOlyzhsO4tma/UVueAxoe16Gvx3iPGg6ltXWsCVVLIDBKA7js1nXfOga/PPhrYtPHWfvcGAfyOlxzm6fdHdfsN2rLc2B3vG08vw59PcZ73MjRqt+XMCLUqIMABpCfARzUDoxmSI1xIK/DNWs4jGsxYbIJq4mNhsd16Osx3qOGQ2ltHWtC1RIIYAAxgIMSYGkIpeJjHMjrcM0prvpiNU0OtWXz2cdZ+9w69PUY77HN0yrHJYwINeoggAHEAGIA+TMwWf+Mh1ZkMGGyCauJjYbHMZqjdbhmDYfS2jrWhKolEMAAYgAxgBhADCBzoDMHJEOQiq+DmRrjPaa40sZKGBFq1EEAA8jg7wx+dh2G+ff1xiJAWoGp2W/UlncfNTyOpTfX7To1HEpr61gTqpZAAAOIAcQAsgPIDiBzoDMHJEOQiq+bsRrL/aa40sZKGBFq1EEAA8jg7wz+mrsimuE0liG8btep4TCurdlv1GYHcMrPp/ZZTK2vY02oWgIBDCAGcFACnBpAUmzKg3vM9ybxJcUxYbIJq4mNxFcqPuZ+nfK1p7jSxkoYEWrUQQADiAHEAPIWMG8BMwc6c0BjFKZsosZ8bxoOpbV1rAlVSyCAAWTwdwY/uw78EohF9CQhkeI1+43a8u6jxFcqbukXcv3mTYorbayEEaFGHQQwgBhADCA7gOwAMgc6c0BjFDBxfibOgq2GQ2ltHWtC1RIIYAAZ/J3BX3NXRBpCqbhlMJLrJ1gprvpiNfuN2uwATnkW9D13y54rYUSoUQcBDCAGEAPIDiA7gMyBzhxY1iDEdVM2UWO+Nw2H0to61oSqJRDAADL4O4O/5q6INIRS8TEP5ilfe4qrvljNfqM2O4A8i78Kfc9nCSNCjToIYAAxgBhAdgCz7uD0iUnqHCZMNmE1sUlxJcWmbKLGfG8SX5p4HWtC1RIIYAAxgBhADCAGkDnQmQMakzBmkzTla9dwKK0tYUSoUQcBDCCDvzP42XXw+wWJKYvN7N4kIZHiNfuN2vLuo8RXKj7jnq/Dmh0prrSxOtaEqiUQwABiADGA7ACyA8gc6MwBjVHA+A3L+M340HAorS1hRKhRBwEMIIO/M/hr7opIQygVnw05vg5LfFJc9cVq9hu12QGc8vzoe+6WPVfHmlC1BAIYQAwgBpAdQHYAmQOdObCsQYjrpmyixnxvGg6ltSWMCDXqIIABZPB3Bn/NXRFpCKXiYx7MU772FFd9sZr9Rm12AHkW+TMwdexX/aoYQAwgBpAdwKw7OH1mL3UOEyabsJrYpLiSYlM2UWO+N4kvTby+TeEKvBDAAGIAMYAYQAwgc6AzBzQmYcwmacrXruFQWutlPnjd+ghgABn8ncHPrsOwfqlibAIlCYkUr9lv1JZ3HyW+UvGx9ei6XG+KK22svk3hCrwQwABiADGA7ACyA8gc6MwBjVFYF0M1tvvUcCit9TIfvG59BDCADP7O4K+5KyINoVR8bMN4Xa43xVVfrGa/UZsdwCk/l33P3bLn6tsUrsALAQwgBhADyA4gO4DMgc4cWNYgxHVTNlFjvjcNh9JaL/PB69ZHAAPI4O8M/pq7ItIQSsXHPJinfO0prvpiNfuN2uwA8izyZ2DqW7E6V4ABxABiANkBzLqD02f2UucwYbIJq4lNiispNmUTNeZ7k/jSxOtYE6qWQAADiAHEAGIAMYDMgc4c0JiEMZukKV+7hkNpbQkjQo06CGAAGfydwc+uA38GxiKKkpBI8Zr9Rm1591HiKxW39Au5fvMmxZU2VseaULUEAhhADCAGkB1AdgCZA505oDEKmDg/E2fBVsOhtLaEEaFGHQQwgAz+zuCvuSsiDaFU3DIYyfUTrBRXfbGa/UZtdgCnPAv6nrtlz9WxJlQtgQAGEAOIAWQHkB1A5kBnDixrEOK6KZuoMd+bhkNpbQkjQo06CGAAGfydwV9zV0QaQqn4mAfzlK89xVVfrGa/UZsdQJ5F/gxMHftVvyoGEAOIAWQHMOsOTp/ZS53DhMkmrCY2Ka6k2JRN1JjvTeJLE69vU7gCLwQwgBhADCAGEAPIHOjMAY1JGLNJmvK1aziU1nqZD163PgIYQAZ/Z/Cz6+D3CxJTFpvZvUlCIsVr9hu15d1Hia9UfMY9X4c1O1JcaWP1bQpX4IUABhADiAFkB5AdQOZAZw5ojALGb1jGb8aHhkNprZf54HXrI4ABZPB3Bn/NXRFpCKXisyHH12GJT4qrvljNfqM2O4BTnh99z92y5+rbFK7ACwEMIAYQA8gOIDuAzIHOHFjWIMR1UzZRY743DYfSWi/zwevWRwADyODvDP6auyLSEErFxzyYp3ztKa76YjX7jdrsAPIs8mdg6luxOleAAcQAYgDZAcy6g9Nn9lLnMGGyCauJTYorKTZlEzXme5P40sRzWZNPf/rT4TGPeUzYY489wrZt29Qve9/73jfcdtttu827171kW/Oe97wn3H333bt9jZwLatRc9vplpJZ9hQrrNM0rra05WKktC57EVyo+5sE85WtPcdUX43mQn4ea2PRx1j435X4e8721eVrlOJfEP/vZzw7f/va3ky935513JuMbg5deemnYtWvXxlDy+z4DeO973zssUyv5wisGc9fMef0YQHYA2QFkB5AdQOZAZw5ozMKYTdKUr13DobR2Rd+zkHbYYYeF3/3d3w1PecpTwhve8IbmXDRqJ598cth3333DGWec0cS++c1vhuc85znhyU9+cnjqU58avvrVr85fZ+MO4DnnnBMe9ahHNbuJp59+eogma/YRX/f9739/eMITnhD+6I/+KFx00UXNqXe+850hnouvv9dee4UdO3bMUjpfv/GNb4RnPOMZ4fGPf3zzOl//+tebNV/60pfCE5/4xPC4xz0uPP/5zw8/+clPmnjcmXzVq17VrH/Sk54U/uzP/qyJa2ru7p7aWEnXsnXr1vDABz5wfk/RMEbsZh8Rg+OPPz4ceOCBAQPI4O8MfnYdhvVbtWMTKElIpHjNfqO2vPso8ZWKj61H1+V6U1xpYzPjYP0azd9ll102f5loRD7zmc/Mj7ds2dIYq+uuu66J/fznPw8Pe9jDws6dO5vjmQG89tprw+/93u+FeD5+fOhDH+oYwLPOOqs5973vfa95jeYghGbd7nbQbrjhhvDgBz84fOc732nS7rrrrhBNVbyuBz3oQeGKK65o4h/96EfD0572tOb7L3zhC3PTFwMb3+JeZgdwmXvaiFXftSxjAGevhQHEAGIA2QFkB5A50JkDGqOwLoZqbPep4VBa2zicDP9JGcBbb711/sqbNm1qjFfcnZt9PuIRj5jvss0M4Pnnnx9e/vKXz/Oi2WrvAG78WcHf+Z3fCXfccUezfhkzduGFF4a99957/vqzby644IKwzz77zA5DNIb3uc99ws033xyuuuqq8Id/+IfhzW9+c/j85z8ftm/fPl+3TM1l7mkjVn3XsowBvOWWW5rrwwAy+DuDv+auiDSEUvGxDeN1ud4UV32xmv1GbXYAp/xc9j13y56bOxnjNykDuPElo/Hac889N4YWvp8ZwPPOOy/8+Z//+fxcygDOT4YQ7n//+89/eWQZMyYZwGjSXvziF89feqMBjMFoqqKJ/cu//Mvw8Ic/PMwM2zI1tffUdy3xOh7wgAfMrzNeR/st4Jtuuqk5jwHEAGIA2QFkB5A50JkDyxqEuG7KJmrM96bhUFo7dxLGb3ZnAGP9+LNrmzdvnlfa+EsjMwMY3y59yEMeMn8L+IMf/GBnB3D+Ai0DGI1RrNP3Ec/H15+9BRzfMo6Gafa2649//OMmPb7N/PSnP735/pprrmkMYDyIb1k/9KEPDVdffXVzbpma2nvqu5ZYNNb/xS9+0dSPP1vYNoAf+MAHmnMYQAZ/Z/DX3BWRhlAqPubBPOVrT3HVF6vZb9RmB5BnsczfAdydAYyO5Fvf+lZ41rOeFR796EeH+Pbvfvvt1xiV+J+ZAYzff/aznw1//Md/HJ75zGeGU089dWHHK/5s4caPjTuAJ554YnjkIx/Z/GJH3y+BXHzxxc3P98XriL/wMfslkC9+8YtNbow/73nPm789/eUvf7n5BZC4Nv6pm1hn9rFsTc09xdeWriWei29Dxz+38+pXv7r5RZuUAYy/5LKI1OyKf/M1BVAq1kpzP+wTk2XPMfjlwV8Tm2X5i+umPLjHfG8aDuPamv1GbXkOaHgcc79O+do1HEpr3QV9hQIbf8bu7LPPDi95yUtWeJVhpZS6p40GudcAxh/EbH/EX62u/SE1qibO4JcHf01sNBxOeXCP+d40HMa1NfuN2vIc0PA45n6d8rVrOJTW1tb7VP1jjz22+ZMy8U+yvOAFLwg//elPU8tGFSt1T7s1gPEvZcf3vePfy4lfZ5+xQeK2a+0PqVE1cQa/PPhrYqPhcMqDe8z3puEwrq3Zb9SW54CGxzH365SvXcOhtLa23nvUj3/qZfabxhu/xr8f6PVRo+bu7iW5Axj/6ZL4myvRKcavs8/4w4wb39ve3Yt7nZcaVRNn8MuDvyY2Gg6nPLjHfG8aDuPamv1GbXkOaHgcc79O+do1HEprvXSc162PQNIAzi4r/hXrIX5IjaqJM/jlwV8TGw2HUx7cY743DYdxbc1+o7Y8BzQ8jrlfp3ztGg6ltUP0AFxTHgR6DeCsRPwjivEPK84+Z/FaX6VG1cQZ/PLgr4mNhsMpD+4x35uGw7i2Zr9RW54DGh7H3K9TvnYNh9LaWjpPXX8Eeg1g/IOI8Z9iud/97tf8McX469Txs/aH1KiaOINfHvw1sdFwOOXBPeZ703AY19bsN2rLc0DD45j7dcrXruFQWltb76nvh0CvAYx/t+dnP/uZX/UVX1lqVE2cwS8P/prYaDic8uAe871pOIxra/YbteU5oOFxzP065WvXcCitXVGmF9LiP5dm/Vx4QQ6yINBrAOMfERzih9SomjiDXx78NbHRcDjlwT3me9NwGNfW7Ddqy3NAw+OY+3XK167hUFqbwwNE82d91nJcB6+xiECvATzllFPCRRddFG6//fbFrMpHUqNq4tZmJF8WDgs2Gg6nPLjHfG8aDuNaS7+Q6/McRlw1PI65X6d87RoOpbU55B4DmAPF/K/RawDjn4FJfea/DN0rSo2qiSMcfsJhwVbD4ZQH95jvTcNhXGvpF3L9nmMNj2Pu1ylfu4ZDaa1OndOrMYBpXGpHew1g7YuT6kuNqokjHH7CYcFWw+GUB/eY703DYVxr6Rdy/Z5jDY9j7tcpX7uGQ2mtpMOaOAZQg1a5tRjAd/gNUMRJj600hFLxKQ/uMd9biqu+GM+J/jkpgVkfZ+1zY+7XKV97m6dVjnPYkSkbwMsvvzwcdNBBOWAq/hq9BvC+971vSH32XeWmTZvCCSecEI4//vhw7bXXdpbGvyW4//77h6OPPrr5vOyyy+Zrdpc7W7hKE7dzSgxQauiFrc1T3/GUB/eY762Ps9Q5nhP9c1ICsxRXUmzM/Trla5f40sRnumv5OmUDuGvXrhD/VvIYP3oN4OzfAI5fb7311nDOOeeEk08+WbzPG2+8MRx55JEhAnLllVeG+Esk7Y9oAKP5a38skzvL0TSvtLbEAKWGXtgkvlLxKQ/uMd9biqu+GM+J/jkpgVkfZ+1zY+7XKV97m6dVjme6a/nqbQDf/va3h5e//OVhn332CZdeemn4+te/Hv7sz/6sueT3vve94dRTTw3f/e53w7Oe9azwtre9LbziFa8IF1xwwfyW2vlx7Z577hmOOOKI8NKXvjTEv4kcP3784x+HF73oRU3+gQce2MRmO4Dxdb/yla80seuvvz684AUvaL5vv3YTHMh/eg1g6hr/4i/+IhVuYpdcckk4++yz5+cPOeSQ+fezb6IBPOCAA8JRRx0VTj/99HDLLbfsNvfuu+8Ov/71r5vPmB/NovWzxAClhl7YNLxOeXCP+d40HMa1PCf656QEZhoex9yvU752DYfS2pl2W756GsAvfOELjVGL13fTTTeFF77whc2lHnvsseHNb35z2HvvvUP0ENHU/cmf/Elz7q677gpPetKTms2qVH5cO3udeO177bVXk/fhD384nHHGGc33s//MDOB//Md/hNe85jVN+CMf+Uj42Mc+FlKvPcsbwleVAfzFL34RnvrUp4rXvXnz5nDuuefOzx988MHz72ffxN3BmemLb/meeeaZzam+3J/+9Kch/lHq+PmBD3xg9lKmryUGKDX0wqYhdcqDe8z3puEwruU50T8nJTDT8Djmfp3ytWs49FzraQDjO43RoMWfw4ufcYcuftxwww3ht3/7t+e7ctHUve51r5vf5nOf+9xmIymVH9du3MDaY489mrxokt/0pjeFmDt7N3RmAOOC6I/iu6XPec5zwtatW5t3QVPXNr+Iyt/0GsAHPvCBYfb5gAc8IPz+7/9+OO+888RLXmYHcGPytm3b5s5dk7vKNnY7p8QApYZe2No89R1PeXCP+d76OEud4znRPyclMEtxJcXG3K9TvnaJL018o2av+r2nAYx/q/gd73jH/NLibl/82G+//cLHP/7x5m3fnTt3NjuAT3jCE5rdwB07doTHPOYxzQ5gKr9tAOPmU/yIPw4XP+JG1jOf+cxwzTXXhI0G8KSTTgrvfve7wytf+cpmXeq1mxMD+U+vAYwOdvY527Xru+4tW7bMfwbwiiuuaN53j+sjWPF14kd8Czcex49o+k477bTmeym3Odn6j6Z5pbUlBig19MIm8ZWKT3lwj/neUlz1xXhO9M9JCcz6OGufG3O/Tvna2zytctyS35UOPQ1gvKD4uwcve9nLwr777hviW7/R+MVY/PjkJz8ZDjvssMYAxp/Liz/GFn++b+PPALbzJQP4iU98ovmZwJe85CXhjW98Y+NlNhrAq666qtl17HvtlQB0Suo1gLOakbz4ucxHfFv3uOOOaz5nvwW8ffv2cOihhzbpEazDDz88HHPMMc2a+MOSs49U7uzcxq+rNHE7p8QApYZe2No89R1PeXCP+d76OEud4znRPyclMEtxJcXG3K9TvnaJL018o/au+r23AVzmutqmbpmcqa/pNYBxFy++p32f+9yn+Xz6058efvKTn1THRNO80toSA5QaemGT+ErFpzy4x3xvKa76Yjwn+uekBGZ9nLXPjblfp3ztbZ5WOc4h+BjAHCjmf41eAxh/0DFupcb31ONvzZx11lnh+c9/fv6rUL7iKk3czikxQKmhF7Y2T33HUx7cY763Ps5S53hO9M9JCcxSXEmxMffrlK9d4ksTV8pzcvkQDGDywtY82GsAH/e4x3XgefSjH92JlQ5omldaW2KAUkMvbBJfqfiUB/eY7y3FVV+M50T/nJTArI+z9rkx9+uUr73N0yrHOfQdA5gDxfyv0WsA42/MxLeBZx/xjyDGWO2PVZq4nVNigFJDL2xtnvqOpzy4x3xvfZylzvGc6J+TEpiluJJiY+7XKV+7xJcmnkPvMYA5UMz/Gr0GMP4Rw/hnYF784hc3f2H7QQ96UPjSl76U/yqUr6hpXmltiQFKDb2wSXyl4lMe3GO+txRXfTGeE/1zUgKzPs7a58bcr1O+9jZPqxwr5Tm5PBpA62fyhQmaEOg1gPGVr7vuunD++ec3vzIdvx/CxypN3M4pMUCpoRe2Nk99x1Me3GO+tz7OUud4TvTPSQnMUlxJsTH365SvXeJLE8+h+dH8WXHOcR28xiICvQbwa1/72vzv98W0+M+sfOMb31h8hQpHmuaV1pYYoNTQC5vEVypuHSjkX2IeyikMU1z1xXhO9M9JCcz6OGufS/UBMZ/nS4Nrm6dVjnNIPAYwB4r5X6PXAD72sY9tfvt3VvaOO+4IqV8MmZ0v9XWVJm7nlBig1NALW5unvmPNIGRtOTHq4yx1judE/5yUwCzFlRTj+Sr3fGmwlvjSxHPoOgYwB4r5X6PXAD7+8Y/vVOS3gIc5rEsIQokamsGkGYSsLSdQGg7j2hJ9RQ393NLwyPNV7vnSw07XVQAAIABJREFUYK3hUFrbMQErBDCAK4BWIKXXAD7jGc9o/vmU2XV885vfDPGPQdf+kBpVE0cQ9IJQAjMNh5pByNpyAqXhMK4t0VfU0D/vGh55vso9XxqsNRxKa3PoPQYwB4r5X6PXAMaf93vIQx4S9t577+Yzfn/xxRfnvwrlK0qNqokjCHpBKIGZhkPNIGRtOYHScBjXlugrauifdw2PPF/lni8N1hoOpbVKeU4uXxcDKP1zcxv/veAkQJWCvQYwXtMNN9wQLrzwwnDRRReF2CBD+JAaVRNHEPSCUAIzDYeaQcjacgKl4TCuLdFX1NA/7xoeeb7KPV8arDUcSmtzaH4pAxj/1bKaH5MzgDXBlGpLjaqJIwh6QSiBmYZDzSBkbTmB0nAY15boK2ron3cNjzxf5Z4vDdYaDqW1kg5r4p4GMJquZz/72eGtb31r80/Xxut6+9vfHl7+8pc3f7/40ksvbTayXvKSl4RXvOIVzbuZ8U/axX/Y4kUvelETO/DAA5vbif/k7etf//omN77z+cMf/rD5Mbg999wzHHHEEeGlL31psyEWF8fNsfZrxmt5wQteEF7zmteEmHPBBRc0r7txB7B9bc2CSv/Z7Q5gpevqLSs1qiaOIOgFoQRmGg41g5C15QRKw2FcW6KvqKF/3jU88nyVe740WGs4lNb2ivGSJ0sYwNmlxH/AIpq1+BH/dN0LX/jCcOedd4bZ7uA//uM/hhNPPDF8+MMfDmecccYsrfn6+c9/fp4bTVv8RzCiqYuvET/ifey1117N96nXjGuf9KQnhV27doXbbrstxL+kEr+fGcDUtTUvVuk/GMB36AcjYuKHmTSEUnHNIGRtOYFKcdUX43nye54s2PZx1j7H81Xu+dJg3eZpleMc3sTbAL7pTW+aX+Ypp5zSmLSDDjooxM+4y7dt27Zw6KGHhrjTF3fx4vc33nhjiHnPfe5zw8knn9zkn3TSSeFzn/vc/LXiXz2Jpu6QQw6Zx/bYY4/m+9RrxrWve93r5mujWYx1ZgYwdW3zxRW+wQBiAAe1A6MZUJpByNpyAqXhMK61mBRy/cyjhkeer3LPlwZrDYfS2hy+xNsAbjRo8fcV3vGOd8wvO+78nXnmmeGss85qYtHgxfVxBy9+xB26Zz7zmeGaa64J55xzTjjqqKOa+A9+8IPmLeS2AXzKU57SnE+95u52AFPX1rxYpf9gADGAgxJgaQil4ppByNpyApXiqi+GifMzcRZs+zhrn+P5Kvd8abBu87TKcQ5vUtIAxus98sgjw8te9rKw7777hmOPPTb86Ec/an72LxrDN7zhDY0B/MQnPtHsBsaf43vjG9/YGMH4M4Bx1zD+/GB82zfu3EkGMPWacW38GcADDjhA/BnA9rXlwHfV18AAYgAxgF8b5vDWDPohrdWKjMWkkOtnHjU8Dqn/uJZ75pmGQ2ntquZiY56nAdxYh+91CGAAMYAYQAxg1n8TWBISKY6J8zNxFmwlvlJxTNc9pmtIWKS40sZ0liK9GgOYxqV2FAOIAcQAYgAxgMyBzhzQGIUhmR6u5R4zquFQWpvDpGAAc6CY/zUwgAz+zuC37BpYc6UhlIoz6O8Z9EPCIsVVX8zaM+T77CD2cdY+N6T+41rumQttnlY5zmE7MIA5UMz/GhhADCAGkB1AdgCZA505oDELmK57TNeQsNBwKK3NYTuiAbR+5rgOXmMRAQwgg78z+GvuqEhDKBUf0qDlWu4RwBRXfbGa/UZtefewj7P2Ofr/nv4fEhZtnlY5XrQMHE0JAQwgBhADyA4gO4DMgc4c0JiFIZkeruUeM6rhUFo7JcPDvSwigAFk8HcGf81dEWkIpeIM+nsG/ZCwSHHVF6vZb9RmB3BIz07ua+l77pY9t2gZOJoSAhhADCAGkB1AdgCZA505sKxBiOtyGxdeL8//3Gk4lNZOyfBwL4sIYAAZ/J3BX3NXRBpCqTgikUckcuOY4qovVrPfqM0OYO7+H9Lr9T13y55btAwcTQkBDCAGEAPIDmDWHZxlhWW2DhMmm7Ca2Mz4WebrkEwP13LP/xguw93u1kzJ8HAviwhgADGAGEAMIAaQOdCZA7szBhvPY7ruMV1DwmIjR6t+v2gZOJoSAhhABn9n8LPrMMxhPiRh6bsWrdDU7Ddqy7uPGh77+oFz9eaJhkNp7ZQMD/eyiAAGEAOIAWQHkB1A5kBnDkiGIBXH5NUzeX3Yp7jSxhYtA0dTQgADyODvDP6auyKa4dQ3+DhXT5A0HMa1NfuN2uwATnlWaJ/F1PopGR7uZREBDCAGcFACnBpAUmzKg3vM9ybxJcUxYbIJq4mNxFcqPuZ+nfK1p7jSxhYtA0dTQgADiAHEAPIWMG8BMwc6c0BjFKZsosZ8bxoOpbVTMjzcyyICGEAGf2fws+tQ7+3TMYvN7NolIZHiNfuN2vLuo8RXKj7jnq/Dmh0prrSxRcvA0ZQQwABiADGA7ACyA8gc6MwBjVHA+A3L+M340HAorZ2S4eFeFhHAADL4O4O/5q6INIRS8dmQ4+uwxCfFVV+sZr9Rmx3AKc+Pvudu2XOLloGjKSGAAcQAYgDZAWQHkDnQmQPLGoS4bsomasz3puFQWjslw8O9LCKwtgZwzA/1lK9dGkKp+JRxGPO9pbjqi7ELJ+/C1cSmj7P2uTH365Svvc3TKseLloGjKSGAAWT3Z1D/964ZUFMe3GO+Nw2HcW1Nk0Nt2XxqeBxzv0752jUcSmunZHi4l0UEMIAYQAwgPZC1ByQhkeKYMNmE1cRG4isVn7KJGvO9pbjSxhYtA0dTQgADiPhnFX/rsNQMJ2st8n1+eUTDYVxb0+RQWzafGh55lnyeJSuuGg6ltVMyPNzLIgIYQAwgBpAeyNoDkpBIcUyYbMJqYiPxlYpbjQr5PgYyxZU2tmgZOJoSAhhAxD+r+FsHuWY4WWuRPwzRqWlyqC2bT55Fn+ej5NzRcCitnZLh4V4WEcAAYgAxgPRA1h6QhESKY8JkE1YTG4mvVLykqaHW8sY0xZU2tmgZOJoSAhhAxD+r+FuHs2Y4WWuRv7yQaLDScBjX1jQ51JbNp4ZHTX+w1ue5S+Gq4VBaOyXDw70sIoABxABiAOmBrD0gCYkUx4TJJqwmNhJfqXjKfBArZ/QkrFNcaWOLloGjKSGAAUT8s4q/NIiWjWuG07KvybqyQqThMK6taXKoLZtPDY88Y2WfsWXx1nAorZ2S4eFeFhHAAGIAMYD0QNYekIREimPCZBNWExuJr1R8WUPCurJGMcWVNrZoGTiaEgIYQMQ/q/hbB7xmOFlrke8jRhoO49qaJofasvnU8Miz5PMsWXHVcCitnZLh4V4WEcAAYgAxgPRA1h6QhESKY8JkE1YTG4mvVNxqVMj3MZAprrSxRcvA0ZQQwAAi/lnF3zrINcPJWov8YYhOTZNDbdl88iz6PB8l546GQ2ntlAwP97KIAAYQA4gBpAey9oAkJFIcEyabsJrYSHyl4iVNDbWWN6YprrSxRcvA0ZQQwAAi/lnF3zqcNcPJWov85YVEg5WGw7i2psmhtmw+NTxq+oO1Ps9dClcNh9LaKRke7mURAQwgBhADSA9k7QFJSKQ4Jkw2YTWxkfhKxVPmg1g5oydhneJKG1u0DBxNCQEMIOKfVfylQbRsXDOcln1N1pUVIg2HcW1Nk0Nt2XxqeOQZK/uMLYu3hkNp7ZQMD/eyiAAGEAOIAaQHsvaAJCRSHBMmm7Ca2Eh8peLLGhLWlTWKKa60sUXLwNGUEMAAIv5Zxd864DXDyVqLfB8x0nAY19Y0OdSWzaeGR54ln2fJiquGQ2ntlAwP97KIAAYQA4gBpAey9oAkJFIcEyabsJrYSHyl4lajQr6PgUxxpY0tWgaOpoQABhDxzyr+1kGuGU7WWuQPQ3Rqmhxqy+aTZ9Hn+Sg5dzQcSmunZHi4l0UEMIAYQAwgPZC1ByQhkeKYMNmE1cRG4isVL2lqqLW8MU1xpY0tWgaOpoQABhDxzyr+1uGsGU7WWuQvLyQarDQcxrU1TQ61ZfOp4VHTH6z1ee5SuGo4lNZOyfBwL4sIYAAxgBhAeiBrD0hCIsUxYbIJq4mNxFcqnjIfxMoZPQnrFFfa2KJl4GhKCGAAEf+s4i8NomXjmuG07GuyrqwQaTiMa2uaHGrL5lPDI89Y2WdsWbw1HEprp2R4uJdFBEZpAG+55ZZg/Vz2AWJd2cGm4RVuynKzLN4aDuNaTJhswmpio+Fx2d5gXdlnVsOhtHbRMnA0JQRGaQBvuummYP1kEJUdRMvireF12ddkXVmuNRzGtTVNDrVl86nhkWes7DO2LN4aDqW1UzI83MsiAqM0gNJWtSa+7APEurKDDQ7L4u3R3xoO41pMmGzCamKj4dGjj3hN+yzQcCitXbQMHE0JAQwgPwPIzwDSA1l7QBISKV7T5FBbNp8SX6k4Zs1u1jwwTHGljU3J8HAviwhgABH/rOJvHWKa4WStRb6PaGk4jGsxYbIJq4mNhkeeJZ9nyYqrhkNp7aJl4GhKCGAAMYAYQHogaw9IQiLFa5ocasvmU+IrFbcaFfJ9DGSKK21sSoaHe1lEAAOI+GcVf+sg1wwnay3yhyE6mDDZhNXEhmfR5/koOXc0HEprFy0DR1NCAAOIAcQA0gNZe0ASEile0+RQWzafEl+peElTQ63ljWmKK21sSoaHe1lEAAOI+GcVf+tw1gwnay3ylxcSDVYaDuNaTJhswmpio+FR0x+s9XnuUrhqOJTWLloGjqaEAAYQA4gBpAey9oAkJFK8psmhtmw+Jb5S8ZT5IFbO6ElYp7jSxqZkeLiXRQQwgIh/VvGXBtGycc1wWvY1WVdWiDQcxrWYMNmE1cRGwyPPWNlnbFm8NRxKaxctA0dTQgADiAHEANIDWXtAEhIpXtPkUFs2nxJfqfiyhoR1ZY1iiittbEqGh3tZRAADiPhnFX/rgNcMJ2st8n3ESMNhXIsJk01YTWw0PPIs+TxLVlw1HEprFy0DR1NCAAOIAcQA0gNZe0ASEile0+RQWzafEl+puNWokO9jIFNcaWNTMjzcyyICGEDEP6v4Wwe5ZjhZa5E/DNHBhMkmrCY2PIs+z0fJuaPhUFq7aBk4mhICGEAMIAaQHsjaA5KQSPGaJofasvmU+ErFS5oaai1vTFNcaWNTMjzcyyICGEDEP6v4W4ezZjhZa5G/vJBosNJwGNdiwmQTVhMbDY+a/mCtz3OXwlXDobR20TJwNCUEMIAYQAwgPZC1ByQhkeI1TQ61ZfMp8ZWKp8wHsXJGT8I6xZU2NiXDw70sIoABRPyzir80iJaNa4bTsq/JurJCpOEwrsWEySasJjYaHnnGyj5jy+Kt4VBau2gZOJoSAhhADCAGkB7I2gOSkEjxmiaH2rL5lPhKxZc1JKwraxRTXGljUzI83MsiAhhAxD+r+FsHvGY4WWuR7yNGGg7jWkyYbMJqYqPhkWfJ51my4qrhUFq7aBk4mhICGEAMIAaQHsjaA5KQSPGaJofasvmU+ErFrUaFfB8DmeJKG5uS4eFeFhHAACL+WcXfOsg1w8lai/xhiA4mTDZhNbHhWfR5PkrOHQ2H0tpFy8DRlBDAAGIAMYD0QNYekIREitc0OdSWzafEVype0tRQa3ljmuJKG5uS4eFeFhHAACL+WcXfOpw1w8lai/zlhUSDlYbDuBYTJpuwmthoeNT0B2t9nrsUrhoOpbWLloGjKSGAAcQAYgDpgaw9IAmJFK9pcqgtm0+Jr1Q8ZT6IlTN6EtYprrSxKRke7mURAQwg4p9V/KVBtGxcM5yWfU3WlRUiDYdxLSZMNmE1sdHwyDNW9hlbFm8Nh9LaRcvA0ZQQwABiADGA9EDWHpCERIrXNDnUls2nxFcqvqwhYV1Zo5jiShubkuHhXhYRwAAi/lnF3zrgNcPJWot8HzHScBjXYsJkE1YTGw2PPEs+z5IVVw2H0tpFy8DRlBDAAGIAMYD0QNYekIREitc0OdSWzafEVypuNSrk+xjIFFfa2JQMD/eyiAAGEPHPKv7WQa4ZTtZa5A9DdDBhsgmriQ3Pos/zUXLuaDiU1i5aBo6mhAAGEAOIAaQHsvaAJCRSvKbJobZsPiW+UvGSpoZayxvTFFfa2JQMD/eyiAAGEPHPKv7W4awZTtZa5C8vJBqsNBzGtZgw2YTVxEbDo6Y/WOvz3KVw1XAorV20DBxNCQEMIAYQA0gPZO0BSUikeE2TQ23ZfEp8peIp80GsnNGTsE5xpY1NyfBwL4sIYAAR/6ziLw2iZeOa4bTsa7KurBBpOIxr4acsP8vireFx2ddkXVmuNRxKaxctA0dTQgADiAEclABLQygVR0zKismyeKe46ost+7qsK8t3H2ftc3BTlptl8W7ztMrxlAwP97KIAAYQA4gBpAey9oBWZJYVM9aVNRkaHuGmLDfL4q3hUFq7aBk4mhICGEDEP6v4LzuYpHXSEErFpdcgXleMUlz1xeCrLl8S/n2ctc9Jr0G8LrdtnlY5npLh4V4WEcAAYgAxgPRA1h7Qigwmoa5JkPDX8Ci9BvG63Go4lNYuWgaOpoQABhDxzyr+1oEvDaFU3FqLfB9xSnHVF4MHHx6suPZx1j5nrUW+Tw+0eVrleEqGh3tZRAADiAHEANIDWXtAKzKIv4/4W3HV8GitRb5PD2g4lNYuWgaOpoQABhDxzyr+1kEuDaFU3FqL/GGIDjz48GDFNfXMSTFrLfJ9ekDiSxOfkuHhXhYRwABiADGA9EDWHtCIS1yL+PuIvxVXDY/WWuT79ICGQ2ntomXgaEoIYAAR/0EJsDSEUnFEw0c0rLimuOqLWeuR79MHfZy1z8GBDwdWXNs8rXI8JcPDvSwigAHEAGIA6YGsPaAVGavIke9jPjQ8woEPB1ZcNRxKaxctA0dTQgADiPhnFf+SA8tai3wf0ZKERIrDgw8PVlwlvlJxay3yfXogxZU2NiXDw70sIoABxABiAOmBrD2gFRjE30f8rbhqeLTWIt+nBzQcSmsXLQNHU0IAA4j4ZxV/6yCXhlAqbq1F/jBEBx58eLDimnrmpJi1Fvk+PSDxpYlPyfBwL4sIYAAxgBhAeiBrD2jEJa5F/H3E34qrhkdrLfJ9ekDDobR20TJwNCUEMICI/6AEWBpCqTii4SMaVlxTXPXFrPXI9+mDPs7a5+DAhwMrrm2eVjmekuHhXhYRwABiADGA9EDWHtCKjFXkyPcxHxoe4cCHAyuuGg6ltYuWgaMpIYABRPyzin/JgWWtRb6PaElCIsXhwYcHK64SX6m4tRb5Pj2Q4kobm5Lh4V4WEcAAYgAxgPRA1h7QCgzi7yP+Vlw1PFprke/TAxoOpbWLloGjKSGAAUT8s4q/dZBLQygVt9YifxiiAw8+PFhxTT1zUsxai3yfHpD40sSnZHi4l0UEMIAYQAwgPZC1BzTiEtci/j7ib8VVw6O1Fvk+PaDhUFq7aBk4mhICGEDEf1ACLA2hVBzR8BENK64prvpi1nrk+/RBH2ftc3Dgw4EV1zZPqxxPyfBwL4sIYAAxgBhAeiBrD2hFxipy5PuYDw2PcODDgRVXDYfS2kXLwNGUEMAAIv5Zxb/kwLLWIt9HtCQhkeLw4MODFVeJr1TcWot8nx5IcaWNTcnwcC+LCGAAMYAYQHogaw9oBQbx9xF/K64aHq21yPfpAQ2H0tpFy8DRlBDAACL+WcXfOsilIZSKW2uRPwzRgQcfHqy4pp45KWatRb5PD0h8aeJTMjzcyyICGEAMIAaQHsjaAxpxiWsRfx/xt+Kq4dFai3yfHtBwKK1dtAwcTQkBDCDiPygBloZQKo5o+IiGFdcUV30xaz3yffqgj7P2OTjw4cCKa5unVY6nZHi4l0UEMIAYQAwgPZC1B7QiYxU58n3Mh4ZHOPDhwIqrhkNp7aJl4GhKCGAAEf+s4l9yYFlrke8jWpKQSHF48OHBiqvEVypurUW+Tw+kuNLGpmR4uJdFBDCAGEAMID2QtQe0AoP4+4i/FVcNj9Za5Pv0gIZDae2iZeBoSghgABH/rOJvHeTSEErFrbXIH4bowIMPD1ZcU8+cFLPWIt+nByS+NPEpGR7uZRGB7AZw06ZN4YQTTgjHH398uPbaaxerhRD+53/+Jxx11FHhmGOOaT6vv/76Zs1tt90W9t9//3D00Uc3n5dddlkndxbQNK+0loHjM3CsuEp8peLWWuT79ECKq74YPPjwYMW1j7P2OWst8n16oM3TKscz3eXr9BDIagBvvPHGcOSRR4Zdu3aFK6+8MpxyyikdxLZt2xai2YsfF198cfibv/mb5vsYi+ZvmY9Vmridw8DxGThWXNs89R1ba5Hv0wN9nKXOwYMPD1ZcU1xJMWst8n16QOJLE19Gk1kzTgSyGsBLLrkknH322XMkDjnkkPn3qW/i+rPOOqs5FQ3gAQcc0OwOnn766eGWW26Zp+zYsSNceumlzedVV10Voom0fjJwfAaOFVcNr9Za5Pv0gIbDuBYefHiw4qrh0VqLfJ8e0HAorZ0LMd9MDoGsBnDz5s3h3HPPnYN08MEHz79vf7N9+/Zw2GGHheuuu645FXcNZ6Yvvo185plnzlOuueaacOCBBzafn/rUp8Kdd95p/mTg+AwcK64abq21yPfpAQ2HcS08+PBgxVXDo7UW+T49oOFQWjsXYr6ZHAJZDeCyO4B33HFHOO6448K///u/JwGN/ydyxBFHJM/FoGb7WlrLwPEZOFZcJb5ScWst8n16IMVVXwwefHiw4trHWfuctRb5Pj3Q5mmVY1GIOTF6BLIawC1btsx/BvCKK64Ip556agNQ3N3bunXr/Pv3ve994Z//+Z8XwItvAcd18SMaydNOO23h/MaDVZq4ncPA8Rk4VlzbPPUdW2uR79MDfZylzsGDDw9WXFNcSTFrLfJ9ekDiSxPfqL18Py0EshrACE18+zbu7sXP2W8Bx7d7Dz300Aa5aO5e9apXzdfMfmbw8ssvD4cffnjzm8Exd/bbwSm4Nc0rrWXg+AwcK64SX6m4tRb5Pj2Q4qovBg8+PFhx7eOsfc5ai3yfHmjztMpxSoOJTQOB7AawBCyrNHE7h4HjM3CsuLZ56ju21iLfpwf6OEudgwcfHqy4priSYtZa5Pv0gMSXJl5C06lRBwEMIH8IelA/hK8ZTIiGj2hYcdVwGNda65Hv0wcaHuHAhwMrrhoOpbV1rAlVSyCAAcQADkqApSGUiluHI/k+opXiqi8GDz48WHHt46x9zlqLfJ8eaPO0ynEJI0KNOghgADGAGEB6IGsPaEUG8fcRfyuuGh6ttcj36QENh9LaOtaEqiUQwAAi/lnF3zrIpSGUiltrkT8M0YEHHx6suKaeOSlmrUW+Tw9IfGniJYwINeoggAHEAGIA6YGsPaARl7gW8fcRfyuuGh6ttcj36QENh9LaOtaEqiUQwAAi/oMSYGkIpeKIho9oWHFNcdUXs9Yj36cP+jhrn4MDHw6suLZ5WuW4hBGhRh0EMIAYQAwgPZC1B7QiYxU58n3Mh4ZHOPDhwIqrhkNpbR1rQtUSCGAAEf+s4l9yYFlrke8jWpKQSHF48OHBiqvEVypurUW+Tw+kuNLGShgRatRBAAOIAcQA0gNZe0ArMIi/j/hbcdXwaK1Fvk8PaDiU1taxJlQtgQAGEPHPKv7WQS4NoVTcWov8YYgOPPjwYMU19cxJMWst8n16QOJLEy9hRKhRBwEMIAYQA0gPZO0BjbjEtYi/j/hbcdXwaK1Fvk8PaDiU1taxJlQtgQAGEPEflABLQygVRzR8RMOKa4qrvpi1Hvk+fdDHWfscHPhwYMW1zdMqxyWMCDXqIIABxABiAOmBrD2gFRmryJHvYz40PMKBDwdWXDUcSmvrWBOqlkAAA4j4ZxX/kgPLWot8H9GShESKw4MPD1ZcJb5ScWst8n16IMWVNlbCiFCjDgIYQAwgBpAeyNoDWoFB/H3E34qrhkdrLfJ9ekDDobS2jjWhagkEMICIf1bxtw5yaQil4tZa5A9DdODBhwcrrqlnTopZa5Hv0wMSX5p4CSNCjToIYAAxgBhAeiBrD2jEJa5F/H3E34qrhkdrLfJ9ekDDobS2jjWhagkEMICI/6AEWBpCqTii4SMaVlxTXPXFrPXI9+mDPs7a5+DAhwMrrm2eVjkuYUSoUQcBDCAGEANID2TtAa3IWEWOfB/zoeERDnw4sOKq4VBaW8eaULUEAhhAxD+r+JccWNZa5PuIliQkUhwefHiw4irxlYpba5Hv0wMprrSxEkaEGnUQwABiADGA9EDWHtAKDOLvI/5WXDU8WmuR79MDGg6ltXWsCVVLIIABRPyzir91kEtDKBW31iJ/GKIDDz48WHFNPXNSzFqLfJ8ekPjSxEsYEWrUQQADiAHEANIDWXtAIy5xLeLvI/5WXDU8WmuR79MDGg6ltXWsCVVLIIABRPwHJcDSEErFEQ0f0bDimuKqL2atR75PH/Rx1j4HBz4cWHFt87TKcQkjQo06CGAAMYAYQHogaw9oRcYqcuT7mA8Nj3Dgw4EVVw2H0to61oSqJRDAACL+WcW/5MCy1iLfR7QkIZHi8ODDgxVXia9U3FqLfJ8eSHGljZUwItSogwAGEAOIAaQHsvaAVmAQfx/xt+Kq4dFai3yfHtBwKK2tY02oWgIBDCDin1X8rYNcGkKpuLUW+cMQHXjw4cGKa+qZk2LWWuT79IDElyZewohQow4CGEAMIAaQHsjaAxpxiWsRfx/xt+Kq4dFai3yfHtBwKK2tY02oWgIBDCDiPygBloZQKo5o+IiGFdcUV30xaz3yffqgj7P2OTjw4cCKa5unVY5LGBFq1EEAA4gBxADSA1l7QCsyVpEj38d8aHiEAx8OrLhqOJTW1rEmVC2BAAYQ8c8q/iUHlrUW+T6iJQmJFIcHHx6suEp8peLWWuT79ECKK22shBGhRh0EMIAYQAwgPZC1B7QCg/j8sUnTAAAfV0lEQVT7iL8VVw2P1lrk+/SAhkNpbR1rQtUSCGAAEf+s4m8d5NIQSsWttcgfhujAgw8PVlxTz5wUs9Yi36cHJL408RJGhBp1EMAAYgAxgPRA1h7QiEtci/j7iL8VVw2P1lrk+/SAhkNpbR1rQtUSCGAAEf9BCbA0hFJxRMNHNKy4prjqi1nrke/TB32ctc/BgQ8HVlzbPK1yXMKIUKMOAhhADCAGkB7I2gNakbGKHPk+5kPDIxz4cGDFVcOhtLaONaFqCQQwgIh/VvEvObCstcj3ES1JSKQ4PPjwYMVV4isVt9Yi36cHUlxpYyWMCDXqIIABxABiAOmBrD2gFRjE30f8rbhqeLTWIt+nBzQcSmvrWBOqlkAAA4j4ZxV/6yCXhlAqbq1F/jBEBx58eLDimnrmpJi1Fvk+PSDxpYmXMCLUqIMABhADiAGkB7L2gEZc4lrE30f8rbhqeLTWIt+nBzQcSmvrWBOqlkAAA4j4D0qApSGUiiMaPqJhxTXFVV/MWo98nz7o46x9Dg58OLDi2uZpleMSRoQadRDAAGIAMYD0QNYe0IqMVeTI9zEfGh7hwIcDK64aDqW1dawJVUsggAFE/LOKf8mBZa1Fvo9oSUIixeHBhwcrrhJfqbi1Fvk+PZDiShsrYUSoUQcBDCAGEANID2TtAa3AIP4+4m/FVcOjtRb5Pj2g4VBaW8eaULUEAhhAxD+r+FsHuTSEUnFrLfKHITrw4MODFdfUMyfFrLXI9+kBiS9NvIQRoUYdBDCAGEAMID2QtQc04hLXIv4+4m/FVcOjtRb5Pj2g4VBaW8eaULUEAhhAxH9QAiwNoVQc0fARDSuuKa76YtZ65Pv0QR9n7XNw4MOBFdc2T6sclzAi1KiDAAYQA4gBpAey9oBWZKwiR76P+dDwCAc+HFhx1XAora1jTahaAgEMIOKfVfxLDixrLfJ9REsSEikODz48WHGV+ErFrbXI9+mBFFfaWAkjQo06CGAAMYAYQHogaw9oBQbx9xF/K64aHq21yPfpAQ2H0to61oSqJRDAACL+WcXfOsilIZSKW2uRPwzRgQcfHqy4pp45KWatRb5PD0h8aeIljAg16iCAAcQAYgDpgaw9oBGXuBbx9xF/K64aHq21yPfpAQ2H0to61oSqJRDAACL+gxJgaQil4oiGj2hYcU1x1Rez1iPfpw/6OGufgwMfDqy4tnla5biEEaFGHQQwgBhADCA9kLUHtCJjFTnyfcyHhkc48OHAiquGQ2ltHWtC1RIIYAAR/6ziX3JgWWuR7yNakpBIcXjw4cGKq8RXKm6tRb5PD6S40sZKGBFq1EEAA4gBxADSA1l7QCswiL+P+Ftx1fBorUW+Tw9oOJTW1rEmVC2BAAYQ8c8q/tZBLg2hVNxai/xhiA48+PBgxTX1zEkxay3yfXpA4ksTL2FEqFEHAQwgBhADSA9k7QGNuMS1iL+P+Ftx1fBorUW+Tw9oOJTW1rEmVC2BAAYQ8R+UAEtDKBVHNHxEw4priqu+mLUe+T590MdZ+xwc+HBgxbXN0yrHJYwINeoggAHEAGIA6YGsPaAVGavIke9jPjQ8woEPB1ZcNRxKa+tYE6qWQAADiPhnFf+SA8tai3wf0ZKERIrDgw8PVlwlvlJxay3yfXogxZU2VsKIUKMOAhhADCAGkB7I2gNagUH8fcTfiquGR2st8n16QMOhtLaONaFqCQRGaQB37NgRrJ8MHJ+BY8VVw6u1Fvk+PaDhMK6FBx8erLhqeLTWIt+nBzQcSmtLGBFq1EFglAZQ+j8VTZyB4zNwrLjC4TB50fCq4TCu1bw2a8v1h4ZHeCnHiwZrDYfS2jrWhKolEMAA8vbfoARYGkKpuGYQsracQKW46ovBTTluNFj3cdY+p3ld1pbju83TKscljAg16iCAAcQAYgDpgaw9oBUZDEE5Q6DBWsOj5nVZW45vDYfS2jrWhKolEMAAIv5Zxd863KUhlIpba5HvI0Qprvpi8ODDgxXXPs7a56y1yPfpgTZPqxyXMCLUqIMABhADiAGkB7L2gFZkEH8f8bfiquHRWot8nx7QcCitrWNNqFoCAQwg4p9V/K2DXBpCqbi1FvnDEB148OHBimvqmZNi1lrk+/SAxJcmXsKIUKMOAhhADCAGkB7I2gMacYlrEX8f8bfiquHRWot8nx7QcCitrWNNqFoCAQwg4j8oAZaGUCqOaPiIhhXXFFd9MWs98n36oI+z9jk48OHAimubp1WOSxgRatRBAAOIAcQA0gNZe0ArMlaRI9/HfGh4hAMfDqy4ajiU1taxJlQtgQAGEPHPKv4lB5a1Fvk+oiUJiRSHBx8erLhKfKXi1lrk+/RAiittrIQRoUYdBDCAGEAMID2QtQe0AoP4+4i/FVcNj9Za5Pv0gIZDaW0da0LVEghgABH/rOJvHeTSEErFrbXIH4bowIMPD1ZcU8+cFLPWIt+nByS+NPESRoQadRDAAGIAMYD0QNYe0IhLXIv4+4i/FVcNj9Za5Pv0gIZDaW0da0LVEghgABH/QQmwNIRScUTDRzSsuKa46otZ65Hv0wd9nLXPwYEPB1Zc2zytclzCiFCjDgIYQAwgBpAeyNoDWpGxihz5PuZDwyMc+HBgxVXDobS2jjWhagkEMICIf1bxLzmwrLXI9xEtSUikODz48GDFVeIrFbfWIt+nB1JcaWMljAg16iCAAcQAYgDpgaw9oBUYxN9H/K24ani01iLfpwc0HEpr61gTqpZAAAOI+GcVf+sgl4ZQKm6tRf4wRAcefHiw4pp65qSYtRb5Pj0g8aWJlzAi1KiDAAYQA4gBpAey9oBGXOJaxN9H/K24ani01iLfpwc0HEpr61gTqpZAAAOI+A9KgKUhlIojGj6iYcU1xVVfzFqPfJ8+6OOsfQ4OfDiw4trmaZXjEkaEGnUQwABiADGA9EDWHtCKjFXkyPcxHxoe4cCHAyuuGg6ltXWsCVVLIIABRPyzin/JgWWtRb6PaElCIsXhwYcHK64SX6m4tRb5Pj2Q4kobK2FEqFEHAQwgBhADSA9k7QGtwCD+PuJvxVXDo7UW+T49oOFQWlvHmlC1BAIYQMQ/q/hbB7k0hFJxay3yhyE68ODDgxXX1DMnxay1yPfpAYkvTbyEEaFGHQQwgBhADCA9kLUHNOIS1yL+PuJvxVXDo7UW+T49oOFQWlvHmlC1BAIYQMR/UAIsDaFUHNHwEQ0rrimu+mLWeuT79EEfZ+1zcODDgRXXNk+rHJcwItSogwAGEAOIAaQHsvaAVmSsIke+j/nQ8AgHPhxYcdVwKK2tY02oWgIBDCDin1X8Sw4say3yfURLEhIpDg8+PFhxlfhKxa21yPfpgRRX2lgJI0KNOghgADGAGEB6IGsPaAUG8fcRfyuuGh6ttcj36QENh9LaOtaEqiUQwAAi/lnF3zrIpSGUiltrkT8M0YEHHx6suKaeOSlmrUW+Tw9IfGniJYwINeoggAHEAGIA6YGsPaARl7gW8fcRfyuuGh6ttcj36QENh9LaOtaEqiUQwAAi/oMSYGkIpeKIho9oWHFNcdUXs9Yj36cP+jhrn4MDHw6suLZ5WuW4hBGhRh0EMIAYQAwgPZC1B7QiYxU58n3Mh4ZHOPDhwIqrhkNpbR1rQtUSCGAAEf+s4l9yYFlrke8jWpKQSHF48OHBiqvEVypurUW+Tw+kuNLGShgRatRBAAOIAcQA0gNZe0ArMIi/j/hbcdXwaK1Fvk8PaDiU1taxJlQtgQAGEPHPKv7WQS4NoVTcWov8YYgOPPjwYMU19cxJMWst8n16QOJLEy9hRKhRBwEMIAYQA0gPZO0BjbjEtYi/j/hbcdXwaK1Fvk8PaDiU1taxJlQtgQAGEPEflABLQygVRzR8RMOKa4qrvpi1Hvk+fdDHWfscHPhwYMW1zdMqxyWMCDXqIIABxABiAOmBrD2gFRmryJHvYz40PMKBDwdWXDUcSmvrWBOqlkAAA4j4ZxX/kgPLWot8H9GShESKw4MPD1ZcJb5ScWst8n16IMWVNlbCiFCjDgIYQAwgBpAeyNoDWoFB/H3E34qrhkdrLfJ9ekDDobS2jjWhagkEMICIf1bxtw5yaQil4tZa5A9DdODBhwcrrqlnTopZa5Hv0wMSX5p4CSNCjToIYAAxgBhAeiBrD2jEJa5F/H3E34qrhkdrLfJ9ekDDobS2jjWhagkEMICI/6AEWBpCqTii4SMaVlxTXPXFrPXI9+mDPs7a5+DAhwMrrm2eVjkuYUSoUQcBDCAGEANID2TtAa3IWEWOfB/zoeERDnw4sOKq4VBaW8eaULUEAhhAxD+r+JccWNZa5PuIliQkUhwefHiw4irxlYpba5Hv0wMprrSxEkaEGnUQwABiADGA9EDWHtAKDOLvI/5WXDU8WmuR79MDGg6ltXWsCVVLIIABRPyzir91kEtDKBW31iJ/GKIDDz48WHFNPXNSzFqLfJ8ekPjSxEsYEWrUQQADiAHEANIDWXtAIy5xLeLvI/5WXDU8WmuR79MDGg6ltXWsCVVLIIABRPwHJcDSEErFEQ0f0bDimuKqL2atR75PH/Rx1j4HBz4cWHFt87TKcQkjQo06CGAAMYAYQHogaw9oRcYqcuT7mA8Nj3Dgw4EVVw2H0to61oSqJRDAACL+WcW/5MCy1iLfR7QkIZHi8ODDgxVXia9U3FqLfJ8eSHGljZUwItSogwAGEAOIAaQHsvaAVmAQfx/xt+Kq4dFai3yfHtBwKK2tY02oWgIBDCDin1X8rYNcGkKpuLUW+cMQHXjw4cGKa+qZk2LWWuT79IDElyZewohQow4CGEAMIAaQHsjaAxpxiWsRfx/xt+Kq4dFai3yfHtBwKK2tY02oWgIBDCDiPygBloZQKo5o+IiGFdcUV30xaz3yffqgj7P2OTjw4cCKa5unVY5LGBFq1EEAA4gBxADSA1l7QCsyVpEj38d8aHiEAx8OrLhqOJTW1rEmVC2BAAYQ8c8q/iUHlrUW+T6iJQmJFIcHHx6suEp8peLWWuT79ECKK22shBGhRh0EMIAYQAwgPZC1B7QCg/j7iL8VVw2P1lrk+/SAhkNpbR1rQtUSCGAAEf+s4m8d5NIQSsWttcgfhujAgw8PVlxTz5wUs9Yi36cHJL408RJGhBp1EMAAYgAxgPRA1h7QiEtci/j7iL8VVw2P1lrk+/SAhkNpbR1rQtUSCGAAEf9BCbA0hFJxRMNHNKy4prjqi1nrke/TB32ctc/BgQ8HVlzbPK1yXMKIUKMOAhhADCAGkB7I2gNakbGKHPk+5kPDIxz4cGDFVcOhtLaONaFqCQQwgIh/VvEvObCstcj3ES1JSKQ4PPjwYMVV4isVt9Yi36cHUlxpYyWMCDXqIIABxABiAOmBrD2gFRjE30f8rbhqeLTWIt+nBzQcSmvrWBOqlkAguwHctGlTOOGEE8Lxxx8frr322uQ9SGukePtFpEbVxBk4PgPHiiscDpMXDa8aDuNazWuztlx/aHiEl3K8aLDWcCitbesvx9NBIKsBvPHGG8ORRx4Zdu3aFa688spwyimndJCS1kjxzguEEKRG1cQ1DxFryw03OCyHtVdfaziMa72ug9e19ZKGR7C2Ye2Fn4ZDaW1Kg4lNA4GsBvCSSy4JZ5999hyZQw45ZP797BtpjRSPeVu3bg2f/OQnm89LL700bN++3fzp9cDxurZBqOEWrG1Ye+Gn4TCu9boOXtfWHxoewdqGtRd+Gg6ltTPt5uv0EMhqADdv3hzOPffcOUoHH3zw/PvZN9IaKR7zbrjhhnDyySc3n1/+8pfDbbfdxudvMIi7rbfffjt4jLgnIn933303HI6YwziTIod33HEHPI6Yx507dzbvYKEx92jsTLv5Oj0EshrAvl28GXTSGik+y9v4VdqqXsf4XXfdFbZt25blbfF1xG8I9/zrX/863HnnnXD4q1+NGoNo5G+++eZR38MQnoea13DTTTc1Rr7mNQyt9kbt5ftpIZDVAG7ZsmX+M4BXXHFFOPXUUxu04i5VfBs3fkhrpHgK7qE9IDWvBwM4btMQewcDOH4OI48YwPHziAHscpjSYGLTQCCrAYyQxN/kPe6445rP2W8Bx58tOPTQQ+eIpdZIufOkDd/UNFxDq40B7A6soXG0u+vBAI6fw8gxBnD8PGIAuxxukF6+nRgC2Q1gCXx2J6jrdB4D2B1YY+MfAzh+DjGA0+AQA9jlsYSmU6MOAhjAkf/cEQawO7AwgOPHZGwcYgCn0XMYwC6PdawJVUsggAHEAPJD65V7gB3AruhgAKeBydh4xAB2+66EEaFGHQQwgJXF3zog2QHsDiwrpqXzMYDj5zD2DD8DOH4eMYBdDutYE6qWQAADiAFkB7ByD2AAu6JT2oTnqIcBHD+PGMAuhyWMCDXqIIABrCz+VuFhB7A7sKyYls7HAI6fw9gzGMDx84gB7HJYx5pQtQQCGEAMIDuAlXsAA9gVndImPEc9DOD4ecQAdjksYUSoUQcBDGBl8bcKDzuA3YFlxbR0PgZw/BzGnsEAjp9HDGCXwzrWhKolEMAAYgDZAazcAxjAruiUNuE56mEAx88jBrDLYQkjQo06CGAAK4u/VXjYAewOLCumpfMxgOPnMPYMBnD8PGIAuxzWsSZULYEABhADyA5g5R7AAHZFp7QJz1EPAzh+HjGAXQ5LGBFq1EEAA1hZ/K3Cww5gd2BZMS2djwEcP4exZzCA4+cRA9jlsI41oWoJBDCAGEB2ACv3AAawKzqlTXiOehjA8fOIAexyWMKIUKMOAhjAyuJvFR52ALsDy4pp6XwM4Pg5jD2DARw/jxjALod1rAlVSyCAAcQAsgNYuQcwgF3RKW3Cc9TDAI6fRwxgl8MSRoQadRDAAFYWf6vwsAPYHVhWTEvnYwDHz2HsGQzg+HnEAHY5rGNNqFoCAQwgBpAdwMo9gAHsik5pE56jHgZw/DxiALscljAi1KiDAAawsvhbhYcdwO7AsmJaOh8DOH4OY89gAMfPIwawy2Eda0LVEghgADGA7ABW7gEMYFd0SpvwHPUwgOPnEQPY5bCEEaFGHQQwgJXF3yo87AB2B5YV09L5GMDxcxh7BgM4fh4xgF0O61gTqpZAAAOIAWQHsHIPYAC7olPahOeohwEcP48YwC6HJYwINeoggAGsLP5W4WEHsDuwrJiWzscAjp/D2DMYwPHziAHscljHmlC1BAIYQAwgO4CVewAD2BWd0iY8Rz0M4Ph5xAB2OSxhRKhRB4FRGsA6UA2z6mc+85nwi1/8YpgXx1UthcDVV18dzjnnnKXWsmi4CGzatClcccUVw71Army3CGzZsiX83d/93W7XsQAEpoAABnDkLO63337hP//zP0d+F+t9+d/61rfCa17zmvUGYQJ3/1d/9Vdh8+bNE7iT9b2Fn/70p2GfffZZXwC487VCAAM4croxgCMnMISAARw/h/EOMIDj5xEDOH4OuYPlEcAALo/VIFfGgXXrrbcO8tq4qOUQ2L59e/jf//3f5RazarAIxLfy489z8jFeBHbu3BmuvPLK8d4AVw4CCgQwgAqwWAoCIAACIAACIAACU0AAAzhQFq+99trw6le/Ohx99NHN54knnthcadxleOc73xl27drVHH/4wx8Ol156aTjzzDPD9773vSb2/e9/P+y///7zNfHcd7/73YHe6Xpd1k9+8pNwwgknhOOPP77h8atf/WqIXB933HENEPH7Aw44ILzrXe8KRxxxBD/fOZD22MhLfP7e+973Nr89Hy9v2XPwOQwyI18bZ+s//dM/NReWejZnV/y+972v4Xx2zFcQmAICGMCBshiH1MwUtC/x7//+75sfNv/BD34QTjnllOb01772tfDpT3+6+f5zn/tcOPbYY8PPfvaz5viwww4Lt9xyS/tlOC6MQHyr9y1veUu4/vrrm8rRxP/whz/sGMAZ73Hdm9/85sJXSbkUAu3nMf5PVzSC8WPZc/CZQrZ8rM1XvALp2YznbrvttnDMMcc0/yPOj9uU54uKfghgAP2wNb1yakjNXjAOpGjq3v72t4cbbrihCf/yl79sTF88iKYw/mJB/D/buPatb33rLJWvFRGIJv0Tn/hE5wo2cr3x+7jwta99bWc9gfIItHmJVxCfv/j3AzXn4LM8d+2KKb6kZzPm/uu//mv44he/2HzGHXs+QGAqCGAAB8pkHFKztwLj24Ef//jHF670gx/8YHjPe96zEDv00END/JdBYvzmm28OH/rQh8J//dd/hTPOOGNhHQd1EDjvvPPCF77whU7xjYK08fv4Cz5ve9vbOusJlEdgIy+z6ieddFLzd/+WPQefM+Tqfo18bXwLOP7tRunZjFcaf/wm/nJPnKmzH8WpewdUB4E8CGAA8+CY/VVSojIrEgfWu9/97hAFKL4NPPuIP5cU/0929odMo3H87Gc/G/i/1hlCdb9KuwwbuY7fz4x/5Dj+XBIf9RHYyNHsauIO4I033ijuAM7OwecMsWF8TXEpPZvR+B100EHNz+TGefq6170ubNu2bRg3wlWAgBEBDKARQK/01JCKte6+++5w5JFHNqITf6Yo/mB53PWLH/FfIohvDce3f+PH6aef3hxfd911zTH/qYvA7OeMZm/bx58B/NGPfrRgICTe61451du8rPIzgKA4DATaXMarkp7NL33pS+ErX/nK/MLj/0zPfmlkHuQbEBgpAhjAgRIXh1TcOYi/EDD7jJca30KM//zb7CP+wseFF17YHMa/X/Wnf/qnIf57lvEjDqoDDzxwtpSvA0Bg9puG8TeB4294x52HjYK08fsBXC6X8BsEZs9j3JWNn/HHK+IOX/zY3bnZL/UA5jAQkJ6x1LN51FFHzX/OOl59nK2zX/4Zxt1wFSCwOgIYwNWxIxMEQAAEQAAEQAAERokABnCUtHHRIAACIAACIAACILA6AhjA1bEjEwRAAARAAARAAARGiQAGcJS0cdEgAAIgAAIgAAIgsDoCGMDVsSMTBEAABEAABEAABEaJAAZwlLRx0SCQF4F73/veeV8whHDf+963+Zdosr9wzwvGP4Ie/1QSHyAAAiAAAv0IYAD78eEsCKwFAqsYwDvvvLMXm/i38uLfOiz5Ee9jd9eVup5VclKvQwwEQAAExoIABnAsTHGda4nAX//1Xy/8c3Dxb8894AEPaP5wbQTkm9/8ZnjOc54TnvzkJ4enPvWpC//qy73uda8Q/3WY+Pck99hjj3DRRRfNMTz//PPDox71qPDsZz87xBobDWD847dPfOITw+Me97jw/Oc/f+FfI4mvefLJJ4d99913t//E4MYdwL5r+cY3vhGe8YxnhMc//vHhCU94Qvj617/eXGffdcxvZMM38e+zxToRj7322ivs2LFjt/i07yXmn3rqqc21PPzhDw//9m//Fg4//PDw2Mc+tvn87//+7w0V+RYEQAAExosABnC83HHla4DA1VdfHR760IfOd7U+8pGPhNe//vXNnW/ZsqUxabN/6eXnP/95eNjDHhZ27tzZnI9mZmb6fvaznzXn4om4/kEPelCI/zZt/IgmcWYAZ+fiPzcYPz760Y+Gpz3tac338T/xNTf+IfL5icQ3bQOYupb4r6I8+MEPDt/5zneaV4j/qs3WrVvn1yhdR6JcE9q4A7gMPu17iff3t3/7t81rff7znw/3v//9w+bNm5vj0047rflnwaTaxEEABEBgTAhgAMfEFte6lgjEXbj4z/zFj7jTF3el4keMRfMUd7tmn494xCPmO3bRzNx+++3N2vif+93vfuGOO+4Icfcv/osxs49olGYG8IILLgj77LPP7FTzzwze5z73CTfffHMTi6956623zs/3fdM2gKlrif+Kzd577915md1dRyfhN4GNBnAZfNr3Eu/vtttua17tqquuCg984APnpS655JLwrGc9a37MNyAAAiAwZgQwgGNmj2tfCwQ+9alPhVe84hXh8ssvD/FtydlHNE977rnn7LDzNZqZjR9xNyuam2gAX/nKV85PRXM3M4Dx3Itf/OL5ubgj1zaA85O7+aZtADcun12LZAB3dx0bX2vj9xsNoBaf+DobMfu///u/8Ad/8Afzl//2t78dnv70p8+P+QYEQAAExozAokKM+U64dhCYKAJxlyq+ZXvQQQeFE088cX6Xv/rVr5odqtlblPFENCmzj41mJsZmpiu+zRvfKo5vtcaPT3/603MDOHsL+Mc//nFz7qyzzlowPe3XbBYJ/1nGAMZ7eMhDHjJ/Czj+Mkb891Z3dx1CyebnI+Nrxg8tPjFn4/1hACWUiYMACEwBAQzgFFjkHiaPwBve8IbwW7/1WyH+TODGj29961vN25KPfvSjQ3z7d7/99puf3mhmYnBmAOP35513XvMLIK997WvDu971rrkBjOe++MUvNr+MEV/zec973vwt5Xiu/ZoxJn0sYwBj7sUXX9z8nGGsF3/xZPZLIH3XIdWMBvmRj3xkc/3xl0A0+MTX3Hh/GEAJZeIgAAJTQAADOAUWuQcQAAEQAAEQAAEQUCCAAVSAxVIQAAEQAAEQAAEQmAICGMApsMg9gEAFBOKfcJn99vHGr+9///vdrqZGTbeb4YVBAARAoCICGMCK4FMaBEAABEAABEAABGoggAGsgTo1QQAEQAAEQAAEQKAiAhjAiuBTGgRAAARAAARAAARqIIABrIE6NUEABEAABEAABECgIgIYwIrgUxoEQAAEQAAEQAAEaiDw/wCt618fOYdI8AAAAABJRU5ErkJggg==)"
      ]
    },
    {
      "cell_type": "code",
      "metadata": {
        "id": "Xe4wdpruL5UC"
      },
      "source": [
        ""
      ],
      "execution_count": null,
      "outputs": []
    },
    {
      "cell_type": "code",
      "metadata": {
        "id": "c5piWyO6L5WK"
      },
      "source": [
        "# From previous step\n",
        "vendor_inco_term_counts <- late_shipments %>% \n",
        "  count(vendor_inco_term)\n",
        "n_total <- nrow(late_shipments)\n",
        "hypothesized <- tribble(\n",
        "  ~ vendor_inco_term, ~ prop,\n",
        "  \"EXW\", 0.75,\n",
        "  \"CIP\", 0.05,\n",
        "  \"DDP\", 0.1,\n",
        "  \"FCA\", 0.1\n",
        ") %>%\n",
        "  mutate(n = prop * n_total)\n",
        "\n",
        "# Using vendor_inco_term_counts, plot n vs. vendor_inco_term \n",
        "ggplot(vendor_inco_term_counts,  aes(vendor_inco_term, n)) +\n",
        "  # Make it a (precalculated) bar plot\n",
        "  geom_col() +\n",
        "  # Add points from hypothesized \n",
        "  geom_point(data = hypothesized)"
      ],
      "execution_count": null,
      "outputs": []
    },
    {
      "cell_type": "markdown",
      "metadata": {
        "id": "PE4jGMusONPM"
      },
      "source": [
        "![image.png](data:image/png;base64,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)"
      ]
    },
    {
      "cell_type": "code",
      "metadata": {
        "id": "_6HFRZ0fOMXd"
      },
      "source": [
        "hypothesized_props <- c(\n",
        "  EXW = 0.75, CIP = 0.05, DDP = 0.1, FCA = 0.1\n",
        ")\n",
        "\n",
        "# Run chi-square goodness of fit test on vendor_inco_term\n",
        "test_results <- late_shipments %>% \n",
        "  chisq_test(\n",
        "    response = vendor_inco_term,\n",
        "    p = hypothesized_props\n",
        "  )\n",
        "\n",
        "# See the results\n",
        "test_results"
      ],
      "execution_count": null,
      "outputs": []
    },
    {
      "cell_type": "code",
      "metadata": {
        "id": "wyC-kGAIOMbw"
      },
      "source": [
        ""
      ],
      "execution_count": null,
      "outputs": []
    },
    {
      "cell_type": "code",
      "metadata": {
        "id": "EtEcfXVdOMfU"
      },
      "source": [
        "libary(infer)\n",
        "\n",
        "\n",
        "stack_overflow_imbalanced %>%\n",
        "  specify(hobbyist ~ age_cat, success = \"Yes\") %>% # response ~ explanatory\n",
        "  hypothesize(null = \"independence\") %>% # or point\n"
      ],
      "execution_count": null,
      "outputs": []
    },
    {
      "cell_type": "code",
      "metadata": {
        "id": "D3XJ5x8pOMh2"
      },
      "source": [
        ""
      ],
      "execution_count": null,
      "outputs": []
    },
    {
      "cell_type": "code",
      "metadata": {
        "id": "So1irdhmUoeg"
      },
      "source": [
        ""
      ],
      "execution_count": null,
      "outputs": []
    },
    {
      "cell_type": "code",
      "metadata": {
        "id": "VAqC6461UohQ"
      },
      "source": [
        ""
      ],
      "execution_count": null,
      "outputs": []
    },
    {
      "cell_type": "code",
      "metadata": {
        "id": "c65rywayUokG"
      },
      "source": [
        "# Perform a proportion test appropriate to the hypotheses \n",
        "test_results <- late_shipments %>% \n",
        "  prop_test(\n",
        "    late ~ freight_cost_group,\n",
        "    order = c(\"expensive\", \"reasonable\"),\n",
        "    success = \"Yes\",\n",
        "    alternative = \"greater\",\n",
        "    correct = FALSE\n",
        "  )\n",
        "\n",
        "# See the results\n",
        "test_results"
      ],
      "execution_count": null,
      "outputs": []
    },
    {
      "cell_type": "code",
      "metadata": {
        "id": "xHGZgTYSUopt"
      },
      "source": [
        ""
      ],
      "execution_count": null,
      "outputs": []
    },
    {
      "cell_type": "code",
      "metadata": {
        "id": "Qpqzfu5xUosv"
      },
      "source": [
        "# Extend the pipeline to calculate the difference in \n",
        "# proportions (expensive minus reasonable)\n",
        "null_distn <- late_shipments %>% \n",
        "  specify(\n",
        "    late ~ freight_cost_group, \n",
        "    success = \"Yes\"\n",
        "  ) %>% \n",
        "  hypothesize(null = \"independence\") %>% \n",
        "  generate(reps = 2000, type = \"permute\") %>% \n",
        "  calculate(\n",
        "    stat = \"diff in props\", \n",
        "    order = c(\"expensive\", \"reasonable\")\n",
        "  )\n",
        "\n",
        "# See the result\n",
        "null_distn"
      ],
      "execution_count": null,
      "outputs": []
    },
    {
      "cell_type": "code",
      "metadata": {
        "id": "1LRkeuisUov2"
      },
      "source": [
        ""
      ],
      "execution_count": null,
      "outputs": []
    },
    {
      "cell_type": "code",
      "metadata": {
        "id": "p5nAtaoeOMkC"
      },
      "source": [
        "null_distn <- late_shipments %>% \n",
        "  specify(\n",
        "    late ~ freight_cost_group, \n",
        "    success = \"Yes\"\n",
        "  ) %>% \n",
        "  hypothesize(null = \"independence\") %>% \n",
        "  generate(reps = 2000, type = \"permute\") %>% \n",
        "  calculate(\n",
        "    stat = \"diff in props\", \n",
        "    order = c(\"expensive\", \"reasonable\")\n",
        "  )\n",
        "\n",
        "# Copy, paste, and modify the pipeline to get the observed statistic\n",
        "obs_stat <- late_shipments %>% \n",
        "  specify(\n",
        "    late ~ freight_cost_group, \n",
        "    success = \"Yes\"\n",
        "  ) %>% \n",
        "  calculate(\n",
        "    stat = \"diff in props\", \n",
        "    order = c(\"expensive\", \"reasonable\")\n",
        "  )\n",
        "\n",
        "# See the result\n",
        "obs_stat"
      ],
      "execution_count": null,
      "outputs": []
    },
    {
      "cell_type": "code",
      "metadata": {
        "id": "EYCtW8n6OMmq"
      },
      "source": [
        ""
      ],
      "execution_count": null,
      "outputs": []
    },
    {
      "cell_type": "code",
      "metadata": {
        "id": "naLGbpiWKzr1"
      },
      "source": [
        "# From previous steps\n",
        "null_distn <- late_shipments %>% \n",
        "  specify(\n",
        "    late ~ freight_cost_group, \n",
        "    success = \"Yes\"\n",
        "  ) %>% \n",
        "  hypothesize(null = \"independence\") %>% \n",
        "  generate(reps = 2000, type = \"permute\") %>% \n",
        "  calculate(\n",
        "    stat = \"diff in props\", \n",
        "    order = c(\"expensive\", \"reasonable\")\n",
        "  )\n",
        "obs_stat <- late_shipments %>% \n",
        "  specify(\n",
        "    late ~ freight_cost_group, \n",
        "    success = \"Yes\"\n",
        "  ) %>% \n",
        "  calculate(\n",
        "    stat = \"diff in props\", \n",
        "    order = c(\"expensive\", \"reasonable\")\n",
        "  )\n",
        "\n",
        "# Visualize the null dist'n, adding a vertical line at\n",
        "# the observed statistic\n",
        "visualize(null_distn) +\n",
        "  geom_vline(aes(xintercept = stat), data = obs_stat)"
      ],
      "execution_count": null,
      "outputs": []
    },
    {
      "cell_type": "code",
      "metadata": {
        "id": "42QbY5BwKzvU"
      },
      "source": [
        ""
      ],
      "execution_count": null,
      "outputs": []
    },
    {
      "cell_type": "code",
      "metadata": {
        "id": "OZAvhuW6Kzx6"
      },
      "source": [
        ""
      ],
      "execution_count": null,
      "outputs": []
    },
    {
      "cell_type": "code",
      "metadata": {
        "id": "4oJ03yWcKz0p"
      },
      "source": [
        ""
      ],
      "execution_count": null,
      "outputs": []
    }
  ]
}