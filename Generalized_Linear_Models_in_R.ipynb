{
  "nbformat": 4,
  "nbformat_minor": 0,
  "metadata": {
    "colab": {
      "name": "Generalized_Linear_Models_in_R.ipynb",
      "provenance": [],
      "collapsed_sections": [],
      "authorship_tag": "ABX9TyOMuKwDPo6C92vBZ5UfJW9O",
      "include_colab_link": true
    },
    "kernelspec": {
      "name": "ir",
      "display_name": "R"
    },
    "language_info": {
      "name": "R"
    }
  },
  "cells": [
    {
      "cell_type": "markdown",
      "metadata": {
        "id": "view-in-github",
        "colab_type": "text"
      },
      "source": [
        "<a href=\"https://colab.research.google.com/github/polaroidz/polaroidz/blob/main/Generalized_Linear_Models_in_R.ipynb\" target=\"_parent\"><img src=\"https://colab.research.google.com/assets/colab-badge.svg\" alt=\"Open In Colab\"/></a>"
      ]
    },
    {
      "cell_type": "code",
      "metadata": {
        "colab": {
          "base_uri": "https://localhost:8080/"
        },
        "id": "_wYcqzxwFblE",
        "outputId": "0f89a2b0-4dbc-4a2b-d4a9-07686004d5a6"
      },
      "source": [
        "library(datasets)\n",
        "library(dplyr)\n",
        "library(ggplot2)"
      ],
      "execution_count": 1,
      "outputs": [
        {
          "output_type": "stream",
          "text": [
            "\n",
            "Attaching package: ‘dplyr’\n",
            "\n",
            "\n",
            "The following objects are masked from ‘package:stats’:\n",
            "\n",
            "    filter, lag\n",
            "\n",
            "\n",
            "The following objects are masked from ‘package:base’:\n",
            "\n",
            "    intersect, setdiff, setequal, union\n",
            "\n",
            "\n"
          ],
          "name": "stderr"
        }
      ]
    },
    {
      "cell_type": "code",
      "metadata": {
        "colab": {
          "base_uri": "https://localhost:8080/"
        },
        "id": "qRXM5otvFjeG",
        "outputId": "ce8b1753-3375-4648-e60a-60608abab311"
      },
      "source": [
        "glimpse(ChickWeight)"
      ],
      "execution_count": 2,
      "outputs": [
        {
          "output_type": "stream",
          "text": [
            "Rows: 578\n",
            "Columns: 4\n",
            "$ weight \u001b[3m\u001b[90m<dbl>\u001b[39m\u001b[23m 42, 51, 59, 64, 76, 93, 106, 125, 149, 171, 199, 205, 40, 49, 5…\n",
            "$ Time   \u001b[3m\u001b[90m<dbl>\u001b[39m\u001b[23m 0, 2, 4, 6, 8, 10, 12, 14, 16, 18, 20, 21, 0, 2, 4, 6, 8, 10, 1…\n",
            "$ Chick  \u001b[3m\u001b[90m<ord>\u001b[39m\u001b[23m 1, 1, 1, 1, 1, 1, 1, 1, 1, 1, 1, 1, 2, 2, 2, 2, 2, 2, 2, 2, 2, …\n",
            "$ Diet   \u001b[3m\u001b[90m<fct>\u001b[39m\u001b[23m 1, 1, 1, 1, 1, 1, 1, 1, 1, 1, 1, 1, 1, 1, 1, 1, 1, 1, 1, 1, 1, …\n"
          ],
          "name": "stdout"
        }
      ]
    },
    {
      "cell_type": "code",
      "metadata": {
        "colab": {
          "base_uri": "https://localhost:8080/",
          "height": 134
        },
        "id": "pyQxCFl8FoS6",
        "outputId": "726c4963-3162-40c4-875c-b124a355184e"
      },
      "source": [
        "mdl_weigth_diet <- lm(weight ~ Diet, data = ChickWeight)\n",
        "\n",
        "mdl_weigth_diet"
      ],
      "execution_count": 3,
      "outputs": [
        {
          "output_type": "display_data",
          "data": {
            "text/plain": [
              "\n",
              "Call:\n",
              "lm(formula = weight ~ Diet, data = ChickWeight)\n",
              "\n",
              "Coefficients:\n",
              "(Intercept)        Diet2        Diet3        Diet4  \n",
              "     102.65        19.97        40.30        32.62  \n"
            ]
          },
          "metadata": {
            "tags": []
          }
        }
      ]
    },
    {
      "cell_type": "code",
      "metadata": {
        "colab": {
          "base_uri": "https://localhost:8080/",
          "height": 185
        },
        "id": "06Cf9pWmGCyF",
        "outputId": "fd46b986-6363-49cb-9016-99ae3d488063"
      },
      "source": [
        "# Fit a glm()\n",
        "mdl_glm <- glm(formula = weight ~ Diet - 1, data = ChickWeight, family = 'gaussian')\n",
        "\n",
        "mdl_glm"
      ],
      "execution_count": 5,
      "outputs": [
        {
          "output_type": "display_data",
          "data": {
            "text/plain": [
              "\n",
              "Call:  glm(formula = weight ~ Diet - 1, family = \"gaussian\", data = ChickWeight)\n",
              "\n",
              "Coefficients:\n",
              "Diet1  Diet2  Diet3  Diet4  \n",
              "102.6  122.6  142.9  135.3  \n",
              "\n",
              "Degrees of Freedom: 578 Total (i.e. Null);  574 Residual\n",
              "Null Deviance:\t    11490000 \n",
              "Residual Deviance: 2759000 \tAIC: 6546"
            ]
          },
          "metadata": {
            "tags": []
          }
        }
      ]
    },
    {
      "cell_type": "code",
      "metadata": {
        "id": "fxEYCnCaG-Jx"
      },
      "source": [
        "# Use poisson family for counts\n",
        "glm(y ~ x, data, family = 'poisson')"
      ],
      "execution_count": null,
      "outputs": []
    },
    {
      "cell_type": "code",
      "metadata": {
        "colab": {
          "base_uri": "https://localhost:8080/",
          "height": 420
        },
        "id": "nF6jthb5I3Fb",
        "outputId": "41d20fef-24d9-4a68-88c9-3c86962c8eef"
      },
      "source": [
        "summary(mdl_glm)"
      ],
      "execution_count": null,
      "outputs": [
        {
          "output_type": "display_data",
          "data": {
            "text/plain": [
              "\n",
              "Call:\n",
              "glm(formula = weight ~ Diet - 1, family = \"gaussian\", data = ChickWeight)\n",
              "\n",
              "Deviance Residuals: \n",
              "    Min       1Q   Median       3Q      Max  \n",
              "-103.95   -53.65   -13.64    40.38   230.05  \n",
              "\n",
              "Coefficients:\n",
              "      Estimate Std. Error t value Pr(>|t|)    \n",
              "Diet1  102.645      4.674   21.96   <2e-16 ***\n",
              "Diet2  122.617      6.329   19.38   <2e-16 ***\n",
              "Diet3  142.950      6.329   22.59   <2e-16 ***\n",
              "Diet4  135.263      6.382   21.20   <2e-16 ***\n",
              "---\n",
              "Signif. codes:  0 ‘***’ 0.001 ‘**’ 0.01 ‘*’ 0.05 ‘.’ 0.1 ‘ ’ 1\n",
              "\n",
              "(Dispersion parameter for gaussian family taken to be 4806.086)\n",
              "\n",
              "    Null deviance: 11491907  on 578  degrees of freedom\n",
              "Residual deviance:  2758693  on 574  degrees of freedom\n",
              "AIC: 6546.4\n",
              "\n",
              "Number of Fisher Scoring iterations: 2\n"
            ]
          },
          "metadata": {
            "tags": []
          }
        }
      ]
    },
    {
      "cell_type": "code",
      "metadata": {
        "colab": {
          "base_uri": "https://localhost:8080/",
          "height": 212
        },
        "id": "YnQziTXgI3Ig",
        "outputId": "a5522915-2f3c-4b03-8cd5-252a90ef5ffa"
      },
      "source": [
        "library(broom)\n",
        "\n",
        "tidy(mdl_glm)"
      ],
      "execution_count": 6,
      "outputs": [
        {
          "output_type": "display_data",
          "data": {
            "text/plain": [
              "  term  estimate std.error statistic p.value     \n",
              "1 Diet1 102.6455 4.673954  21.96116  4.712762e-78\n",
              "2 Diet2 122.6167 6.328563  19.37512  1.007028e-64\n",
              "3 Diet3 142.9500 6.328563  22.58806  2.594595e-81\n",
              "4 Diet4 135.2627 6.381970  21.19451  4.449019e-74"
            ],
            "text/latex": "A tibble: 4 × 5\n\\begin{tabular}{lllll}\n term & estimate & std.error & statistic & p.value\\\\\n <chr> & <dbl> & <dbl> & <dbl> & <dbl>\\\\\n\\hline\n\t Diet1 & 102.6455 & 4.673954 & 21.96116 & 4.712762e-78\\\\\n\t Diet2 & 122.6167 & 6.328563 & 19.37512 & 1.007028e-64\\\\\n\t Diet3 & 142.9500 & 6.328563 & 22.58806 & 2.594595e-81\\\\\n\t Diet4 & 135.2627 & 6.381970 & 21.19451 & 4.449019e-74\\\\\n\\end{tabular}\n",
            "text/markdown": "\nA tibble: 4 × 5\n\n| term &lt;chr&gt; | estimate &lt;dbl&gt; | std.error &lt;dbl&gt; | statistic &lt;dbl&gt; | p.value &lt;dbl&gt; |\n|---|---|---|---|---|\n| Diet1 | 102.6455 | 4.673954 | 21.96116 | 4.712762e-78 |\n| Diet2 | 122.6167 | 6.328563 | 19.37512 | 1.007028e-64 |\n| Diet3 | 142.9500 | 6.328563 | 22.58806 | 2.594595e-81 |\n| Diet4 | 135.2627 | 6.381970 | 21.19451 | 4.449019e-74 |\n\n",
            "text/html": [
              "<table class=\"dataframe\">\n",
              "<caption>A tibble: 4 × 5</caption>\n",
              "<thead>\n",
              "\t<tr><th scope=col>term</th><th scope=col>estimate</th><th scope=col>std.error</th><th scope=col>statistic</th><th scope=col>p.value</th></tr>\n",
              "\t<tr><th scope=col>&lt;chr&gt;</th><th scope=col>&lt;dbl&gt;</th><th scope=col>&lt;dbl&gt;</th><th scope=col>&lt;dbl&gt;</th><th scope=col>&lt;dbl&gt;</th></tr>\n",
              "</thead>\n",
              "<tbody>\n",
              "\t<tr><td>Diet1</td><td>102.6455</td><td>4.673954</td><td>21.96116</td><td>4.712762e-78</td></tr>\n",
              "\t<tr><td>Diet2</td><td>122.6167</td><td>6.328563</td><td>19.37512</td><td>1.007028e-64</td></tr>\n",
              "\t<tr><td>Diet3</td><td>142.9500</td><td>6.328563</td><td>22.58806</td><td>2.594595e-81</td></tr>\n",
              "\t<tr><td>Diet4</td><td>135.2627</td><td>6.381970</td><td>21.19451</td><td>4.449019e-74</td></tr>\n",
              "</tbody>\n",
              "</table>\n"
            ]
          },
          "metadata": {
            "tags": []
          }
        }
      ]
    },
    {
      "cell_type": "code",
      "metadata": {
        "colab": {
          "base_uri": "https://localhost:8080/",
          "height": 34
        },
        "id": "Hxi0x2xEI3LR",
        "outputId": "f60f898b-36f8-4f42-f66c-90a4c4b8677a"
      },
      "source": [
        "coef(mdl_glm)"
      ],
      "execution_count": null,
      "outputs": [
        {
          "output_type": "display_data",
          "data": {
            "text/plain": [
              "   Diet1    Diet2    Diet3    Diet4 \n",
              "102.6455 122.6167 142.9500 135.2627 "
            ],
            "text/latex": "\\begin{description*}\n\\item[Diet1] 102.645454545455\n\\item[Diet2] 122.616666666667\n\\item[Diet3] 142.95\n\\item[Diet4] 135.262711864407\n\\end{description*}\n",
            "text/markdown": "Diet1\n:   102.645454545455Diet2\n:   122.616666666667Diet3\n:   142.95Diet4\n:   135.262711864407\n\n",
            "text/html": [
              "<style>\n",
              ".dl-inline {width: auto; margin:0; padding: 0}\n",
              ".dl-inline>dt, .dl-inline>dd {float: none; width: auto; display: inline-block}\n",
              ".dl-inline>dt::after {content: \":\\0020\"; padding-right: .5ex}\n",
              ".dl-inline>dt:not(:first-of-type) {padding-left: .5ex}\n",
              "</style><dl class=dl-inline><dt>Diet1</dt><dd>102.645454545455</dd><dt>Diet2</dt><dd>122.616666666667</dd><dt>Diet3</dt><dd>142.95</dd><dt>Diet4</dt><dd>135.262711864407</dd></dl>\n"
            ]
          },
          "metadata": {
            "tags": []
          }
        }
      ]
    },
    {
      "cell_type": "code",
      "metadata": {
        "id": "7RXhv5NZMBLh",
        "colab": {
          "base_uri": "https://localhost:8080/",
          "height": 216
        },
        "outputId": "6696079d-1b0b-41b1-94c7-c8ef911b9708"
      },
      "source": [
        "confint(mdl_glm)"
      ],
      "execution_count": 7,
      "outputs": [
        {
          "output_type": "stream",
          "text": [
            "Waiting for profiling to be done...\n",
            "\n"
          ],
          "name": "stderr"
        },
        {
          "output_type": "display_data",
          "data": {
            "text/plain": [
              "      2.5 %     97.5 %  \n",
              "Diet1  93.48467 111.8062\n",
              "Diet2 110.21291 135.0204\n",
              "Diet3 130.54624 155.3538\n",
              "Diet4 122.75428 147.7711"
            ],
            "text/latex": "A matrix: 4 × 2 of type dbl\n\\begin{tabular}{r|ll}\n  & 2.5 \\% & 97.5 \\%\\\\\n\\hline\n\tDiet1 &  93.48467 & 111.8062\\\\\n\tDiet2 & 110.21291 & 135.0204\\\\\n\tDiet3 & 130.54624 & 155.3538\\\\\n\tDiet4 & 122.75428 & 147.7711\\\\\n\\end{tabular}\n",
            "text/markdown": "\nA matrix: 4 × 2 of type dbl\n\n| <!--/--> | 2.5 % | 97.5 % |\n|---|---|---|\n| Diet1 |  93.48467 | 111.8062 |\n| Diet2 | 110.21291 | 135.0204 |\n| Diet3 | 130.54624 | 155.3538 |\n| Diet4 | 122.75428 | 147.7711 |\n\n",
            "text/html": [
              "<table class=\"dataframe\">\n",
              "<caption>A matrix: 4 × 2 of type dbl</caption>\n",
              "<thead>\n",
              "\t<tr><th></th><th scope=col>2.5 %</th><th scope=col>97.5 %</th></tr>\n",
              "</thead>\n",
              "<tbody>\n",
              "\t<tr><th scope=row>Diet1</th><td> 93.48467</td><td>111.8062</td></tr>\n",
              "\t<tr><th scope=row>Diet2</th><td>110.21291</td><td>135.0204</td></tr>\n",
              "\t<tr><th scope=row>Diet3</th><td>130.54624</td><td>155.3538</td></tr>\n",
              "\t<tr><th scope=row>Diet4</th><td>122.75428</td><td>147.7711</td></tr>\n",
              "</tbody>\n",
              "</table>\n"
            ]
          },
          "metadata": {
            "tags": []
          }
        }
      ]
    },
    {
      "cell_type": "code",
      "metadata": {
        "id": "ZVEB_Dbmxr97"
      },
      "source": [
        "mdl_logit <- glm(y ~ x, data = dat, family = 'binomial')"
      ],
      "execution_count": null,
      "outputs": []
    },
    {
      "cell_type": "code",
      "metadata": {
        "id": "8RTPag3yxsAn"
      },
      "source": [
        "# Fit a wide form logistic regression\n",
        "lr_2 <- glm(cbind(success, fail) ~ x, family = 'binomial',\n",
        "            data = data_wide)\n",
        "\n",
        "# Print the output of lr_2\n",
        "print(lr_2)\n",
        "\n",
        "# Using dataWide, fit a glm with successProportion\n",
        "# predicted by x and weights = Total\n",
        "lr_3 <- glm(successProportion ~ x, family = 'binomial',\n",
        "            data = data_wide, weights = Total)\n",
        "\n",
        "# Print the output of lr_3\n",
        "print(lr_3)"
      ],
      "execution_count": null,
      "outputs": []
    },
    {
      "cell_type": "code",
      "metadata": {
        "id": "3Ok-WckZ1CEe"
      },
      "source": [
        ""
      ],
      "execution_count": null,
      "outputs": []
    },
    {
      "cell_type": "code",
      "metadata": {
        "id": "YZOebbt61CHH"
      },
      "source": [
        "glm(x ~ y, data, family = binomial(link = \"logit\")) # default\n",
        "glm(x ~ y, data, family = binomial(link = \"probit\"))"
      ],
      "execution_count": null,
      "outputs": []
    },
    {
      "cell_type": "code",
      "metadata": {
        "id": "MnCsujEs1CKg"
      },
      "source": [
        ""
      ],
      "execution_count": null,
      "outputs": []
    },
    {
      "cell_type": "code",
      "metadata": {
        "id": "Vd0dkMO3xsDO"
      },
      "source": [
        ""
      ],
      "execution_count": null,
      "outputs": []
    }
  ]
}