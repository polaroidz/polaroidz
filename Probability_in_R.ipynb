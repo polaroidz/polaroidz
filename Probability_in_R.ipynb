{
  "nbformat": 4,
  "nbformat_minor": 0,
  "metadata": {
    "colab": {
      "name": "Probability_in_R.ipynb",
      "provenance": [],
      "collapsed_sections": [],
      "authorship_tag": "ABX9TyPDmuRKpvgN2Bpnxh5pBwnm",
      "include_colab_link": true
    },
    "kernelspec": {
      "name": "ir",
      "display_name": "R"
    },
    "language_info": {
      "name": "R"
    }
  },
  "cells": [
    {
      "cell_type": "markdown",
      "metadata": {
        "id": "view-in-github",
        "colab_type": "text"
      },
      "source": [
        "<a href=\"https://colab.research.google.com/github/polaroidz/polaroidz/blob/main/Probability_in_R.ipynb\" target=\"_parent\"><img src=\"https://colab.research.google.com/assets/colab-badge.svg\" alt=\"Open In Colab\"/></a>"
      ]
    },
    {
      "cell_type": "code",
      "metadata": {
        "id": "0U8KRP0o2RQ3",
        "colab": {
          "base_uri": "https://localhost:8080/"
        },
        "outputId": "31f7b25e-6e09-426f-843b-892f0c97552e"
      },
      "source": [
        "library(ggplot2)\n",
        "library(dplyr)"
      ],
      "execution_count": 1,
      "outputs": [
        {
          "output_type": "stream",
          "text": [
            "\n",
            "Attaching package: ‘dplyr’\n",
            "\n",
            "\n",
            "The following objects are masked from ‘package:stats’:\n",
            "\n",
            "    filter, lag\n",
            "\n",
            "\n",
            "The following objects are masked from ‘package:base’:\n",
            "\n",
            "    intersect, setdiff, setequal, union\n",
            "\n",
            "\n"
          ],
          "name": "stderr"
        }
      ]
    },
    {
      "cell_type": "markdown",
      "metadata": {
        "id": "jWTuCbOc0zPd"
      },
      "source": [
        "## Binomial Dist."
      ]
    },
    {
      "cell_type": "code",
      "metadata": {
        "colab": {
          "base_uri": "https://localhost:8080/",
          "height": 34
        },
        "id": "Sd0krY9FzSkY",
        "outputId": "d042d2a6-f3c1-40f9-81f2-134ab59a5d13"
      },
      "source": [
        "rbinom(1, 1, 0.5)"
      ],
      "execution_count": null,
      "outputs": [
        {
          "output_type": "display_data",
          "data": {
            "text/plain": [
              "[1] 1"
            ],
            "text/latex": "1",
            "text/markdown": "1",
            "text/html": [
              "1"
            ]
          },
          "metadata": {
            "tags": []
          }
        }
      ]
    },
    {
      "cell_type": "code",
      "metadata": {
        "colab": {
          "base_uri": "https://localhost:8080/",
          "height": 34
        },
        "id": "NJaWwqzuzXyw",
        "outputId": "5f88c9ca-7149-407e-b1e3-6cf6ca615fd7"
      },
      "source": [
        "rbinom(1, 1, 0.5)"
      ],
      "execution_count": null,
      "outputs": [
        {
          "output_type": "display_data",
          "data": {
            "text/plain": [
              "[1] 0"
            ],
            "text/latex": "0",
            "text/markdown": "0",
            "text/html": [
              "0"
            ]
          },
          "metadata": {
            "tags": []
          }
        }
      ]
    },
    {
      "cell_type": "code",
      "metadata": {
        "colab": {
          "base_uri": "https://localhost:8080/",
          "height": 34
        },
        "id": "NfGOunFL0bAz",
        "outputId": "7297dcbc-f7c2-47a6-cd1d-feee872745ea"
      },
      "source": [
        "rbinom(10, 1, .5)"
      ],
      "execution_count": null,
      "outputs": [
        {
          "output_type": "display_data",
          "data": {
            "text/plain": [
              " [1] 0 0 0 0 0 1 1 0 0 0"
            ],
            "text/latex": "\\begin{enumerate*}\n\\item 0\n\\item 0\n\\item 0\n\\item 0\n\\item 0\n\\item 1\n\\item 1\n\\item 0\n\\item 0\n\\item 0\n\\end{enumerate*}\n",
            "text/markdown": "1. 0\n2. 0\n3. 0\n4. 0\n5. 0\n6. 1\n7. 1\n8. 0\n9. 0\n10. 0\n\n\n",
            "text/html": [
              "<style>\n",
              ".list-inline {list-style: none; margin:0; padding: 0}\n",
              ".list-inline>li {display: inline-block}\n",
              ".list-inline>li:not(:last-child)::after {content: \"\\00b7\"; padding: 0 .5ex}\n",
              "</style>\n",
              "<ol class=list-inline><li>0</li><li>0</li><li>0</li><li>0</li><li>0</li><li>1</li><li>1</li><li>0</li><li>0</li><li>0</li></ol>\n"
            ]
          },
          "metadata": {
            "tags": []
          }
        }
      ]
    },
    {
      "cell_type": "code",
      "metadata": {
        "colab": {
          "base_uri": "https://localhost:8080/",
          "height": 34
        },
        "id": "vLyErQUh0q4y",
        "outputId": "d1fd83e6-c62a-41ed-9c78-24f2fd7402aa"
      },
      "source": [
        "rbinom(1, 10, .5)"
      ],
      "execution_count": null,
      "outputs": [
        {
          "output_type": "display_data",
          "data": {
            "text/plain": [
              "[1] 5"
            ],
            "text/latex": "5",
            "text/markdown": "5",
            "text/html": [
              "5"
            ]
          },
          "metadata": {
            "tags": []
          }
        }
      ]
    },
    {
      "cell_type": "code",
      "metadata": {
        "colab": {
          "base_uri": "https://localhost:8080/",
          "height": 34
        },
        "id": "0IrwDEOL046r",
        "outputId": "806861d7-4876-455b-eeab-34f4ef06a885"
      },
      "source": [
        "# X ~ Binomial(size, p)\n",
        "rbinom(10, 10, .5)"
      ],
      "execution_count": null,
      "outputs": [
        {
          "output_type": "display_data",
          "data": {
            "text/plain": [
              " [1] 3 6 4 4 4 5 5 5 4 2"
            ],
            "text/latex": "\\begin{enumerate*}\n\\item 3\n\\item 6\n\\item 4\n\\item 4\n\\item 4\n\\item 5\n\\item 5\n\\item 5\n\\item 4\n\\item 2\n\\end{enumerate*}\n",
            "text/markdown": "1. 3\n2. 6\n3. 4\n4. 4\n5. 4\n6. 5\n7. 5\n8. 5\n9. 4\n10. 2\n\n\n",
            "text/html": [
              "<style>\n",
              ".list-inline {list-style: none; margin:0; padding: 0}\n",
              ".list-inline>li {display: inline-block}\n",
              ".list-inline>li:not(:last-child)::after {content: \"\\00b7\"; padding: 0 .5ex}\n",
              "</style>\n",
              "<ol class=list-inline><li>3</li><li>6</li><li>4</li><li>4</li><li>4</li><li>5</li><li>5</li><li>5</li><li>4</li><li>2</li></ol>\n"
            ]
          },
          "metadata": {
            "tags": []
          }
        }
      ]
    },
    {
      "cell_type": "code",
      "metadata": {
        "id": "XHeejVTX07Wy"
      },
      "source": [
        "# X ~ Binomial(10, .5)\n",
        "# Pr(X = 5)\n",
        "\n",
        "dbinom(5, 10, 0.5)"
      ],
      "execution_count": null,
      "outputs": []
    },
    {
      "cell_type": "code",
      "metadata": {
        "colab": {
          "base_uri": "https://localhost:8080/",
          "height": 34
        },
        "id": "8sQMK6mR1xI6",
        "outputId": "b14fe14b-6dfe-4b87-e38f-94f0f3918c06"
      },
      "source": [
        "flips <- rbinom(1000000, 10, .5)\n",
        "mean(flips == 5) # Pr(X = 5)"
      ],
      "execution_count": null,
      "outputs": [
        {
          "output_type": "display_data",
          "data": {
            "text/plain": [
              "[1] 0.246354"
            ],
            "text/latex": "0.246354",
            "text/markdown": "0.246354",
            "text/html": [
              "0.246354"
            ]
          },
          "metadata": {
            "tags": []
          }
        }
      ]
    },
    {
      "cell_type": "code",
      "metadata": {
        "colab": {
          "base_uri": "https://localhost:8080/",
          "height": 34
        },
        "id": "RNLUG6T_1xLz",
        "outputId": "a8a092a9-aa59-412a-bbb6-83a694d327ab"
      },
      "source": [
        "dbinom(5, 10, 0.5) # Pr(X = 5)"
      ],
      "execution_count": null,
      "outputs": [
        {
          "output_type": "display_data",
          "data": {
            "text/plain": [
              "[1] 0.2460938"
            ],
            "text/latex": "0.24609375",
            "text/markdown": "0.24609375",
            "text/html": [
              "0.24609375"
            ]
          },
          "metadata": {
            "tags": []
          }
        }
      ]
    },
    {
      "cell_type": "code",
      "metadata": {
        "colab": {
          "base_uri": "https://localhost:8080/",
          "height": 34
        },
        "id": "S7d-FsLq1xOf",
        "outputId": "36b6baaa-5653-4ef1-d71d-4ac38dc61867"
      },
      "source": [
        "mean(flips <= 4)"
      ],
      "execution_count": null,
      "outputs": [
        {
          "output_type": "display_data",
          "data": {
            "text/plain": [
              "[1] 0.377126"
            ],
            "text/latex": "0.377126",
            "text/markdown": "0.377126",
            "text/html": [
              "0.377126"
            ]
          },
          "metadata": {
            "tags": []
          }
        }
      ]
    },
    {
      "cell_type": "code",
      "metadata": {
        "colab": {
          "base_uri": "https://localhost:8080/",
          "height": 34
        },
        "id": "60AzvhQ51xRC",
        "outputId": "c993745f-f9dd-412d-9797-581c6dfe8905"
      },
      "source": [
        "pbinom(4, 10, 0.5)"
      ],
      "execution_count": null,
      "outputs": [
        {
          "output_type": "display_data",
          "data": {
            "text/plain": [
              "[1] 0.3769531"
            ],
            "text/latex": "0.376953125",
            "text/markdown": "0.376953125",
            "text/html": [
              "0.376953125"
            ]
          },
          "metadata": {
            "tags": []
          }
        }
      ]
    },
    {
      "cell_type": "code",
      "metadata": {
        "colab": {
          "base_uri": "https://localhost:8080/",
          "height": 34
        },
        "id": "oxxbfKD-1xTw",
        "outputId": "43290a94-65fc-4c63-e9d6-b8b00bec421a"
      },
      "source": [
        "var(flips)"
      ],
      "execution_count": null,
      "outputs": [
        {
          "output_type": "display_data",
          "data": {
            "text/plain": [
              "[1] 2.501625"
            ],
            "text/latex": "2.50162537274437",
            "text/markdown": "2.50162537274437",
            "text/html": [
              "2.50162537274437"
            ]
          },
          "metadata": {
            "tags": []
          }
        }
      ]
    },
    {
      "cell_type": "code",
      "metadata": {
        "colab": {
          "base_uri": "https://localhost:8080/",
          "height": 34
        },
        "id": "sw0pVw5k1xWy",
        "outputId": "3764c39a-c74e-4e29-a39c-8dfaccd02e80"
      },
      "source": [
        "Y <- rbinom(100000, 100, 0.2)\n",
        "var(Y)"
      ],
      "execution_count": null,
      "outputs": [
        {
          "output_type": "display_data",
          "data": {
            "text/plain": [
              "[1] 16.03024"
            ],
            "text/latex": "16.0302402348023",
            "text/markdown": "16.0302402348023",
            "text/html": [
              "16.0302402348023"
            ]
          },
          "metadata": {
            "tags": []
          }
        }
      ]
    },
    {
      "cell_type": "code",
      "metadata": {
        "colab": {
          "base_uri": "https://localhost:8080/",
          "height": 34
        },
        "id": "WcCiLmru1xY3",
        "outputId": "6fb033a9-4bea-4c83-a3c0-a8ceaf883823"
      },
      "source": [
        "A <- rbinom(1000000, 1, .6)\n",
        "B <- rbinom(1000000, 1, .1)\n",
        "\n",
        "mean(A & B) # Pr(A and B) = P(A) * P(B)"
      ],
      "execution_count": null,
      "outputs": [
        {
          "output_type": "display_data",
          "data": {
            "text/plain": [
              "[1] 0.060374"
            ],
            "text/latex": "0.060374",
            "text/markdown": "0.060374",
            "text/html": [
              "0.060374"
            ]
          },
          "metadata": {
            "tags": []
          }
        }
      ]
    },
    {
      "cell_type": "code",
      "metadata": {
        "colab": {
          "base_uri": "https://localhost:8080/",
          "height": 34
        },
        "id": "Xp8E9VAM9UwJ",
        "outputId": "b16b2fab-c1d0-4049-80b8-b7f0deedf37d"
      },
      "source": [
        "mean(A | B) # Pr(A or B) = P(A) + P(B) - P(A and B)"
      ],
      "execution_count": null,
      "outputs": [
        {
          "output_type": "display_data",
          "data": {
            "text/plain": [
              "[1] 0.639945"
            ],
            "text/latex": "0.639945",
            "text/markdown": "0.639945",
            "text/html": [
              "0.639945"
            ]
          },
          "metadata": {
            "tags": []
          }
        }
      ]
    },
    {
      "cell_type": "code",
      "metadata": {
        "colab": {
          "base_uri": "https://localhost:8080/",
          "height": 34
        },
        "id": "5Cv__G8D-6XO",
        "outputId": "12874b73-b0eb-4373-e358-1617c26724fb"
      },
      "source": [
        "pbinom(4, 10, .6)"
      ],
      "execution_count": null,
      "outputs": [
        {
          "output_type": "display_data",
          "data": {
            "text/plain": [
              "[1] 0.1662386"
            ],
            "text/latex": "0.1662386176",
            "text/markdown": "0.1662386176",
            "text/html": [
              "0.1662386176"
            ]
          },
          "metadata": {
            "tags": []
          }
        }
      ]
    },
    {
      "cell_type": "code",
      "metadata": {
        "colab": {
          "base_uri": "https://localhost:8080/",
          "height": 34
        },
        "id": "J9-xvTZdACpJ",
        "outputId": "7e4b9cd6-d5cb-4f22-884f-8f45836112cb"
      },
      "source": [
        "pbinom(4, 10, .7)"
      ],
      "execution_count": null,
      "outputs": [
        {
          "output_type": "display_data",
          "data": {
            "text/plain": [
              "[1] 0.04734899"
            ],
            "text/latex": "0.0473489874",
            "text/markdown": "0.0473489874",
            "text/html": [
              "0.0473489874"
            ]
          },
          "metadata": {
            "tags": []
          }
        }
      ]
    },
    {
      "cell_type": "code",
      "metadata": {
        "id": "G9AINDa3AUok",
        "colab": {
          "base_uri": "https://localhost:8080/",
          "height": 34
        },
        "outputId": "432926dd-eeeb-4322-d7fc-ce5be6c0c836"
      },
      "source": [
        "# X ~ Binomial(10, .5)\n",
        "# Y ~ 3.X\n",
        "\n",
        "X <- rbinom(100000, 10, 0.5)\n",
        "\n",
        "mean(X)"
      ],
      "execution_count": null,
      "outputs": [
        {
          "output_type": "display_data",
          "data": {
            "text/plain": [
              "[1] 5.00474"
            ],
            "text/latex": "5.00474",
            "text/markdown": "5.00474",
            "text/html": [
              "5.00474"
            ]
          },
          "metadata": {
            "tags": []
          }
        }
      ]
    },
    {
      "cell_type": "code",
      "metadata": {
        "colab": {
          "base_uri": "https://localhost:8080/",
          "height": 34
        },
        "id": "MYiaWY0D4E3B",
        "outputId": "5ba379f6-398b-465b-a8a7-5117c77b8718"
      },
      "source": [
        "Y <- 3 * X\n",
        "\n",
        "mean(Y)"
      ],
      "execution_count": null,
      "outputs": [
        {
          "output_type": "display_data",
          "data": {
            "text/plain": [
              "[1] 15.01422"
            ],
            "text/latex": "15.01422",
            "text/markdown": "15.01422",
            "text/html": [
              "15.01422"
            ]
          },
          "metadata": {
            "tags": []
          }
        }
      ]
    },
    {
      "cell_type": "code",
      "metadata": {
        "colab": {
          "base_uri": "https://localhost:8080/",
          "height": 34
        },
        "id": "uBdGfgRk4IeG",
        "outputId": "0acf8384-5469-43c3-dd46-3152011339c9"
      },
      "source": [
        "var(X)"
      ],
      "execution_count": null,
      "outputs": [
        {
          "output_type": "display_data",
          "data": {
            "text/plain": [
              "[1] 2.500863"
            ],
            "text/latex": "2.50086254102541",
            "text/markdown": "2.50086254102541",
            "text/html": [
              "2.50086254102541"
            ]
          },
          "metadata": {
            "tags": []
          }
        }
      ]
    },
    {
      "cell_type": "code",
      "metadata": {
        "colab": {
          "base_uri": "https://localhost:8080/",
          "height": 34
        },
        "id": "3WEP3DTM4XYC",
        "outputId": "67f7d83a-78a6-4983-f3a9-b9685896d461"
      },
      "source": [
        "var(Y) # Var[Y] = 3^2 * Var[X]"
      ],
      "execution_count": null,
      "outputs": [
        {
          "output_type": "display_data",
          "data": {
            "text/plain": [
              "[1] 22.50776"
            ],
            "text/latex": "22.5077628692287",
            "text/markdown": "22.5077628692287",
            "text/html": [
              "22.5077628692287"
            ]
          },
          "metadata": {
            "tags": []
          }
        }
      ]
    },
    {
      "cell_type": "code",
      "metadata": {
        "colab": {
          "base_uri": "https://localhost:8080/",
          "height": 34
        },
        "id": "SliZNXKC4ZsG",
        "outputId": "df81094e-017f-43be-c40f-5912eb63167b"
      },
      "source": [
        "50*0.4"
      ],
      "execution_count": null,
      "outputs": [
        {
          "output_type": "display_data",
          "data": {
            "text/plain": [
              "[1] 20"
            ],
            "text/latex": "20",
            "text/markdown": "20",
            "text/html": [
              "20"
            ]
          },
          "metadata": {
            "tags": []
          }
        }
      ]
    },
    {
      "cell_type": "code",
      "metadata": {
        "colab": {
          "base_uri": "https://localhost:8080/",
          "height": 34
        },
        "id": "pSykiOv84mWG",
        "outputId": "a8dbb3b1-5db4-4281-972f-5edd6fbe38ef"
      },
      "source": [
        "# X ~ Binom(10, 0.5)\n",
        "# Y ~ Binom(100, 0.2)\n",
        "\n",
        "# Z ~ X + Y\n",
        "\n",
        "X <- rbinom(100000, 10, .5)\n",
        "Y <- rbinom(100000, 100, .2)\n",
        "\n",
        "Z <- X + Y\n",
        "\n",
        "mean(Z)"
      ],
      "execution_count": null,
      "outputs": [
        {
          "output_type": "display_data",
          "data": {
            "text/plain": [
              "[1] 24.99954"
            ],
            "text/latex": "24.99954",
            "text/markdown": "24.99954",
            "text/html": [
              "24.99954"
            ]
          },
          "metadata": {
            "tags": []
          }
        }
      ]
    },
    {
      "cell_type": "code",
      "metadata": {
        "colab": {
          "base_uri": "https://localhost:8080/",
          "height": 35
        },
        "id": "EgeAn7rO5Tsd",
        "outputId": "c15bfd67-88b8-4daa-be4f-b896aff41ad3"
      },
      "source": [
        "var(Z)"
      ],
      "execution_count": null,
      "outputs": [
        {
          "output_type": "display_data",
          "data": {
            "text/plain": [
              "[1] 18.53247"
            ],
            "text/latex": "18.5324651130511",
            "text/markdown": "18.5324651130511",
            "text/html": [
              "18.5324651130511"
            ]
          },
          "metadata": {
            "tags": []
          }
        }
      ]
    },
    {
      "cell_type": "code",
      "metadata": {
        "colab": {
          "base_uri": "https://localhost:8080/",
          "height": 35
        },
        "id": "-gVAKVby5YOv",
        "outputId": "e46f2168-b928-4acb-d239-829d768eaefc"
      },
      "source": [
        "fair <- rbinom(50000, 20, 0.5)\n",
        "\n",
        "sum(fair == 14)"
      ],
      "execution_count": null,
      "outputs": [
        {
          "output_type": "display_data",
          "data": {
            "text/plain": [
              "[1] 1884"
            ],
            "text/latex": "1884",
            "text/markdown": "1884",
            "text/html": [
              "1884"
            ]
          },
          "metadata": {
            "tags": []
          }
        }
      ]
    },
    {
      "cell_type": "code",
      "metadata": {
        "colab": {
          "base_uri": "https://localhost:8080/",
          "height": 35
        },
        "id": "7sN2G9Qf65Kb",
        "outputId": "cd2546fd-eb4a-4275-f30c-fac17b4aeeeb"
      },
      "source": [
        "biased <- rbinom(50000, 20, 0.75)\n",
        "\n",
        "sum(biased == 14)"
      ],
      "execution_count": null,
      "outputs": [
        {
          "output_type": "display_data",
          "data": {
            "text/plain": [
              "[1] 8457"
            ],
            "text/latex": "8457",
            "text/markdown": "8457",
            "text/html": [
              "8457"
            ]
          },
          "metadata": {
            "tags": []
          }
        }
      ]
    },
    {
      "cell_type": "code",
      "metadata": {
        "colab": {
          "base_uri": "https://localhost:8080/",
          "height": 35
        },
        "id": "GWhqqt127CeP",
        "outputId": "c816ad0f-7279-4ca2-e736-674a055a1d45"
      },
      "source": [
        "1884 + 8457"
      ],
      "execution_count": null,
      "outputs": [
        {
          "output_type": "display_data",
          "data": {
            "text/plain": [
              "[1] 10341"
            ],
            "text/latex": "10341",
            "text/markdown": "10341",
            "text/html": [
              "10341"
            ]
          },
          "metadata": {
            "tags": []
          }
        }
      ]
    },
    {
      "cell_type": "code",
      "metadata": {
        "colab": {
          "base_uri": "https://localhost:8080/",
          "height": 35
        },
        "id": "u-u9MCAQ7KCt",
        "outputId": "dfa68506-ffa2-4d40-f962-01bd4ab6b792"
      },
      "source": [
        "# Pr(Biased | 14 Heads) = 8457 / 10341 = 81%\n",
        "8457 / 10341 "
      ],
      "execution_count": null,
      "outputs": [
        {
          "output_type": "display_data",
          "data": {
            "text/plain": [
              "[1] 0.8178126"
            ],
            "text/latex": "0.817812590658544",
            "text/markdown": "0.817812590658544",
            "text/html": [
              "0.817812590658544"
            ]
          },
          "metadata": {
            "tags": []
          }
        }
      ]
    },
    {
      "cell_type": "code",
      "metadata": {
        "id": "HllRP7Sw7T4Y",
        "colab": {
          "base_uri": "https://localhost:8080/",
          "height": 35
        },
        "outputId": "74ee4176-5990-4533-9eba-b4530864097f"
      },
      "source": [
        "# Pr(14 Heads | Fair) * Pr(Fair)\n",
        "dbinom(14, 20, 0.5) * 0.9"
      ],
      "execution_count": 2,
      "outputs": [
        {
          "output_type": "display_data",
          "data": {
            "text/plain": [
              "[1] 0.03326797"
            ],
            "text/latex": "0.0332679748535157",
            "text/markdown": "0.0332679748535157",
            "text/html": [
              "0.0332679748535157"
            ]
          },
          "metadata": {
            "tags": []
          }
        }
      ]
    },
    {
      "cell_type": "code",
      "metadata": {
        "colab": {
          "base_uri": "https://localhost:8080/",
          "height": 35
        },
        "id": "vgZeiQUYmwiB",
        "outputId": "4a524609-ab13-4396-fbc3-90a18aa02d72"
      },
      "source": [
        "prob_14_fair <- dbinom(14, 20, 0.5) * 0.9\n",
        "prob_14_bias <- dbinom(14, 20, 0.75) * 0.1\n",
        "\n",
        "# Pr(Biased | 14 Heads) - Bayes\n",
        "prob_14_bias / (prob_14_fair + prob_14_bias)"
      ],
      "execution_count": 3,
      "outputs": [
        {
          "output_type": "display_data",
          "data": {
            "text/plain": [
              "[1] 0.3363514"
            ],
            "text/latex": "0.336351444319902",
            "text/markdown": "0.336351444319902",
            "text/html": [
              "0.336351444319902"
            ]
          },
          "metadata": {
            "tags": []
          }
        }
      ]
    },
    {
      "cell_type": "code",
      "metadata": {
        "colab": {
          "base_uri": "https://localhost:8080/",
          "height": 35
        },
        "id": "vU-RHKwPnRbM",
        "outputId": "04d68da3-dc20-41ac-a565-112c88318215"
      },
      "source": [
        "# Use dbinom to find the probability of 16/20 from a fair or biased coin\n",
        "probability_16_fair <- dbinom(16, 20, .5)\n",
        "probability_16_biased <- dbinom(16, 20, .75)\n",
        "\n",
        "# Use Bayes' theorem to find the posterior probability that the coin is fair\n",
        "(probability_16_fair * .99) / (probability_16_fair * .99 + probability_16_biased * .01)"
      ],
      "execution_count": 4,
      "outputs": [
        {
          "output_type": "display_data",
          "data": {
            "text/plain": [
              "[1] 0.7068775"
            ],
            "text/latex": "0.706877514393461",
            "text/markdown": "0.706877514393461",
            "text/html": [
              "0.706877514393461"
            ]
          },
          "metadata": {
            "tags": []
          }
        }
      ]
    },
    {
      "cell_type": "code",
      "metadata": {
        "id": "1eict7CXo3XZ"
      },
      "source": [
        "binomial <- rbinom(100000, 1000, 0.5)\n",
        "\n",
        "exp_value <- 1000 * 0.5\n",
        "variance <- 1000 * 0.5 * (1 - 0.5)\n",
        "stdev <- sqrt(variance)\n",
        "\n",
        "normal <- rnorm(100000, exp_value, stdev)"
      ],
      "execution_count": 5,
      "outputs": []
    },
    {
      "cell_type": "code",
      "metadata": {
        "colab": {
          "base_uri": "https://localhost:8080/",
          "height": 437
        },
        "id": "ZcByxQ0-qDsg",
        "outputId": "56d12ccb-7e86-4de5-aa16-683d7aa070cb"
      },
      "source": [
        "hist(binomial)"
      ],
      "execution_count": 6,
      "outputs": [
        {
          "output_type": "display_data",
          "data": {
            "image/png": "[encoded data removed]",
            "text/plain": [
              "Plot with title “Histogram of binomial”"
            ]
          },
          "metadata": {
            "tags": [],
            "image/png": {
              "width": 420,
              "height": 420
            }
          }
        }
      ]
    },
    {
      "cell_type": "code",
      "metadata": {
        "colab": {
          "base_uri": "https://localhost:8080/",
          "height": 437
        },
        "id": "aeAZuJ_4qO4X",
        "outputId": "29d4ca3f-dc14-41fc-ba41-828dac9c8db9"
      },
      "source": [
        "hist(normal)"
      ],
      "execution_count": 7,
      "outputs": [
        {
          "output_type": "display_data",
          "data": {
            "image/png": "[encoded data removed]",
            "text/plain": [
              "Plot with title “Histogram of normal”"
            ]
          },
          "metadata": {
            "tags": [],
            "image/png": {
              "width": 420,
              "height": 420
            }
          }
        }
      ]
    },
    {
      "cell_type": "code",
      "metadata": {
        "colab": {
          "base_uri": "https://localhost:8080/",
          "height": 35
        },
        "id": "-GuqFNAWqQgB",
        "outputId": "35898a2c-6bf7-415e-fd78-557bb2b747f5"
      },
      "source": [
        "pbinom(190, 1000, 0.2)"
      ],
      "execution_count": 8,
      "outputs": [
        {
          "output_type": "display_data",
          "data": {
            "text/plain": [
              "[1] 0.2273564"
            ],
            "text/latex": "0.227356419340745",
            "text/markdown": "0.227356419340745",
            "text/html": [
              "0.227356419340745"
            ]
          },
          "metadata": {
            "tags": []
          }
        }
      ]
    },
    {
      "cell_type": "code",
      "metadata": {
        "colab": {
          "base_uri": "https://localhost:8080/",
          "height": 857
        },
        "id": "Lwnb182HrIi7",
        "outputId": "c4cd0784-f824-4675-88f2-8ba0bee62b8a"
      },
      "source": [
        "X <- rbinom(1000000, 1000, 1 / 1000) # X ~ Binomial(1000, 1 / 1000)\n",
        "\n",
        "# E[X] = 1 = lambda\n",
        "\n",
        "Y <- rpois(1000000, 1) # Y ~ Poisson(lambda = 1)\n",
        "\n",
        "hist(X)\n",
        "hist(Y)"
      ],
      "execution_count": 9,
      "outputs": [
        {
          "output_type": "display_data",
          "data": {
            "image/png": "[encoded data removed]",
            "text/plain": [
              "Plot with title “Histogram of X”"
            ]
          },
          "metadata": {
            "tags": [],
            "image/png": {
              "width": 420,
              "height": 420
            }
          }
        },
        {
          "output_type": "display_data",
          "data": {
            "image/png": "[encoded data removed]",
            "text/plain": [
              "Plot with title “Histogram of Y”"
            ]
          },
          "metadata": {
            "tags": [],
            "image/png": {
              "width": 420,
              "height": 420
            }
          }
        }
      ]
    },
    {
      "cell_type": "code",
      "metadata": {
        "id": "cDnpvAY8sDvq"
      },
      "source": [
        ""
      ],
      "execution_count": null,
      "outputs": []
    }
  ]
}