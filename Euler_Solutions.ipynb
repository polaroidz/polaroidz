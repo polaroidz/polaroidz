{
  "nbformat": 4,
  "nbformat_minor": 0,
  "metadata": {
    "colab": {
      "name": "Euler Solutions.ipynb",
      "provenance": [],
      "collapsed_sections": [
        "znlVjapjGhXg",
        "jj6qo8b8KO0B",
        "NWSLY_ApMscD",
        "iV7mFkVQsTPZ",
        "grtfH8APhbpr",
        "bDIFqPZd3gp4",
        "YHWGXpDl-c7b",
        "eC-rstD7CfTr",
        "UqRo-BevWBEv",
        "sNeZH4fyZnbn",
        "NI-r23MxC4lF",
        "xaMFV5t9MJgC",
        "sEpNq-AYPHg8",
        "P2cpoxf-V0O2",
        "cCpiaVHeMc48",
        "008BPlZjBM3N"
      ],
      "authorship_tag": "ABX9TyMu8vFzg3l7cBqrPN8jgl9i",
      "include_colab_link": true
    },
    "kernelspec": {
      "name": "python3",
      "display_name": "Python 3"
    }
  },
  "cells": [
    {
      "cell_type": "markdown",
      "metadata": {
        "id": "view-in-github",
        "colab_type": "text"
      },
      "source": [
        "<a href=\"https://colab.research.google.com/github/polaroidz/polaroidz/blob/main/Euler_Solutions.ipynb\" target=\"_parent\"><img src=\"https://colab.research.google.com/assets/colab-badge.svg\" alt=\"Open In Colab\"/></a>"
      ]
    },
    {
      "cell_type": "markdown",
      "metadata": {
        "id": "kcTIw4aJiaoU"
      },
      "source": [
        "# Euler 04"
      ]
    },
    {
      "cell_type": "code",
      "metadata": {
        "id": "QVATDRmciZZ5"
      },
      "source": [
        "def is_palindrome(n):\n",
        "  s = str(n)\n",
        "  r = s[::-1]\n",
        "  return s == r\n"
      ],
      "execution_count": null,
      "outputs": []
    },
    {
      "cell_type": "code",
      "metadata": {
        "colab": {
          "base_uri": "https://localhost:8080/"
        },
        "id": "OzRsc7cAipIl",
        "outputId": "7397d6f9-0dbc-41cd-dd07-b5f82cf09394"
      },
      "source": [
        "from itertools import combinations\n",
        "\n",
        "a = range(100, 999)\n",
        "a = combinations(a, 2)\n",
        "a = map(lambda e: e[0] * e[1], a)\n",
        "a = filter(is_palindrome, a)\n",
        "a = max(a)\n",
        "\n",
        "print(a)"
      ],
      "execution_count": null,
      "outputs": [
        {
          "output_type": "stream",
          "text": [
            "906609\n"
          ],
          "name": "stdout"
        }
      ]
    },
    {
      "cell_type": "markdown",
      "metadata": {
        "id": "3L_z76ZjkSq5"
      },
      "source": [
        "# Euler 05"
      ]
    },
    {
      "cell_type": "code",
      "metadata": {
        "id": "SE8nBCVJkU5N"
      },
      "source": [
        "def is_divisible(n):\n",
        "  for i in range(2, 20):\n",
        "    if n % i != 0:\n",
        "      return False\n",
        "  return True"
      ],
      "execution_count": null,
      "outputs": []
    },
    {
      "cell_type": "code",
      "metadata": {
        "colab": {
          "base_uri": "https://localhost:8080/"
        },
        "id": "zOdIbN_PqVt0",
        "outputId": "6e7f9b51-9628-4cde-dc6f-ab7803a9a996"
      },
      "source": [
        "a = 2 * 3 * 5 * 7 * 11 * 13 * 17 * 19\n",
        "\n",
        "a * 24, is_divisible(a * 24)\n",
        "#b / a"
      ],
      "execution_count": null,
      "outputs": [
        {
          "output_type": "execute_result",
          "data": {
            "text/plain": [
              "(232792560, True)"
            ]
          },
          "metadata": {
            "tags": []
          },
          "execution_count": 121
        }
      ]
    },
    {
      "cell_type": "code",
      "metadata": {
        "id": "e62HMxOvmtH2"
      },
      "source": [
        "24 "
      ],
      "execution_count": null,
      "outputs": []
    },
    {
      "cell_type": "markdown",
      "metadata": {
        "id": "g9A8fkVwwqwf"
      },
      "source": [
        "# Euler 07\n"
      ]
    },
    {
      "cell_type": "code",
      "metadata": {
        "id": "qL0_E-XyeblJ"
      },
      "source": [
        "import math\n",
        "\n",
        "def is_prime(n):\n",
        "    if n < 2:\n",
        "        return False\n",
        "\n",
        "    if n % 2 == 0:\n",
        "        return n == 2\n",
        "\n",
        "    for i in range(3, n, 2): \n",
        "        if n % i == 0:\n",
        "            return False\n",
        "\n",
        "    return True"
      ],
      "execution_count": null,
      "outputs": []
    },
    {
      "cell_type": "markdown",
      "metadata": {
        "id": "PMQYaOxmMbkO"
      },
      "source": [
        ""
      ]
    },
    {
      "cell_type": "code",
      "metadata": {
        "id": "_0F_Jkll3iAm"
      },
      "source": [
        "from math import gcd\n",
        "\n",
        "def phi(n):\n",
        "    amount = 0        \n",
        "    for k in range(1, n + 1):\n",
        "        if gcd(n, k) == 1:\n",
        "            amount += 1\n",
        "    return amount"
      ],
      "execution_count": null,
      "outputs": []
    },
    {
      "cell_type": "code",
      "metadata": {
        "id": "d-mGS88TfnMr"
      },
      "source": [
        ""
      ],
      "execution_count": null,
      "outputs": []
    },
    {
      "cell_type": "code",
      "metadata": {
        "colab": {
          "base_uri": "https://localhost:8080/"
        },
        "id": "ZTqOTQ2tBYUL",
        "outputId": "af02bd75-9ca8-4dfb-8cf8-49e0d26c4dc1"
      },
      "source": [
        "n = 1\n",
        "a = 1\n",
        "\n",
        "while n < 10001:\n",
        "  a += 2\n",
        "\n",
        "  if is_prime(a):\n",
        "    n += 1\n",
        "\n",
        "a, is_prime(a)"
      ],
      "execution_count": null,
      "outputs": [
        {
          "output_type": "execute_result",
          "data": {
            "text/plain": [
              "(104743, True)"
            ]
          },
          "metadata": {
            "tags": []
          },
          "execution_count": 43
        }
      ]
    },
    {
      "cell_type": "code",
      "metadata": {
        "id": "qNLPItUDKBXZ"
      },
      "source": [
        ""
      ],
      "execution_count": null,
      "outputs": []
    },
    {
      "cell_type": "markdown",
      "metadata": {
        "id": "owbJGK5xiFNy"
      },
      "source": [
        "# Euler 09"
      ]
    },
    {
      "cell_type": "code",
      "metadata": {
        "colab": {
          "base_uri": "https://localhost:8080/"
        },
        "id": "WxtTiJYt_rHH",
        "outputId": "3df2ee3a-5407-4238-fd0b-73a810249160"
      },
      "source": [
        "def is_triplet(t):\n",
        "  a, b, c = t\n",
        "  if not a < b < c:\n",
        "    return False \n",
        "\n",
        "  return a**2 + b**2 == c**2 and a + b + c == 1000\n",
        "\n",
        "from itertools import combinations\n",
        "\n",
        "a = combinations(range(200, 500), 3)\n",
        "a = filter(is_triplet, a)\n",
        "a = next(a)\n",
        "\n",
        "print(a, sum(a))"
      ],
      "execution_count": null,
      "outputs": [
        {
          "output_type": "stream",
          "text": [
            "(200, 375, 425) 1000\n"
          ],
          "name": "stdout"
        }
      ]
    },
    {
      "cell_type": "code",
      "metadata": {
        "id": "WhSESgKzC3ft"
      },
      "source": [
        ""
      ],
      "execution_count": null,
      "outputs": []
    },
    {
      "cell_type": "markdown",
      "metadata": {
        "id": "znlVjapjGhXg"
      },
      "source": [
        "# Euler 10"
      ]
    },
    {
      "cell_type": "code",
      "metadata": {
        "id": "gAQL0k55FBIx"
      },
      "source": [
        "def gen_primes():\n",
        "    D = {}    \n",
        "\n",
        "    q = 2\n",
        "    while True:\n",
        "        if q not in D:\n",
        "            yield q\n",
        "            D[q * q] = [q]\n",
        "        else:\n",
        "            for p in D[q]:\n",
        "                D.setdefault(p + q, []).append(p)\n",
        "            del D[q]\n",
        "        q += 1"
      ],
      "execution_count": null,
      "outputs": []
    },
    {
      "cell_type": "code",
      "metadata": {
        "colab": {
          "base_uri": "https://localhost:8080/"
        },
        "id": "39m9L0_jIdNs",
        "outputId": "b8a8ca12-5a55-428a-8a24-6b94f2afc2e7"
      },
      "source": [
        "s = 0\n",
        "g = gen_primes()\n",
        "p = next(g)\n",
        "\n",
        "while p < 2*(10**6):\n",
        "  p = next(g)\n",
        "  s += p\n",
        "\n",
        "print(s)"
      ],
      "execution_count": null,
      "outputs": [
        {
          "output_type": "stream",
          "text": [
            "142915828923\n"
          ],
          "name": "stdout"
        }
      ]
    },
    {
      "cell_type": "code",
      "metadata": {
        "id": "c6kBlNRIJAbN"
      },
      "source": [
        ""
      ],
      "execution_count": null,
      "outputs": []
    },
    {
      "cell_type": "markdown",
      "metadata": {
        "id": "jj6qo8b8KO0B"
      },
      "source": [
        "# Euler 11"
      ]
    },
    {
      "cell_type": "code",
      "metadata": {
        "colab": {
          "base_uri": "https://localhost:8080/"
        },
        "id": "8W897M6yFUC6",
        "outputId": "8359eab9-a5e3-4be6-a8d8-7abc3650f843"
      },
      "source": [
        "import numpy as np\n",
        "from itertools import combinations\n",
        "\n",
        "N = 4\n",
        "m = 0\n",
        "\n",
        "string = \"\"\"\n",
        "08 02 22 97 38 15 00 40 00 75 04 05 07 78 52 12 50 77 91 08\n",
        "49 49 99 40 17 81 18 57 60 87 17 40 98 43 69 48 04 56 62 00\n",
        "81 49 31 73 55 79 14 29 93 71 40 67 53 88 30 03 49 13 36 65\n",
        "52 70 95 23 04 60 11 42 69 24 68 56 01 32 56 71 37 02 36 91\n",
        "22 31 16 71 51 67 63 89 41 92 36 54 22 40 40 28 66 33 13 80\n",
        "24 47 32 60 99 03 45 02 44 75 33 53 78 36 84 20 35 17 12 50\n",
        "32 98 81 28 64 23 67 10 26 38 40 67 59 54 70 66 18 38 64 70\n",
        "67 26 20 68 02 62 12 20 95 63 94 39 63 08 40 91 66 49 94 21\n",
        "24 55 58 05 66 73 99 26 97 17 78 78 96 83 14 88 34 89 63 72\n",
        "21 36 23 09 75 00 76 44 20 45 35 14 00 61 33 97 34 31 33 95\n",
        "78 17 53 28 22 75 31 67 15 94 03 80 04 62 16 14 09 53 56 92\n",
        "16 39 05 42 96 35 31 47 55 58 88 24 00 17 54 24 36 29 85 57\n",
        "86 56 00 48 35 71 89 07 05 44 44 37 44 60 21 58 51 54 17 58\n",
        "19 80 81 68 05 94 47 69 28 73 92 13 86 52 17 77 04 89 55 40\n",
        "04 52 08 83 97 35 99 16 07 97 57 32 16 26 26 79 33 27 98 66\n",
        "88 36 68 87 57 62 20 72 03 46 33 67 46 55 12 32 63 93 53 69\n",
        "04 42 16 73 38 25 39 11 24 94 72 18 08 46 29 32 40 62 76 36\n",
        "20 69 36 41 72 30 23 88 34 62 99 69 82 67 59 85 74 04 36 16\n",
        "20 73 35 29 78 31 90 01 74 31 49 71 48 86 81 16 23 57 05 54\n",
        "01 70 54 71 83 51 54 69 16 92 33 48 61 43 52 01 89 19 67 48\n",
        "\"\"\"\n",
        "\n",
        "a = string.strip().split('\\n')\n",
        "a = map(lambda s: s.split(' '), a)\n",
        "a = list(a)\n",
        "\n",
        "for i in range(0, a.shape[0] - N + 1):\n",
        "  for j in range(0, a.shape[0] - N + 1):\n",
        "    b = a[i:N+i,j:N+j]\n",
        "\n",
        "    l = np.prod(b, axis=0)\n",
        "    l = max(l)\n",
        "    m = max(m, l)\n",
        "\n",
        "    r = np.prod(b, axis=1)\n",
        "    r = max(r)\n",
        "    m = max(m, r)\n",
        "\n",
        "    d = b.diagonal()\n",
        "    d = np.product(d)\n",
        "    m = max(m, d)\n",
        "\n",
        "    d = np.fliplr(b).diagonal()\n",
        "    d = np.product(d)\n",
        "    m = max(m, d)\n",
        "\n",
        "\n",
        "print(m)"
      ],
      "execution_count": null,
      "outputs": [
        {
          "output_type": "stream",
          "text": [
            "70600674\n"
          ],
          "name": "stdout"
        }
      ]
    },
    {
      "cell_type": "markdown",
      "metadata": {
        "id": "NWSLY_ApMscD"
      },
      "source": [
        "# Euler 12"
      ]
    },
    {
      "cell_type": "code",
      "metadata": {
        "id": "qLdI8XToY4Md"
      },
      "source": [
        "def gen_factors():\n",
        "  D = {}\n",
        "  a = 1\n",
        "\n",
        "  while True:\n",
        "    l = [a]\n",
        "    n = a\n",
        "\n",
        "    for i in set(D):\n",
        "      if a % i == 0:\n",
        "        l += D[i]\n",
        "        n = a / i\n",
        "        continue\n",
        "\n",
        "    gp = gen_primes()\n",
        "    p = next(gp)\n",
        "\n",
        "    while p < n:\n",
        "      if a % p == 0:\n",
        "        l += [p]\n",
        "      p = next(gp)\n",
        "    \n",
        "    D[a] = set(l)\n",
        "\n",
        "    yield a, D[a]\n",
        "\n",
        "    a += 1\n"
      ],
      "execution_count": null,
      "outputs": []
    },
    {
      "cell_type": "code",
      "metadata": {
        "id": "a6esAmR2kd83"
      },
      "source": [
        "import sympy as sy"
      ],
      "execution_count": null,
      "outputs": []
    },
    {
      "cell_type": "code",
      "metadata": {
        "id": "EqZHJfr9YYNB"
      },
      "source": [
        "def gen_triangular():\n",
        "  a = 1\n",
        "  \n",
        "  while True:\n",
        "    yield sum(range(a+1))\n",
        "    a += 1"
      ],
      "execution_count": null,
      "outputs": []
    },
    {
      "cell_type": "code",
      "metadata": {
        "colab": {
          "base_uri": "https://localhost:8080/"
        },
        "id": "ueLWfy0NkVMs",
        "outputId": "fbd5e626-2426-4c98-b711-33024e9eedf3"
      },
      "source": [
        "g = gen_triangular()\n",
        "a = next(g)\n",
        "\n",
        "while sy.divisor_count(a) < 500:\n",
        "  a = next(g)\n",
        "\n",
        "print(a)"
      ],
      "execution_count": null,
      "outputs": [
        {
          "output_type": "stream",
          "text": [
            "76576500\n"
          ],
          "name": "stdout"
        }
      ]
    },
    {
      "cell_type": "code",
      "metadata": {
        "id": "UihcmvSZrfgM"
      },
      "source": [
        ""
      ],
      "execution_count": null,
      "outputs": []
    },
    {
      "cell_type": "markdown",
      "metadata": {
        "id": "iV7mFkVQsTPZ"
      },
      "source": [
        "# Euler 13"
      ]
    },
    {
      "cell_type": "code",
      "metadata": {
        "id": "LHMVJt2tsUx2"
      },
      "source": [
        "string = \"\"\"\n",
        "37107287533902102798797998220837590246510135740250\n",
        "46376937677490009712648124896970078050417018260538\n",
        "74324986199524741059474233309513058123726617309629\n",
        "91942213363574161572522430563301811072406154908250\n",
        "23067588207539346171171980310421047513778063246676\n",
        "89261670696623633820136378418383684178734361726757\n",
        "28112879812849979408065481931592621691275889832738\n",
        "44274228917432520321923589422876796487670272189318\n",
        "47451445736001306439091167216856844588711603153276\n",
        "70386486105843025439939619828917593665686757934951\n",
        "62176457141856560629502157223196586755079324193331\n",
        "64906352462741904929101432445813822663347944758178\n",
        "92575867718337217661963751590579239728245598838407\n",
        "58203565325359399008402633568948830189458628227828\n",
        "80181199384826282014278194139940567587151170094390\n",
        "35398664372827112653829987240784473053190104293586\n",
        "86515506006295864861532075273371959191420517255829\n",
        "71693888707715466499115593487603532921714970056938\n",
        "54370070576826684624621495650076471787294438377604\n",
        "53282654108756828443191190634694037855217779295145\n",
        "36123272525000296071075082563815656710885258350721\n",
        "45876576172410976447339110607218265236877223636045\n",
        "17423706905851860660448207621209813287860733969412\n",
        "81142660418086830619328460811191061556940512689692\n",
        "51934325451728388641918047049293215058642563049483\n",
        "62467221648435076201727918039944693004732956340691\n",
        "15732444386908125794514089057706229429197107928209\n",
        "55037687525678773091862540744969844508330393682126\n",
        "18336384825330154686196124348767681297534375946515\n",
        "80386287592878490201521685554828717201219257766954\n",
        "78182833757993103614740356856449095527097864797581\n",
        "16726320100436897842553539920931837441497806860984\n",
        "48403098129077791799088218795327364475675590848030\n",
        "87086987551392711854517078544161852424320693150332\n",
        "59959406895756536782107074926966537676326235447210\n",
        "69793950679652694742597709739166693763042633987085\n",
        "41052684708299085211399427365734116182760315001271\n",
        "65378607361501080857009149939512557028198746004375\n",
        "35829035317434717326932123578154982629742552737307\n",
        "94953759765105305946966067683156574377167401875275\n",
        "88902802571733229619176668713819931811048770190271\n",
        "25267680276078003013678680992525463401061632866526\n",
        "36270218540497705585629946580636237993140746255962\n",
        "24074486908231174977792365466257246923322810917141\n",
        "91430288197103288597806669760892938638285025333403\n",
        "34413065578016127815921815005561868836468420090470\n",
        "23053081172816430487623791969842487255036638784583\n",
        "11487696932154902810424020138335124462181441773470\n",
        "63783299490636259666498587618221225225512486764533\n",
        "67720186971698544312419572409913959008952310058822\n",
        "95548255300263520781532296796249481641953868218774\n",
        "76085327132285723110424803456124867697064507995236\n",
        "37774242535411291684276865538926205024910326572967\n",
        "23701913275725675285653248258265463092207058596522\n",
        "29798860272258331913126375147341994889534765745501\n",
        "18495701454879288984856827726077713721403798879715\n",
        "38298203783031473527721580348144513491373226651381\n",
        "34829543829199918180278916522431027392251122869539\n",
        "40957953066405232632538044100059654939159879593635\n",
        "29746152185502371307642255121183693803580388584903\n",
        "41698116222072977186158236678424689157993532961922\n",
        "62467957194401269043877107275048102390895523597457\n",
        "23189706772547915061505504953922979530901129967519\n",
        "86188088225875314529584099251203829009407770775672\n",
        "11306739708304724483816533873502340845647058077308\n",
        "82959174767140363198008187129011875491310547126581\n",
        "97623331044818386269515456334926366572897563400500\n",
        "42846280183517070527831839425882145521227251250327\n",
        "55121603546981200581762165212827652751691296897789\n",
        "32238195734329339946437501907836945765883352399886\n",
        "75506164965184775180738168837861091527357929701337\n",
        "62177842752192623401942399639168044983993173312731\n",
        "32924185707147349566916674687634660915035914677504\n",
        "99518671430235219628894890102423325116913619626622\n",
        "73267460800591547471830798392868535206946944540724\n",
        "76841822524674417161514036427982273348055556214818\n",
        "97142617910342598647204516893989422179826088076852\n",
        "87783646182799346313767754307809363333018982642090\n",
        "10848802521674670883215120185883543223812876952786\n",
        "71329612474782464538636993009049310363619763878039\n",
        "62184073572399794223406235393808339651327408011116\n",
        "66627891981488087797941876876144230030984490851411\n",
        "60661826293682836764744779239180335110989069790714\n",
        "85786944089552990653640447425576083659976645795096\n",
        "66024396409905389607120198219976047599490197230297\n",
        "64913982680032973156037120041377903785566085089252\n",
        "16730939319872750275468906903707539413042652315011\n",
        "94809377245048795150954100921645863754710598436791\n",
        "78639167021187492431995700641917969777599028300699\n",
        "15368713711936614952811305876380278410754449733078\n",
        "40789923115535562561142322423255033685442488917353\n",
        "44889911501440648020369068063960672322193204149535\n",
        "41503128880339536053299340368006977710650566631954\n",
        "81234880673210146739058568557934581403627822703280\n",
        "82616570773948327592232845941706525094512325230608\n",
        "22918802058777319719839450180888072429661980811197\n",
        "77158542502016545090413245809786882778948721859617\n",
        "72107838435069186155435662884062257473692284509516\n",
        "20849603980134001723930671666823555245252804609722\n",
        "53503534226472524250874054075591789781264330331690\n",
        "\"\"\""
      ],
      "execution_count": null,
      "outputs": []
    },
    {
      "cell_type": "code",
      "metadata": {
        "id": "gFrMeGS4saiV"
      },
      "source": [
        "a = string.strip().split('\\n')\n",
        "a = map(int, a)\n",
        "a = list(a)"
      ],
      "execution_count": null,
      "outputs": []
    },
    {
      "cell_type": "code",
      "metadata": {
        "colab": {
          "base_uri": "https://localhost:8080/",
          "height": 35
        },
        "id": "9SEuYCmGhERO",
        "outputId": "6df1ac47-873a-4000-cc71-2e661f1d6914"
      },
      "source": [
        "a = sum(a)\n",
        "a = str(a)\n",
        "a[:10]"
      ],
      "execution_count": null,
      "outputs": [
        {
          "output_type": "execute_result",
          "data": {
            "application/vnd.google.colaboratory.intrinsic+json": {
              "type": "string"
            },
            "text/plain": [
              "'5537376230'"
            ]
          },
          "metadata": {
            "tags": []
          },
          "execution_count": 6
        }
      ]
    },
    {
      "cell_type": "code",
      "metadata": {
        "id": "FG_5bRU5hSYF"
      },
      "source": [
        ""
      ],
      "execution_count": null,
      "outputs": []
    },
    {
      "cell_type": "markdown",
      "metadata": {
        "id": "grtfH8APhbpr"
      },
      "source": [
        "# SPARK"
      ]
    },
    {
      "cell_type": "code",
      "metadata": {
        "id": "8GiJHO3MhdFi"
      },
      "source": [
        "!apt-get install openjdk-8-jdk-headless -qq > /dev/null\n",
        "!wget -q https://downloads.apache.org/spark/spark-3.0.2/spark-3.0.2-bin-hadoop2.7.tgz\n",
        "!tar xf spark-3.0.2-bin-hadoop2.7.tgz\n",
        "!pip install -q findspark\n",
        "!pip install -q pyspark"
      ],
      "execution_count": null,
      "outputs": []
    },
    {
      "cell_type": "code",
      "metadata": {
        "id": "7t5U--9eV9oZ"
      },
      "source": [
        "import os\n",
        "os.environ[\"JAVA_HOME\"] = \"/usr/lib/jvm/java-8-openjdk-amd64\"\n",
        "os.environ[\"SPARK_HOME\"] = \"/content/spark-3.0.2-bin-hadoop2.7\""
      ],
      "execution_count": null,
      "outputs": []
    },
    {
      "cell_type": "code",
      "metadata": {
        "id": "b_qmwiBuWAQQ"
      },
      "source": [
        "import findspark\n",
        "findspark.init()\n",
        "from pyspark.sql import SparkSession\n",
        "spark = SparkSession.builder.master(\"local[*]\").getOrCreate()"
      ],
      "execution_count": null,
      "outputs": []
    },
    {
      "cell_type": "code",
      "metadata": {
        "id": "QFlL4MTjWZ3H"
      },
      "source": [
        ""
      ],
      "execution_count": null,
      "outputs": []
    },
    {
      "cell_type": "code",
      "metadata": {
        "id": "OCnyoVqD3f9k"
      },
      "source": [
        ""
      ],
      "execution_count": null,
      "outputs": []
    },
    {
      "cell_type": "markdown",
      "metadata": {
        "id": "bDIFqPZd3gp4"
      },
      "source": [
        "# Euler 14"
      ]
    },
    {
      "cell_type": "code",
      "metadata": {
        "id": "513n93ss3gAc"
      },
      "source": [
        "import numpy as np\n",
        "from sympy.ntheory.generate import primerange"
      ],
      "execution_count": null,
      "outputs": []
    },
    {
      "cell_type": "code",
      "metadata": {
        "id": "oTc7cQBi3gDK"
      },
      "source": [
        "p2 = range(20)\n",
        "p2 = map(lambda e: (2**(e+1), e + 1), p2)\n",
        "p2 = dict(p2)"
      ],
      "execution_count": null,
      "outputs": []
    },
    {
      "cell_type": "code",
      "metadata": {
        "id": "EasNnQAJ7WBs"
      },
      "source": [
        "for p in primerange(1, 10**6):\n",
        "  count = collatz_count(p)\n",
        "  p2[p] = count"
      ],
      "execution_count": null,
      "outputs": []
    },
    {
      "cell_type": "code",
      "metadata": {
        "id": "jhV6JOiL3gF9"
      },
      "source": [
        "def collatz_count(n, count=1):\n",
        "  if n in p2:\n",
        "    return count + p2[n]\n",
        "  if n % 2 == 0:\n",
        "    return collatz_count(n / 2, count + 1)\n",
        "  else:\n",
        "    return collatz_count(3*n + 1, count + 1)"
      ],
      "execution_count": null,
      "outputs": []
    },
    {
      "cell_type": "code",
      "metadata": {
        "colab": {
          "base_uri": "https://localhost:8080/"
        },
        "id": "0tKvFisJ8uEB",
        "outputId": "5b6e519c-2e2d-416e-8312-45cd542dbf60"
      },
      "source": [
        "m, c = 1, 0\n",
        "\n",
        "for i in range(1, 10**6, 2):\n",
        "  count = collatz_count(i)\n",
        "  if count > c:\n",
        "    m = i\n",
        "    c = count\n",
        "\n",
        "print(m)"
      ],
      "execution_count": null,
      "outputs": [
        {
          "output_type": "stream",
          "text": [
            "837799\n"
          ],
          "name": "stdout"
        }
      ]
    },
    {
      "cell_type": "code",
      "metadata": {
        "id": "3DZxBIZU9QZI"
      },
      "source": [
        ""
      ],
      "execution_count": null,
      "outputs": []
    },
    {
      "cell_type": "markdown",
      "metadata": {
        "id": "YHWGXpDl-c7b"
      },
      "source": [
        "# Euler 16"
      ]
    },
    {
      "cell_type": "code",
      "metadata": {
        "colab": {
          "base_uri": "https://localhost:8080/"
        },
        "id": "d9cqE_cd-erw",
        "outputId": "38aea4c4-0422-459a-d125-ae43866abdbe"
      },
      "source": [
        "a = 2**(10**3)\n",
        "a = list(str(a))\n",
        "a = map(int, a)\n",
        "a = sum(a)\n",
        "a"
      ],
      "execution_count": null,
      "outputs": [
        {
          "output_type": "execute_result",
          "data": {
            "text/plain": [
              "1366"
            ]
          },
          "metadata": {
            "tags": []
          },
          "execution_count": 28
        }
      ]
    },
    {
      "cell_type": "code",
      "metadata": {
        "id": "EQcHt5XaB2hp"
      },
      "source": [
        ""
      ],
      "execution_count": null,
      "outputs": []
    },
    {
      "cell_type": "code",
      "metadata": {
        "id": "gDrDxNqWCfCa"
      },
      "source": [
        ""
      ],
      "execution_count": null,
      "outputs": []
    },
    {
      "cell_type": "markdown",
      "metadata": {
        "id": "eC-rstD7CfTr"
      },
      "source": [
        "# Euler 18"
      ]
    },
    {
      "cell_type": "code",
      "metadata": {
        "id": "d3sF9Sq1Cgmw"
      },
      "source": [
        "import numpy as np\n",
        "\n",
        "string = \"\"\"\n",
        "75\n",
        "95 64\n",
        "17 47 82\n",
        "18 35 87 10\n",
        "20 04 82 47 65\n",
        "19 01 23 75 03 34\n",
        "88 02 77 73 07 63 67\n",
        "99 65 04 28 06 16 70 92\n",
        "41 41 26 56 83 40 80 70 33\n",
        "41 48 72 33 47 32 37 16 94 29\n",
        "53 71 44 65 25 43 91 52 97 51 14\n",
        "70 11 33 28 77 73 17 78 39 68 17 57\n",
        "91 71 52 38 17 14 91 43 58 50 27 29 48\n",
        "63 66 04 68 89 53 67 30 73 16 69 87 40 31\n",
        "04 62 98 27 23 09 70 98 73 93 38 53 60 04 23\n",
        "\"\"\""
      ],
      "execution_count": null,
      "outputs": []
    },
    {
      "cell_type": "code",
      "metadata": {
        "id": "KLG0YEiLCkdA"
      },
      "source": [
        "paths = string.strip().split('\\n')\n",
        "paths = map(lambda e: e.split(' '), paths)\n",
        "paths = map(lambda e: list(map(lambda g: int(g), e)), paths)\n",
        "paths = list(paths)\n",
        "#paths"
      ],
      "execution_count": null,
      "outputs": []
    },
    {
      "cell_type": "code",
      "metadata": {
        "colab": {
          "base_uri": "https://localhost:8080/"
        },
        "id": "H33ySmBSJTwj",
        "outputId": "88ddf040-7099-424e-8989-882dffa6dc0d"
      },
      "source": [
        "paths"
      ],
      "execution_count": null,
      "outputs": [
        {
          "output_type": "execute_result",
          "data": {
            "text/plain": [
              "[[75],\n",
              " [95, 64],\n",
              " [17, 47, 82],\n",
              " [18, 35, 87, 10],\n",
              " [20, 4, 82, 47, 65],\n",
              " [19, 1, 23, 75, 3, 34],\n",
              " [88, 2, 77, 73, 7, 63, 67],\n",
              " [99, 65, 4, 28, 6, 16, 70, 92],\n",
              " [41, 41, 26, 56, 83, 40, 80, 70, 33],\n",
              " [41, 48, 72, 33, 47, 32, 37, 16, 94, 29],\n",
              " [53, 71, 44, 65, 25, 43, 91, 52, 97, 51, 14],\n",
              " [70, 11, 33, 28, 77, 73, 17, 78, 39, 68, 17, 57],\n",
              " [91, 71, 52, 38, 17, 14, 91, 43, 58, 50, 27, 29, 48],\n",
              " [63, 66, 4, 68, 89, 53, 67, 30, 73, 16, 69, 87, 40, 31],\n",
              " [4, 62, 98, 27, 23, 9, 70, 98, 73, 93, 38, 53, 60, 4, 23]]"
            ]
          },
          "metadata": {
            "tags": []
          },
          "execution_count": 3
        }
      ]
    },
    {
      "cell_type": "code",
      "metadata": {
        "id": "M_VElb50KfqT"
      },
      "source": [
        "def get_sample(n):\n",
        "  s = [75]\n",
        "  p = 0\n",
        "\n",
        "  n = min(n, len(paths) - 1)\n",
        "\n",
        "  for i in range(1, n):\n",
        "    row = paths[i]\n",
        "    \n",
        "    j = np.random.choice([p, p + 1])\n",
        "    j = max(j, 0)\n",
        "    j = min(j, len(row))\n",
        "\n",
        "    s.append(row[j])\n",
        "\n",
        "    p = j\n",
        "  \n",
        "  return sum(s)"
      ],
      "execution_count": null,
      "outputs": []
    },
    {
      "cell_type": "code",
      "metadata": {
        "colab": {
          "base_uri": "https://localhost:8080/"
        },
        "id": "tB0nBSWrUq_x",
        "outputId": "79b5517e-f368-4bff-af1a-93fdb8b1d0b2"
      },
      "source": [
        "samples = [[get_sample(i) for _ in range(100)] for i in range(20)]\n",
        "samples = map(np.max, samples)\n",
        "samples = list(samples)\n",
        "\n",
        "samples"
      ],
      "execution_count": null,
      "outputs": [
        {
          "output_type": "execute_result",
          "data": {
            "text/plain": [
              "[75,\n",
              " 75,\n",
              " 170,\n",
              " 221,\n",
              " 308,\n",
              " 390,\n",
              " 465,\n",
              " 538,\n",
              " 566,\n",
              " 649,\n",
              " 655,\n",
              " 720,\n",
              " 797,\n",
              " 881,\n",
              " 914,\n",
              " 943,\n",
              " 898,\n",
              " 882,\n",
              " 877,\n",
              " 952]"
            ]
          },
          "metadata": {
            "tags": []
          },
          "execution_count": 42
        }
      ]
    },
    {
      "cell_type": "code",
      "metadata": {
        "colab": {
          "base_uri": "https://localhost:8080/"
        },
        "id": "Y2nMFH37Klk3",
        "outputId": "f8c8fb77-11bd-4bc5-b180-ec6658a86e72"
      },
      "source": [
        "def search(i=1, p=0, path=[75]):\n",
        "  if i == len(paths) - 1:\n",
        "    return path\n",
        "\n",
        "  row = paths[i]\n",
        "\n",
        "  j = np.random.choice([p, p + 1])\n",
        "  j = max(j, 0)\n",
        "  j = min(j, len(row))\n",
        "\n",
        "  a = path + [row[j]]\n",
        "  s = sum(a)\n",
        "\n",
        "  if s >= samples[i]:\n",
        "    return search(i + 1, j, a)\n",
        "  else:\n",
        "    return search()\n",
        "\n",
        "a = search()\n",
        "a, sum(a)"
      ],
      "execution_count": null,
      "outputs": [
        {
          "output_type": "execute_result",
          "data": {
            "text/plain": [
              "([75, 95, 47, 87, 82, 75, 73, 28, 83, 47, 43, 17, 91, 67], 910)"
            ]
          },
          "metadata": {
            "tags": []
          },
          "execution_count": 46
        }
      ]
    },
    {
      "cell_type": "code",
      "metadata": {
        "colab": {
          "base_uri": "https://localhost:8080/"
        },
        "id": "7pG1rVBTUXNp",
        "outputId": "18f935cf-ca4a-4aeb-afb4-50899890b4b9"
      },
      "source": [
        "sum(a)"
      ],
      "execution_count": null,
      "outputs": [
        {
          "output_type": "execute_result",
          "data": {
            "text/plain": [
              "673"
            ]
          },
          "metadata": {
            "tags": []
          },
          "execution_count": 27
        }
      ]
    },
    {
      "cell_type": "code",
      "metadata": {
        "id": "YtzM5eLVUbaB"
      },
      "source": [
        ""
      ],
      "execution_count": null,
      "outputs": []
    },
    {
      "cell_type": "code",
      "metadata": {
        "id": "5IFz8cw0V_wn"
      },
      "source": [
        ""
      ],
      "execution_count": null,
      "outputs": []
    },
    {
      "cell_type": "markdown",
      "metadata": {
        "id": "UqRo-BevWBEv"
      },
      "source": [
        "# Euler 19"
      ]
    },
    {
      "cell_type": "code",
      "metadata": {
        "id": "cPhqCueXWCdb"
      },
      "source": [
        "import math"
      ],
      "execution_count": null,
      "outputs": []
    },
    {
      "cell_type": "code",
      "metadata": {
        "colab": {
          "base_uri": "https://localhost:8080/"
        },
        "id": "NTCTLaZ7WPPN",
        "outputId": "e0b4d791-9cc1-4d01-c21f-11039dd7a533"
      },
      "source": [
        "a = math.factorial(100)\n",
        "a = str(a)\n",
        "a = list(a)\n",
        "a = map(int, a)\n",
        "a = sum(a)\n",
        "a"
      ],
      "execution_count": null,
      "outputs": [
        {
          "output_type": "execute_result",
          "data": {
            "text/plain": [
              "648"
            ]
          },
          "metadata": {
            "tags": []
          },
          "execution_count": 50
        }
      ]
    },
    {
      "cell_type": "code",
      "metadata": {
        "id": "t3YXliRKWQkh"
      },
      "source": [
        ""
      ],
      "execution_count": null,
      "outputs": []
    },
    {
      "cell_type": "markdown",
      "metadata": {
        "id": "sNeZH4fyZnbn"
      },
      "source": [
        "# Euler 21"
      ]
    },
    {
      "cell_type": "code",
      "metadata": {
        "id": "tdYDzCskZosp"
      },
      "source": [
        "import sympy as sy"
      ],
      "execution_count": null,
      "outputs": []
    },
    {
      "cell_type": "code",
      "metadata": {
        "id": "6SVhW3dtZrvx"
      },
      "source": [
        "d = lambda n: sum(sy.divisors(n, proper=True))"
      ],
      "execution_count": null,
      "outputs": []
    },
    {
      "cell_type": "code",
      "metadata": {
        "colab": {
          "base_uri": "https://localhost:8080/"
        },
        "id": "_Yk3JnVfaFn3",
        "outputId": "b6bd8b2f-ef67-4c9b-c876-cd43508346a1"
      },
      "source": [
        "def is_amicable(a):\n",
        "  b = d(a)\n",
        "  if a == b:\n",
        "    return False\n",
        "  return d(b) == a\n",
        "\n",
        "a = range(1, 10000)\n",
        "a = filter(is_amicable, a)\n",
        "a = list(a)\n",
        "\n",
        "a"
      ],
      "execution_count": null,
      "outputs": [
        {
          "output_type": "execute_result",
          "data": {
            "text/plain": [
              "[220, 284, 1184, 1210, 2620, 2924, 5020, 5564, 6232, 6368]"
            ]
          },
          "metadata": {
            "tags": []
          },
          "execution_count": 85
        }
      ]
    },
    {
      "cell_type": "code",
      "metadata": {
        "colab": {
          "base_uri": "https://localhost:8080/"
        },
        "id": "Yqbe7cO_aRdr",
        "outputId": "414ff0cc-ec9c-487a-9835-0ea065012617"
      },
      "source": [
        "sum(a)"
      ],
      "execution_count": null,
      "outputs": [
        {
          "output_type": "execute_result",
          "data": {
            "text/plain": [
              "31626"
            ]
          },
          "metadata": {
            "tags": []
          },
          "execution_count": 86
        }
      ]
    },
    {
      "cell_type": "code",
      "metadata": {
        "colab": {
          "base_uri": "https://localhost:8080/"
        },
        "id": "1ijodwrIaRhF",
        "outputId": "4ea69ac1-e083-4f41-a7f1-107d324b06e5"
      },
      "source": [
        "d(220), d(d(220))"
      ],
      "execution_count": null,
      "outputs": [
        {
          "output_type": "execute_result",
          "data": {
            "text/plain": [
              "(284, 220)"
            ]
          },
          "metadata": {
            "tags": []
          },
          "execution_count": 78
        }
      ]
    },
    {
      "cell_type": "code",
      "metadata": {
        "id": "kkBs2hc9aRoq"
      },
      "source": [
        ""
      ],
      "execution_count": null,
      "outputs": []
    },
    {
      "cell_type": "markdown",
      "metadata": {
        "id": "NI-r23MxC4lF"
      },
      "source": [
        "# Euler 23"
      ]
    },
    {
      "cell_type": "code",
      "metadata": {
        "id": "lxMQP6l_C6Hs"
      },
      "source": [
        "import numpy as np\n",
        "import sympy as sy"
      ],
      "execution_count": null,
      "outputs": []
    },
    {
      "cell_type": "code",
      "metadata": {
        "id": "M1OWhZ-8C-vR"
      },
      "source": [
        "d = lambda n: sum(sy.divisors(n, proper=True))"
      ],
      "execution_count": null,
      "outputs": []
    },
    {
      "cell_type": "code",
      "metadata": {
        "colab": {
          "base_uri": "https://localhost:8080/"
        },
        "id": "35jFdBT4DA4G",
        "outputId": "1a61d93b-6933-49bb-e5bd-62da3eb0d966"
      },
      "source": [
        "a = range(12, 28123)\n",
        "a = filter(lambda n: d(n) > n, a)\n",
        "a = list(a)\n",
        "\n",
        "len(a)"
      ],
      "execution_count": null,
      "outputs": [
        {
          "output_type": "execute_result",
          "data": {
            "text/plain": [
              "6965"
            ]
          },
          "metadata": {
            "tags": []
          },
          "execution_count": 12
        }
      ]
    },
    {
      "cell_type": "code",
      "metadata": {
        "colab": {
          "base_uri": "https://localhost:8080/"
        },
        "id": "C0wxsyieDOZ1",
        "outputId": "7a08a01e-c471-46d1-bf94-7faac5517c6f"
      },
      "source": [
        "S = []\n",
        "end = len(a) - 1\n",
        "\n",
        "for i in range(0, end):\n",
        "  for j in range(i, end):\n",
        "    n = a[i] + a[j]\n",
        "    if n < 28123:\n",
        "      S.append(n)\n",
        "\n",
        "S = set(S)\n",
        "\n",
        "len(S)"
      ],
      "execution_count": null,
      "outputs": [
        {
          "output_type": "execute_result",
          "data": {
            "text/plain": [
              "26666"
            ]
          },
          "metadata": {
            "tags": []
          },
          "execution_count": 7
        }
      ]
    },
    {
      "cell_type": "code",
      "metadata": {
        "colab": {
          "base_uri": "https://localhost:8080/"
        },
        "id": "YehkKMGREsgt",
        "outputId": "ec446492-066d-4068-cd21-f1d97e9f2553"
      },
      "source": [
        "s = 0\n",
        "\n",
        "for i in range(1, 28123):\n",
        "  if i not in S:\n",
        "    s += i\n",
        "\n",
        "s"
      ],
      "execution_count": null,
      "outputs": [
        {
          "output_type": "execute_result",
          "data": {
            "text/plain": [
              "4179871"
            ]
          },
          "metadata": {
            "tags": []
          },
          "execution_count": 8
        }
      ]
    },
    {
      "cell_type": "code",
      "metadata": {
        "id": "e-y2pQXtE502"
      },
      "source": [
        ""
      ],
      "execution_count": null,
      "outputs": []
    },
    {
      "cell_type": "markdown",
      "metadata": {
        "id": "xaMFV5t9MJgC"
      },
      "source": [
        "# Euler 24"
      ]
    },
    {
      "cell_type": "code",
      "metadata": {
        "id": "vqth00SnNv3T"
      },
      "source": [
        "from itertools import permutations\n",
        "\n",
        "a = permutations(range(0, 10))"
      ],
      "execution_count": null,
      "outputs": []
    },
    {
      "cell_type": "code",
      "metadata": {
        "id": "dKEjG0uXOMH6"
      },
      "source": [
        "a = list(a)"
      ],
      "execution_count": null,
      "outputs": []
    },
    {
      "cell_type": "code",
      "metadata": {
        "colab": {
          "base_uri": "https://localhost:8080/"
        },
        "id": "D0D2xc9COM1n",
        "outputId": "b0897960-3c28-49eb-b9b8-c9fc999b502b"
      },
      "source": [
        "a[10**6 - 1]"
      ],
      "execution_count": null,
      "outputs": [
        {
          "output_type": "execute_result",
          "data": {
            "text/plain": [
              "(2, 7, 8, 3, 9, 1, 5, 4, 6, 0)"
            ]
          },
          "metadata": {
            "tags": []
          },
          "execution_count": 41
        }
      ]
    },
    {
      "cell_type": "code",
      "metadata": {
        "id": "TDFvqKq8OPr3"
      },
      "source": [
        ""
      ],
      "execution_count": null,
      "outputs": []
    },
    {
      "cell_type": "markdown",
      "metadata": {
        "id": "sEpNq-AYPHg8"
      },
      "source": [
        "# Euler 25"
      ]
    },
    {
      "cell_type": "code",
      "metadata": {
        "id": "K2NnvRJBPIuu"
      },
      "source": [
        "import sympy as sy"
      ],
      "execution_count": null,
      "outputs": []
    },
    {
      "cell_type": "code",
      "metadata": {
        "colab": {
          "base_uri": "https://localhost:8080/"
        },
        "id": "StPXV69yPKib",
        "outputId": "a234dbc8-f7a1-4373-8a41-b96b62bb0a42"
      },
      "source": [
        "idx = 10**3\n",
        "\n",
        "while True:\n",
        "  a = sy.fibonacci(idx)\n",
        "  a = str(a)\n",
        "\n",
        "  if len(a) >= 1000:\n",
        "    break\n",
        "  \n",
        "  idx += 1\n",
        "\n",
        "a, idx"
      ],
      "execution_count": null,
      "outputs": [
        {
          "output_type": "execute_result",
          "data": {
            "text/plain": [
              "('1070066266382758936764980584457396885083683896632151665013235203375314520604694040621889147582489792657804694888177591957484336466672569959512996030461262748092482186144069433051234774442750273781753087579391666192149259186759553966422837148943113074699503439547001985432609723067290192870526447243726117715821825548491120525013201478612965931381792235559657452039506137551467837543229119602129934048260706175397706847068202895486902666185435124521900369480641357447470911707619766945691070098024393439617474103736912503231365532164773697023167755051595173518460579954919410967778373229665796581646513903488154256310184224190259846088000110186255550245493937113651657039447629584714548523425950428582425306083544435428212611008992863795048006894330309773217834864543113205765659868456288616808718693835297350643986297640660000723562917905207051164077614812491885830945940566688339109350944456576357666151619317753792891661581327159616877487983821820492520348473874384736771934512787029218636250627816',\n",
              " 4782)"
            ]
          },
          "metadata": {
            "tags": []
          },
          "execution_count": 48
        }
      ]
    },
    {
      "cell_type": "code",
      "metadata": {
        "id": "sQ7CJ_B6PpyR"
      },
      "source": [
        ""
      ],
      "execution_count": null,
      "outputs": []
    },
    {
      "cell_type": "markdown",
      "metadata": {
        "id": "P2cpoxf-V0O2"
      },
      "source": [
        "# Euler 26"
      ]
    },
    {
      "cell_type": "code",
      "metadata": {
        "id": "Wchu2RuZ2OaU"
      },
      "source": [
        "def mul_order(a, n): \n",
        "    if (gcd(a, n) != 1): \n",
        "        return -1\n",
        "    result = 1\n",
        "    k = 1\n",
        "    while (k < n) : \n",
        "        result = (result * a) % n\n",
        "        if (result == 1) : \n",
        "            return k \n",
        "        k = k + 1\n",
        "    return -1"
      ],
      "execution_count": null,
      "outputs": []
    },
    {
      "cell_type": "code",
      "metadata": {
        "colab": {
          "base_uri": "https://localhost:8080/"
        },
        "id": "LbaF4IVw4IGP",
        "outputId": "fa1dc2f1-31f5-4825-9ccd-7e5341956e37"
      },
      "source": [
        "a = range(2, 1000)\n",
        "a = map(lambda n: (n, mul_order(10, n)), a)\n",
        "a = max(a, key=lambda e: e[1])\n",
        "\n",
        "a"
      ],
      "execution_count": null,
      "outputs": [
        {
          "output_type": "execute_result",
          "data": {
            "text/plain": [
              "(983, 982)"
            ]
          },
          "metadata": {
            "tags": []
          },
          "execution_count": 285
        }
      ]
    },
    {
      "cell_type": "code",
      "metadata": {
        "id": "qumc1Zq93Y-E"
      },
      "source": [
        ""
      ],
      "execution_count": null,
      "outputs": []
    },
    {
      "cell_type": "markdown",
      "metadata": {
        "id": "cCpiaVHeMc48"
      },
      "source": [
        "# Euler 27"
      ]
    },
    {
      "cell_type": "code",
      "metadata": {
        "id": "A4YTXHGIMeHk"
      },
      "source": [
        "import sympy as sy\n",
        "import numpy as np\n",
        "import math"
      ],
      "execution_count": null,
      "outputs": []
    },
    {
      "cell_type": "code",
      "metadata": {
        "id": "ybKZDv5FWBtY"
      },
      "source": [
        "from itertools import combinations"
      ],
      "execution_count": null,
      "outputs": []
    },
    {
      "cell_type": "code",
      "metadata": {
        "colab": {
          "base_uri": "https://localhost:8080/"
        },
        "id": "YvffIOuPSyz9",
        "outputId": "0ea84673-50bf-43a8-9ef9-3067dd23d27c"
      },
      "source": [
        "a = sy.primerange(1, 1000)\n",
        "a = combinations(a, 2)\n",
        "a = filter(lambda e: e[0] * 4 > e[1], a)\n",
        "a = map(lambda e: (math.sqrt(4*e[0] - e[1]), e[0]), a)\n",
        "a = filter(lambda e: e[0].is_integer(), a)\n",
        "a = map(check, a)\n",
        "\n",
        "a = list(a)"
      ],
      "execution_count": null,
      "outputs": [
        {
          "output_type": "stream",
          "text": [
            "(1.0, 2)\n",
            "(1.0, 3)\n",
            "(1.0, 5)\n",
            "(1.0, 11)\n",
            "(1.0, 17)\n",
            "(1.0, 41)\n",
            "(1.0, 53)\n",
            "(1.0, 71)\n",
            "(1.0, 83)\n",
            "(1.0, 131)\n",
            "(1.0, 137)\n",
            "(1.0, 173)\n",
            "(1.0, 197)\n",
            "(1.0, 227)\n"
          ],
          "name": "stdout"
        }
      ]
    },
    {
      "cell_type": "code",
      "metadata": {
        "id": "kdmHCSncXgDu"
      },
      "source": [
        "def check(e):\n",
        "  f = lambda x: x - int(e[0])*x + e[1]\n",
        "  i = 0\n",
        "\n",
        "  while True:\n",
        "    if i > 100:\n",
        "      print(e)\n",
        "      return (e, i)\n",
        "\n",
        "    if is_prime(f(i)):\n",
        "      i += 1\n",
        "    else:\n",
        "      return (e, i)"
      ],
      "execution_count": null,
      "outputs": []
    },
    {
      "cell_type": "code",
      "metadata": {
        "colab": {
          "base_uri": "https://localhost:8080/"
        },
        "id": "6u6SVsrRXjst",
        "outputId": "8fdc2799-bd85-438d-fb5e-077a7c962ad1"
      },
      "source": [
        "f = lambda x: x - x + 2\n",
        "\n",
        "all([is_prime(f(i)) for i in range(100)])"
      ],
      "execution_count": null,
      "outputs": [
        {
          "output_type": "execute_result",
          "data": {
            "text/plain": [
              "True"
            ]
          },
          "metadata": {
            "tags": []
          },
          "execution_count": 400
        }
      ]
    },
    {
      "cell_type": "code",
      "metadata": {
        "id": "WPltUAD1Z2_t"
      },
      "source": [
        ""
      ],
      "execution_count": null,
      "outputs": []
    },
    {
      "cell_type": "markdown",
      "metadata": {
        "id": "008BPlZjBM3N"
      },
      "source": [
        "# Euler 28"
      ]
    },
    {
      "cell_type": "code",
      "metadata": {
        "colab": {
          "base_uri": "https://localhost:8080/"
        },
        "id": "EeGNsLtFBN-d",
        "outputId": "b231890e-3147-4984-f6ff-571d14948f1d"
      },
      "source": [
        "n = 1\n",
        "s = 1\n",
        "i = 0\n",
        "d = 1\n",
        "\n",
        "while d < 1001:\n",
        "  r = 2 + i*2\n",
        "  for _ in range(0, 4):\n",
        "    n += r\n",
        "    s += n\n",
        "  i += 1\n",
        "  d += 2\n",
        "\n",
        "s"
      ],
      "execution_count": null,
      "outputs": [
        {
          "output_type": "execute_result",
          "data": {
            "text/plain": [
              "669171001"
            ]
          },
          "metadata": {
            "tags": []
          },
          "execution_count": 28
        }
      ]
    },
    {
      "cell_type": "code",
      "metadata": {
        "id": "qcpiRMV8B-lw"
      },
      "source": [
        "a = 669171001"
      ],
      "execution_count": null,
      "outputs": []
    },
    {
      "cell_type": "code",
      "metadata": {
        "colab": {
          "base_uri": "https://localhost:8080/"
        },
        "id": "WkLp-S2PCIC5",
        "outputId": "8361617e-56d6-4ff4-ee5f-065c72444972"
      },
      "source": [
        "s == a"
      ],
      "execution_count": null,
      "outputs": [
        {
          "output_type": "execute_result",
          "data": {
            "text/plain": [
              "True"
            ]
          },
          "metadata": {
            "tags": []
          },
          "execution_count": 29
        }
      ]
    },
    {
      "cell_type": "code",
      "metadata": {
        "colab": {
          "base_uri": "https://localhost:8080/"
        },
        "id": "X1f2qeXPF7Wx",
        "outputId": "6aa7bb59-21b1-43d3-d22a-05b561fe942a"
      },
      "source": [
        "a - s"
      ],
      "execution_count": null,
      "outputs": [
        {
          "output_type": "execute_result",
          "data": {
            "text/plain": [
              "-666647719024"
            ]
          },
          "metadata": {
            "tags": []
          },
          "execution_count": 26
        }
      ]
    },
    {
      "cell_type": "code",
      "metadata": {
        "id": "T6zoSPzhGfzc"
      },
      "source": [
        ""
      ],
      "execution_count": null,
      "outputs": []
    },
    {
      "cell_type": "markdown",
      "metadata": {
        "id": "vZzvNaReRMpm"
      },
      "source": [
        "# Euler 30"
      ]
    },
    {
      "cell_type": "code",
      "metadata": {
        "id": "yh3EPTzpRNmB"
      },
      "source": [
        "import sympy as sy"
      ],
      "execution_count": null,
      "outputs": []
    },
    {
      "cell_type": "code",
      "metadata": {
        "id": "VTtaF35s2RyZ"
      },
      "source": [
        "def is_digit_powers(n, p=5):\n",
        "    s = 0\n",
        "    for i in range(p, 0, -1):\n",
        "        d = (n % (10**i)) // 10**(i - 1)\n",
        "        s += d**p\n",
        "    return s == n"
      ],
      "execution_count": null,
      "outputs": []
    },
    {
      "cell_type": "code",
      "metadata": {
        "id": "HaD162HjTSqC"
      },
      "source": [
        ""
      ],
      "execution_count": null,
      "outputs": []
    },
    {
      "cell_type": "markdown",
      "metadata": {
        "id": "utQ0CUKPTS9H"
      },
      "source": [
        "# Euler 31"
      ]
    },
    {
      "cell_type": "code",
      "metadata": {
        "id": "DcfcajTpTUWy"
      },
      "source": [
        "import numpy as np\n"
      ],
      "execution_count": null,
      "outputs": []
    },
    {
      "cell_type": "code",
      "metadata": {
        "id": "m7COxNfFVEM5"
      },
      "source": [
        "coins = [200, 100, 50, 20, 10, 5, 2, 1]\n",
        "target = 200\n",
        "ways = [1] + [0]*target\n"
      ],
      "execution_count": null,
      "outputs": []
    },
    {
      "cell_type": "code",
      "metadata": {
        "id": "uGM138byj1q7"
      },
      "source": [
        "for coin in coins:\n",
        "  for i in range(coin, target+1):\n",
        "    ways[i] += ways[i - coin]"
      ],
      "execution_count": null,
      "outputs": []
    },
    {
      "cell_type": "code",
      "metadata": {
        "colab": {
          "base_uri": "https://localhost:8080/"
        },
        "id": "e3bOVJN2q96S",
        "outputId": "dbbcffc1-6748-467d-8269-800067e0edc3"
      },
      "source": [
        "ways[target]"
      ],
      "execution_count": null,
      "outputs": [
        {
          "output_type": "execute_result",
          "data": {
            "text/plain": [
              "73682"
            ]
          },
          "metadata": {
            "tags": []
          },
          "execution_count": 96
        }
      ]
    },
    {
      "cell_type": "code",
      "metadata": {
        "id": "UkpAin3RsfNE"
      },
      "source": [
        ""
      ],
      "execution_count": null,
      "outputs": []
    },
    {
      "cell_type": "markdown",
      "metadata": {
        "id": "DB8OqId6mQli"
      },
      "source": [
        "# Euler 32"
      ]
    },
    {
      "cell_type": "code",
      "metadata": {
        "id": "ltaLOKpkmR4w"
      },
      "source": [
        "def is_pandigital(n):\n",
        "  s = str(n)\n",
        "\n",
        "  return '0' not in s and len(s) == len(set(s))"
      ],
      "execution_count": 46,
      "outputs": []
    },
    {
      "cell_type": "code",
      "metadata": {
        "colab": {
          "base_uri": "https://localhost:8080/"
        },
        "id": "2jrp1ygImkF9",
        "outputId": "c713d5b6-8de7-4a0e-ca62-23cdff8a09bc"
      },
      "source": [
        "l = []\n",
        "\n",
        "for a in range(2, 9):\n",
        "  b = range(1234, (10**4 - 1) // a)\n",
        "  b = filter(is_pandigital, b)\n",
        "  b = map(lambda n: (a, n, a * n), b)\n",
        "  b = map(lambda t: (t[2], \"\".join([str(e) for e in t])), b)\n",
        "  b = filter(lambda t: is_pandigital(t[1]), b)\n",
        "  b = map(lambda t: t[0], b)\n",
        "  b = list(b)\n",
        "\n",
        "  l += b\n",
        "\n",
        "l"
      ],
      "execution_count": 64,
      "outputs": [
        {
          "output_type": "execute_result",
          "data": {
            "text/plain": [
              "[6952, 7852]"
            ]
          },
          "metadata": {
            "tags": []
          },
          "execution_count": 64
        }
      ]
    },
    {
      "cell_type": "code",
      "metadata": {
        "colab": {
          "base_uri": "https://localhost:8080/"
        },
        "id": "RWWH7EMFnBsT",
        "outputId": "520c6312-d657-4bd6-8999-1ffb385285e1"
      },
      "source": [
        "#l = []\n",
        "\n",
        "for a in range(12, 98):\n",
        "  b = range(123, (10**4 - 1) // a)\n",
        "  b = filter(is_pandigital, b)\n",
        "  b = map(lambda n: (a, n, a * n), b)\n",
        "  b = map(lambda t: (t[2], \"\".join([str(e) for e in t])), b)\n",
        "  b = filter(lambda t: is_pandigital(t[1]), b)\n",
        "  b = map(lambda t: t[0], b)\n",
        "  b = list(b)\n",
        "\n",
        "  l += b\n",
        "\n",
        "l"
      ],
      "execution_count": 65,
      "outputs": [
        {
          "output_type": "execute_result",
          "data": {
            "text/plain": [
              "[6952, 7852, 5796, 5346, 5346, 4396, 7254, 5796, 7632]"
            ]
          },
          "metadata": {
            "tags": []
          },
          "execution_count": 65
        }
      ]
    },
    {
      "cell_type": "code",
      "metadata": {
        "colab": {
          "base_uri": "https://localhost:8080/"
        },
        "id": "OyyT_lYfuoZR",
        "outputId": "6d820de3-a7b6-471b-8a15-4eca4f8126fe"
      },
      "source": [
        "sum(set(l))"
      ],
      "execution_count": 67,
      "outputs": [
        {
          "output_type": "execute_result",
          "data": {
            "text/plain": [
              "45228"
            ]
          },
          "metadata": {
            "tags": []
          },
          "execution_count": 67
        }
      ]
    },
    {
      "cell_type": "code",
      "metadata": {
        "id": "kqINIVEbwIqQ"
      },
      "source": [
        ""
      ],
      "execution_count": null,
      "outputs": []
    }
  ]
}