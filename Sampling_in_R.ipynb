{
  "nbformat": 4,
  "nbformat_minor": 0,
  "metadata": {
    "colab": {
      "name": "Sampling_in_R.ipynb",
      "provenance": [],
      "collapsed_sections": [],
      "authorship_tag": "ABX9TyN7u4neZLcUL5Spm8GoNdPZ",
      "include_colab_link": true
    },
    "kernelspec": {
      "name": "ir",
      "display_name": "R"
    },
    "language_info": {
      "name": "R"
    }
  },
  "cells": [
    {
      "cell_type": "markdown",
      "metadata": {
        "id": "view-in-github",
        "colab_type": "text"
      },
      "source": [
        "<a href=\"https://colab.research.google.com/github/polaroidz/polaroidz/blob/main/Sampling_in_R.ipynb\" target=\"_parent\"><img src=\"https://colab.research.google.com/assets/colab-badge.svg\" alt=\"Open In Colab\"/></a>"
      ]
    },
    {
      "cell_type": "code",
      "metadata": {
        "id": "0CFEftSzL5OO"
      },
      "source": [
        "education_counts_pop <- attrition_pop %>% \n",
        "  # Count the employees by Education level, sorting by n\n",
        "  count(Education, sort = TRUE) %>% \n",
        "  # Add a percent column\n",
        "  mutate(percent = 100 * n / sum(n))\n",
        "\n",
        "# See the results\n",
        "education_counts_pop"
      ],
      "execution_count": null,
      "outputs": []
    },
    {
      "cell_type": "code",
      "metadata": {
        "id": "qFv3GvhUL-cJ"
      },
      "source": [
        "# From previous steps\n",
        "attrition_pop %>% \n",
        "  count(Education, sort = TRUE) %>% \n",
        "  mutate(percent = 100 * n / sum(n))\n",
        "\n",
        "attrition_strat <- attrition_pop %>% \n",
        "  group_by(Education) %>% \n",
        "  slice_sample(prop = 0.4) %>% \n",
        "  ungroup()\n",
        "\n",
        "# Get the counts and percents from attrition_strat\n",
        "education_counts_strat <- attrition_strat %>%\n",
        "  count(Education, sort = TRUE) %>%\n",
        "  mutate(percent = 100 * n / sum(n))\n",
        "\n",
        "# See the results\n",
        "education_counts_strat"
      ],
      "execution_count": null,
      "outputs": []
    },
    {
      "cell_type": "code",
      "metadata": {
        "id": "EZRAoiy2L-e-"
      },
      "source": [
        "# From previous step\n",
        "job_roles_pop <- unique(attrition_pop$JobRole)\n",
        "job_roles_samp <- sample(job_roles_pop, size = 4)\n",
        "\n",
        "# Filter for rows where JobRole is in job_roles_samp\n",
        "attrition_filtered <- attrition_pop %>% \n",
        "  filter(JobRole %in% job_roles_samp)\n",
        "\n",
        "# Randomly sample 10 employees from each sampled job role\n",
        "attrition_clus <- attrition_filtered %>% \n",
        "  group_by(JobRole) %>% \n",
        "  slice_sample(n = 10)\n",
        "\n",
        "# See the result\n",
        "attrition_clus"
      ],
      "execution_count": null,
      "outputs": []
    },
    {
      "cell_type": "code",
      "metadata": {
        "id": "JPwQkr3BL-iE"
      },
      "source": [
        ""
      ],
      "execution_count": null,
      "outputs": []
    },
    {
      "cell_type": "code",
      "metadata": {
        "id": "M7wBDO9utjSk"
      },
      "source": [
        "# Get unique values of RelationshipSatisfaction\n",
        "satisfaction_unique <- unique(attrition_pop$RelationshipSatisfaction)\n",
        "\n",
        "# Randomly sample for 2 of the unique satisfaction values\n",
        "satisfaction_samp <- sample(satisfaction_unique, size = 2)\n",
        "\n",
        "# Perform cluster sampling on the selected group \n",
        "# getting 0.25 of the population\n",
        "attrition_strat <- attrition_pop %>%\n",
        "  filter(RelationshipSatisfaction %in% satisfaction_samp) %>% \n",
        "  group_by(RelationshipSatisfaction) %>% \n",
        "  slice_sample(n = nrow(attrition_pop) / 4) %>% \n",
        "  ungroup()"
      ],
      "execution_count": null,
      "outputs": []
    },
    {
      "cell_type": "code",
      "metadata": {
        "id": "MUfHoKbCtjVV"
      },
      "source": [
        ""
      ],
      "execution_count": null,
      "outputs": []
    },
    {
      "cell_type": "code",
      "metadata": {
        "id": "8B4AiJJxtjYe"
      },
      "source": [
        ""
      ],
      "execution_count": null,
      "outputs": []
    },
    {
      "cell_type": "code",
      "metadata": {
        "id": "Q1TlK34sL-lM"
      },
      "source": [
        ""
      ],
      "execution_count": null,
      "outputs": []
    }
  ]
}