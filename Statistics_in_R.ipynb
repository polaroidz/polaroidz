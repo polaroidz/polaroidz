{
  "nbformat": 4,
  "nbformat_minor": 0,
  "metadata": {
    "colab": {
      "name": "Statistics_in_R.ipynb",
      "provenance": [],
      "collapsed_sections": [],
      "authorship_tag": "ABX9TyP6nAcqrUISS2HGf7ExVpLN",
      "include_colab_link": true
    },
    "kernelspec": {
      "name": "ir",
      "display_name": "R"
    },
    "language_info": {
      "name": "R"
    }
  },
  "cells": [
    {
      "cell_type": "markdown",
      "metadata": {
        "id": "view-in-github",
        "colab_type": "text"
      },
      "source": [
        "<a href=\"https://colab.research.google.com/github/polaroidz/polaroidz/blob/main/Statistics_in_R.ipynb\" target=\"_parent\"><img src=\"https://colab.research.google.com/assets/colab-badge.svg\" alt=\"Open In Colab\"/></a>"
      ]
    },
    {
      "cell_type": "code",
      "metadata": {
        "colab": {
          "base_uri": "https://localhost:8080/",
          "height": 34
        },
        "id": "DW1bBrcgbwU6",
        "outputId": "55684e83-bbb7-4bcb-e077-b20305df484e"
      },
      "source": [
        "R.version.string"
      ],
      "execution_count": null,
      "outputs": [
        {
          "output_type": "display_data",
          "data": {
            "text/plain": [
              "[1] \"R version 4.0.4 (2021-02-15)\""
            ],
            "text/latex": "'R version 4.0.4 (2021-02-15)'",
            "text/markdown": "'R version 4.0.4 (2021-02-15)'",
            "text/html": [
              "'R version 4.0.4 (2021-02-15)'"
            ]
          },
          "metadata": {
            "tags": []
          }
        }
      ]
    },
    {
      "cell_type": "code",
      "metadata": {
        "id": "uPcZejgbb-IO"
      },
      "source": [
        "library(ggplot2)\n",
        "library(dplyr)\n",
        "data(msleep)"
      ],
      "execution_count": 2,
      "outputs": []
    },
    {
      "cell_type": "code",
      "metadata": {
        "colab": {
          "base_uri": "https://localhost:8080/"
        },
        "id": "Mq1P6b7XeO5_",
        "outputId": "3b5031ba-fcd7-455e-feed-e225797df62b"
      },
      "source": [
        "glimpse(msleep)"
      ],
      "execution_count": null,
      "outputs": [
        {
          "output_type": "stream",
          "text": [
            "Rows: 83\n",
            "Columns: 11\n",
            "$ name         \u001b[3m\u001b[90m<chr>\u001b[39m\u001b[23m \"Cheetah\", \"Owl monkey\", \"Mountain beaver\", \"Greater shor…\n",
            "$ genus        \u001b[3m\u001b[90m<chr>\u001b[39m\u001b[23m \"Acinonyx\", \"Aotus\", \"Aplodontia\", \"Blarina\", \"Bos\", \"Bra…\n",
            "$ vore         \u001b[3m\u001b[90m<chr>\u001b[39m\u001b[23m \"carni\", \"omni\", \"herbi\", \"omni\", \"herbi\", \"herbi\", \"carn…\n",
            "$ order        \u001b[3m\u001b[90m<chr>\u001b[39m\u001b[23m \"Carnivora\", \"Primates\", \"Rodentia\", \"Soricomorpha\", \"Art…\n",
            "$ conservation \u001b[3m\u001b[90m<chr>\u001b[39m\u001b[23m \"lc\", NA, \"nt\", \"lc\", \"domesticated\", NA, \"vu\", NA, \"dome…\n",
            "$ sleep_total  \u001b[3m\u001b[90m<dbl>\u001b[39m\u001b[23m 12.1, 17.0, 14.4, 14.9, 4.0, 14.4, 8.7, 7.0, 10.1, 3.0, 5…\n",
            "$ sleep_rem    \u001b[3m\u001b[90m<dbl>\u001b[39m\u001b[23m NA, 1.8, 2.4, 2.3, 0.7, 2.2, 1.4, NA, 2.9, NA, 0.6, 0.8, …\n",
            "$ sleep_cycle  \u001b[3m\u001b[90m<dbl>\u001b[39m\u001b[23m NA, NA, NA, 0.1333333, 0.6666667, 0.7666667, 0.3833333, N…\n",
            "$ awake        \u001b[3m\u001b[90m<dbl>\u001b[39m\u001b[23m 11.9, 7.0, 9.6, 9.1, 20.0, 9.6, 15.3, 17.0, 13.9, 21.0, 1…\n",
            "$ brainwt      \u001b[3m\u001b[90m<dbl>\u001b[39m\u001b[23m NA, 0.01550, NA, 0.00029, 0.42300, NA, NA, NA, 0.07000, 0…\n",
            "$ bodywt       \u001b[3m\u001b[90m<dbl>\u001b[39m\u001b[23m 50.000, 0.480, 1.350, 0.019, 600.000, 3.850, 20.490, 0.04…\n"
          ],
          "name": "stdout"
        }
      ]
    },
    {
      "cell_type": "code",
      "metadata": {
        "colab": {
          "base_uri": "https://localhost:8080/",
          "height": 34
        },
        "id": "e8ykuNUgeUKK",
        "outputId": "90404ec9-d445-4ad4-c8cd-9d7ee66a79c1"
      },
      "source": [
        "mean(msleep$sleep_total)"
      ],
      "execution_count": null,
      "outputs": [
        {
          "output_type": "display_data",
          "data": {
            "text/plain": [
              "[1] 10.43373"
            ],
            "text/latex": "10.433734939759",
            "text/markdown": "10.433734939759",
            "text/html": [
              "10.433734939759"
            ]
          },
          "metadata": {
            "tags": []
          }
        }
      ]
    },
    {
      "cell_type": "code",
      "metadata": {
        "colab": {
          "base_uri": "https://localhost:8080/",
          "height": 34
        },
        "id": "05g5LbjRekpn",
        "outputId": "5c978249-f9e5-4f5d-e8ca-d7bcfcbecb08"
      },
      "source": [
        "median(msleep$sleep_total)"
      ],
      "execution_count": null,
      "outputs": [
        {
          "output_type": "display_data",
          "data": {
            "text/plain": [
              "[1] 10.1"
            ],
            "text/latex": "10.1",
            "text/markdown": "10.1",
            "text/html": [
              "10.1"
            ]
          },
          "metadata": {
            "tags": []
          }
        }
      ]
    },
    {
      "cell_type": "code",
      "metadata": {
        "colab": {
          "base_uri": "https://localhost:8080/",
          "height": 242
        },
        "id": "0L-g42vneppP",
        "outputId": "8ab28883-a805-488c-f28c-021b4920180e"
      },
      "source": [
        "msleep %>% count(sleep_total, sort = TRUE) %>% head(5)"
      ],
      "execution_count": null,
      "outputs": [
        {
          "output_type": "display_data",
          "data": {
            "text/plain": [
              "  sleep_total n\n",
              "1 12.5        4\n",
              "2 10.1        3\n",
              "3  5.3        2\n",
              "4  6.3        2\n",
              "5  8.4        2"
            ],
            "text/latex": "A tibble: 5 × 2\n\\begin{tabular}{ll}\n sleep\\_total & n\\\\\n <dbl> & <int>\\\\\n\\hline\n\t 12.5 & 4\\\\\n\t 10.1 & 3\\\\\n\t  5.3 & 2\\\\\n\t  6.3 & 2\\\\\n\t  8.4 & 2\\\\\n\\end{tabular}\n",
            "text/markdown": "\nA tibble: 5 × 2\n\n| sleep_total &lt;dbl&gt; | n &lt;int&gt; |\n|---|---|\n| 12.5 | 4 |\n| 10.1 | 3 |\n|  5.3 | 2 |\n|  6.3 | 2 |\n|  8.4 | 2 |\n\n",
            "text/html": [
              "<table class=\"dataframe\">\n",
              "<caption>A tibble: 5 × 2</caption>\n",
              "<thead>\n",
              "\t<tr><th scope=col>sleep_total</th><th scope=col>n</th></tr>\n",
              "\t<tr><th scope=col>&lt;dbl&gt;</th><th scope=col>&lt;int&gt;</th></tr>\n",
              "</thead>\n",
              "<tbody>\n",
              "\t<tr><td>12.5</td><td>4</td></tr>\n",
              "\t<tr><td>10.1</td><td>3</td></tr>\n",
              "\t<tr><td> 5.3</td><td>2</td></tr>\n",
              "\t<tr><td> 6.3</td><td>2</td></tr>\n",
              "\t<tr><td> 8.4</td><td>2</td></tr>\n",
              "</tbody>\n",
              "</table>\n"
            ]
          },
          "metadata": {
            "tags": []
          }
        }
      ]
    },
    {
      "cell_type": "code",
      "metadata": {
        "colab": {
          "base_uri": "https://localhost:8080/",
          "height": 242
        },
        "id": "hZjoyVbIfEPp",
        "outputId": "12c30a4d-dcea-45af-de26-140003add3ae"
      },
      "source": [
        "# Used in categorical variables\n",
        "msleep %>% count(vore, sort = TRUE)"
      ],
      "execution_count": null,
      "outputs": [
        {
          "output_type": "display_data",
          "data": {
            "text/plain": [
              "  vore    n \n",
              "1 herbi   32\n",
              "2 omni    20\n",
              "3 carni   19\n",
              "4 NA       7\n",
              "5 insecti  5"
            ],
            "text/latex": "A tibble: 5 × 2\n\\begin{tabular}{ll}\n vore & n\\\\\n <chr> & <int>\\\\\n\\hline\n\t herbi   & 32\\\\\n\t omni    & 20\\\\\n\t carni   & 19\\\\\n\t NA      &  7\\\\\n\t insecti &  5\\\\\n\\end{tabular}\n",
            "text/markdown": "\nA tibble: 5 × 2\n\n| vore &lt;chr&gt; | n &lt;int&gt; |\n|---|---|\n| herbi   | 32 |\n| omni    | 20 |\n| carni   | 19 |\n| NA      |  7 |\n| insecti |  5 |\n\n",
            "text/html": [
              "<table class=\"dataframe\">\n",
              "<caption>A tibble: 5 × 2</caption>\n",
              "<thead>\n",
              "\t<tr><th scope=col>vore</th><th scope=col>n</th></tr>\n",
              "\t<tr><th scope=col>&lt;chr&gt;</th><th scope=col>&lt;int&gt;</th></tr>\n",
              "</thead>\n",
              "<tbody>\n",
              "\t<tr><td>herbi  </td><td>32</td></tr>\n",
              "\t<tr><td>omni   </td><td>20</td></tr>\n",
              "\t<tr><td>carni  </td><td>19</td></tr>\n",
              "\t<tr><td>NA     </td><td> 7</td></tr>\n",
              "\t<tr><td>insecti</td><td> 5</td></tr>\n",
              "</tbody>\n",
              "</table>\n"
            ]
          },
          "metadata": {
            "tags": []
          }
        }
      ]
    },
    {
      "cell_type": "code",
      "metadata": {
        "colab": {
          "base_uri": "https://localhost:8080/",
          "height": 123
        },
        "id": "ygPn55dNgQ_k",
        "outputId": "58a3bc61-fb7f-44de-9409-a32b68e6ca26"
      },
      "source": [
        "msleep %>%\n",
        "  filter(vore == \"insecti\") %>%\n",
        "  summarize(mean_sleep = mean(sleep_total),\n",
        "            median_sleep = median(sleep_total))"
      ],
      "execution_count": null,
      "outputs": [
        {
          "output_type": "display_data",
          "data": {
            "text/plain": [
              "  mean_sleep median_sleep\n",
              "1 14.94      18.1        "
            ],
            "text/latex": "A tibble: 1 × 2\n\\begin{tabular}{ll}\n mean\\_sleep & median\\_sleep\\\\\n <dbl> & <dbl>\\\\\n\\hline\n\t 14.94 & 18.1\\\\\n\\end{tabular}\n",
            "text/markdown": "\nA tibble: 1 × 2\n\n| mean_sleep &lt;dbl&gt; | median_sleep &lt;dbl&gt; |\n|---|---|\n| 14.94 | 18.1 |\n\n",
            "text/html": [
              "<table class=\"dataframe\">\n",
              "<caption>A tibble: 1 × 2</caption>\n",
              "<thead>\n",
              "\t<tr><th scope=col>mean_sleep</th><th scope=col>median_sleep</th></tr>\n",
              "\t<tr><th scope=col>&lt;dbl&gt;</th><th scope=col>&lt;dbl&gt;</th></tr>\n",
              "</thead>\n",
              "<tbody>\n",
              "\t<tr><td>14.94</td><td>18.1</td></tr>\n",
              "</tbody>\n",
              "</table>\n"
            ]
          },
          "metadata": {
            "tags": []
          }
        }
      ]
    },
    {
      "cell_type": "code",
      "metadata": {
        "colab": {
          "base_uri": "https://localhost:8080/",
          "height": 470
        },
        "id": "ovUkpH6EgVSl",
        "outputId": "c5149f33-b46a-4ad9-d89c-ad94f1e6136c"
      },
      "source": [
        "msleep %>%\n",
        "  filter(vore == \"insecti\") %>%\n",
        "  ggplot(aes(sleep_total)) +\n",
        "    geom_histogram()"
      ],
      "execution_count": null,
      "outputs": [
        {
          "output_type": "stream",
          "text": [
            "`stat_bin()` using `bins = 30`. Pick better value with `binwidth`.\n",
            "\n"
          ],
          "name": "stderr"
        },
        {
          "output_type": "display_data",
          "data": {
            "image/png": "[encoded data removed]",
            "text/plain": [
              "plot without title"
            ]
          },
          "metadata": {
            "tags": [],
            "image/png": {
              "width": 420,
              "height": 420
            }
          }
        }
      ]
    },
    {
      "cell_type": "code",
      "metadata": {
        "colab": {
          "base_uri": "https://localhost:8080/",
          "height": 34
        },
        "id": "gU24tzDsgVVh",
        "outputId": "4155f6d0-c237-47e3-eef5-6890612369ba"
      },
      "source": [
        "var(msleep$sleep_total)"
      ],
      "execution_count": null,
      "outputs": [
        {
          "output_type": "display_data",
          "data": {
            "text/plain": [
              "[1] 19.80568"
            ],
            "text/latex": "19.8056773435204",
            "text/markdown": "19.8056773435204",
            "text/html": [
              "19.8056773435204"
            ]
          },
          "metadata": {
            "tags": []
          }
        }
      ]
    },
    {
      "cell_type": "code",
      "metadata": {
        "colab": {
          "base_uri": "https://localhost:8080/",
          "height": 34
        },
        "id": "l6QDw6cOgVYJ",
        "outputId": "7c22d308-0feb-4985-ef16-4b10b48a889b"
      },
      "source": [
        "sd(msleep$sleep_total)"
      ],
      "execution_count": null,
      "outputs": [
        {
          "output_type": "display_data",
          "data": {
            "text/plain": [
              "[1] 4.450357"
            ],
            "text/latex": "4.45035699057058",
            "text/markdown": "4.45035699057058",
            "text/html": [
              "4.45035699057058"
            ]
          },
          "metadata": {
            "tags": []
          }
        }
      ]
    },
    {
      "cell_type": "code",
      "metadata": {
        "colab": {
          "base_uri": "https://localhost:8080/",
          "height": 34
        },
        "id": "BsOIHIULgVbD",
        "outputId": "c20df192-4627-4d37-ac26-cc59e305e864"
      },
      "source": [
        "mad(msleep$sleep_total)"
      ],
      "execution_count": null,
      "outputs": [
        {
          "output_type": "display_data",
          "data": {
            "text/plain": [
              "[1] 5.04084"
            ],
            "text/latex": "5.04084",
            "text/markdown": "5.04084",
            "text/html": [
              "5.04084"
            ]
          },
          "metadata": {
            "tags": []
          }
        }
      ]
    },
    {
      "cell_type": "code",
      "metadata": {
        "colab": {
          "base_uri": "https://localhost:8080/",
          "height": 34
        },
        "id": "YKmzCxZ3gVdq",
        "outputId": "28a83e35-49cc-4fdb-cd56-4ca96b75632a"
      },
      "source": [
        "quantile(msleep$sleep_total)"
      ],
      "execution_count": null,
      "outputs": [
        {
          "output_type": "display_data",
          "data": {
            "text/plain": [
              "   0%   25%   50%   75%  100% \n",
              " 1.90  7.85 10.10 13.75 19.90 "
            ],
            "text/latex": "\\begin{description*}\n\\item[0\\textbackslash{}\\%] 1.9\n\\item[25\\textbackslash{}\\%] 7.85\n\\item[50\\textbackslash{}\\%] 10.1\n\\item[75\\textbackslash{}\\%] 13.75\n\\item[100\\textbackslash{}\\%] 19.9\n\\end{description*}\n",
            "text/markdown": "0%\n:   1.925%\n:   7.8550%\n:   10.175%\n:   13.75100%\n:   19.9\n\n",
            "text/html": [
              "<style>\n",
              ".dl-inline {width: auto; margin:0; padding: 0}\n",
              ".dl-inline>dt, .dl-inline>dd {float: none; width: auto; display: inline-block}\n",
              ".dl-inline>dt::after {content: \":\\0020\"; padding-right: .5ex}\n",
              ".dl-inline>dt:not(:first-of-type) {padding-left: .5ex}\n",
              "</style><dl class=dl-inline><dt>0%</dt><dd>1.9</dd><dt>25%</dt><dd>7.85</dd><dt>50%</dt><dd>10.1</dd><dt>75%</dt><dd>13.75</dd><dt>100%</dt><dd>19.9</dd></dl>\n"
            ]
          },
          "metadata": {
            "tags": []
          }
        }
      ]
    },
    {
      "cell_type": "code",
      "metadata": {
        "colab": {
          "base_uri": "https://localhost:8080/",
          "height": 437
        },
        "id": "JqGTn0Jsqt7A",
        "outputId": "83ceb60f-e46f-45ee-d427-96c5c509e5be"
      },
      "source": [
        "ggplot(msleep, aes(y = sleep_total)) +\n",
        "  geom_boxplot()"
      ],
      "execution_count": null,
      "outputs": [
        {
          "output_type": "display_data",
          "data": {
            "image/png": "[encoded data removed]",
            "text/plain": [
              "plot without title"
            ]
          },
          "metadata": {
            "tags": [],
            "image/png": {
              "width": 420,
              "height": 420
            }
          }
        }
      ]
    },
    {
      "cell_type": "code",
      "metadata": {
        "colab": {
          "base_uri": "https://localhost:8080/",
          "height": 34
        },
        "id": "Dh3ZbYhQq4e-",
        "outputId": "40703deb-7fc2-4ae6-8ad5-affa97a227bb"
      },
      "source": [
        "quantile(msleep$sleep_total, probs = c(0, 0.2, 0.4, 0.6, 0.8, 1))"
      ],
      "execution_count": null,
      "outputs": [
        {
          "output_type": "display_data",
          "data": {
            "text/plain": [
              "   0%   20%   40%   60%   80%  100% \n",
              " 1.90  6.24  9.48 11.14 14.40 19.90 "
            ],
            "text/latex": "\\begin{description*}\n\\item[0\\textbackslash{}\\%] 1.9\n\\item[20\\textbackslash{}\\%] 6.24\n\\item[40\\textbackslash{}\\%] 9.48\n\\item[60\\textbackslash{}\\%] 11.14\n\\item[80\\textbackslash{}\\%] 14.4\n\\item[100\\textbackslash{}\\%] 19.9\n\\end{description*}\n",
            "text/markdown": "0%\n:   1.920%\n:   6.2440%\n:   9.4860%\n:   11.1480%\n:   14.4100%\n:   19.9\n\n",
            "text/html": [
              "<style>\n",
              ".dl-inline {width: auto; margin:0; padding: 0}\n",
              ".dl-inline>dt, .dl-inline>dd {float: none; width: auto; display: inline-block}\n",
              ".dl-inline>dt::after {content: \":\\0020\"; padding-right: .5ex}\n",
              ".dl-inline>dt:not(:first-of-type) {padding-left: .5ex}\n",
              "</style><dl class=dl-inline><dt>0%</dt><dd>1.9</dd><dt>20%</dt><dd>6.24</dd><dt>40%</dt><dd>9.48</dd><dt>60%</dt><dd>11.14</dd><dt>80%</dt><dd>14.4</dd><dt>100%</dt><dd>19.9</dd></dl>\n"
            ]
          },
          "metadata": {
            "tags": []
          }
        }
      ]
    },
    {
      "cell_type": "code",
      "metadata": {
        "colab": {
          "base_uri": "https://localhost:8080/",
          "height": 34
        },
        "id": "mQASCG3zrHji",
        "outputId": "2b57f152-747f-47f0-a894-1f33d2a92e39"
      },
      "source": [
        "seq(0, 1, 0.2)"
      ],
      "execution_count": null,
      "outputs": [
        {
          "output_type": "display_data",
          "data": {
            "text/plain": [
              "[1] 0.0 0.2 0.4 0.6 0.8 1.0"
            ],
            "text/latex": "\\begin{enumerate*}\n\\item 0\n\\item 0.2\n\\item 0.4\n\\item 0.6\n\\item 0.8\n\\item 1\n\\end{enumerate*}\n",
            "text/markdown": "1. 0\n2. 0.2\n3. 0.4\n4. 0.6\n5. 0.8\n6. 1\n\n\n",
            "text/html": [
              "<style>\n",
              ".list-inline {list-style: none; margin:0; padding: 0}\n",
              ".list-inline>li {display: inline-block}\n",
              ".list-inline>li:not(:last-child)::after {content: \"\\00b7\"; padding: 0 .5ex}\n",
              "</style>\n",
              "<ol class=list-inline><li>0</li><li>0.2</li><li>0.4</li><li>0.6</li><li>0.8</li><li>1</li></ol>\n"
            ]
          },
          "metadata": {
            "tags": []
          }
        }
      ]
    },
    {
      "cell_type": "code",
      "metadata": {
        "colab": {
          "base_uri": "https://localhost:8080/",
          "height": 34
        },
        "id": "oR4Iafg9rWGe",
        "outputId": "5aae9452-89b6-486b-a1a2-5ece6d21abce"
      },
      "source": [
        "# IQR\n",
        "quantile(msleep$sleep_total, 0.75) - quantile(msleep$sleep_total, 0.25)"
      ],
      "execution_count": null,
      "outputs": [
        {
          "output_type": "display_data",
          "data": {
            "text/plain": [
              "75% \n",
              "5.9 "
            ],
            "text/latex": "\\textbf{75\\textbackslash{}\\%:} 5.9",
            "text/markdown": "**75%:** 5.9",
            "text/html": [
              "<strong>75%:</strong> 5.9"
            ]
          },
          "metadata": {
            "tags": []
          }
        }
      ]
    },
    {
      "cell_type": "code",
      "metadata": {
        "colab": {
          "base_uri": "https://localhost:8080/",
          "height": 242
        },
        "id": "jLX2pknSrfzP",
        "outputId": "541915d9-2aa2-418f-8a1a-25a21559ac43"
      },
      "source": [
        "# Finding Outliers\n",
        "iqr <- quantile(msleep$bodywt, 0.75) - quantile(msleep$bodywt, 0.25)\n",
        "\n",
        "lower_threshold <- quantile(msleep$bodywt, 0.25) - 1.5*iqr \n",
        "upper_threshold <- quantile(msleep$bodywt, 0.75) + 1.5*iqr \n",
        "\n",
        "msleep %>%\n",
        "  filter(bodywt < lower_threshold | bodywt > upper_threshold) %>%\n",
        "  select(name, vore, sleep_total, bodywt) %>%\n",
        "  head(5) # outliers"
      ],
      "execution_count": null,
      "outputs": [
        {
          "output_type": "display_data",
          "data": {
            "text/plain": [
              "  name           vore  sleep_total bodywt  \n",
              "1 Cow            herbi 4.0          600.000\n",
              "2 Asian elephant herbi 3.9         2547.000\n",
              "3 Horse          herbi 2.9          521.000\n",
              "4 Donkey         herbi 3.1          187.000\n",
              "5 Giraffe        herbi 1.9          899.995"
            ],
            "text/latex": "A tibble: 5 × 4\n\\begin{tabular}{llll}\n name & vore & sleep\\_total & bodywt\\\\\n <chr> & <chr> & <dbl> & <dbl>\\\\\n\\hline\n\t Cow            & herbi & 4.0 &  600.000\\\\\n\t Asian elephant & herbi & 3.9 & 2547.000\\\\\n\t Horse          & herbi & 2.9 &  521.000\\\\\n\t Donkey         & herbi & 3.1 &  187.000\\\\\n\t Giraffe        & herbi & 1.9 &  899.995\\\\\n\\end{tabular}\n",
            "text/markdown": "\nA tibble: 5 × 4\n\n| name &lt;chr&gt; | vore &lt;chr&gt; | sleep_total &lt;dbl&gt; | bodywt &lt;dbl&gt; |\n|---|---|---|---|\n| Cow            | herbi | 4.0 |  600.000 |\n| Asian elephant | herbi | 3.9 | 2547.000 |\n| Horse          | herbi | 2.9 |  521.000 |\n| Donkey         | herbi | 3.1 |  187.000 |\n| Giraffe        | herbi | 1.9 |  899.995 |\n\n",
            "text/html": [
              "<table class=\"dataframe\">\n",
              "<caption>A tibble: 5 × 4</caption>\n",
              "<thead>\n",
              "\t<tr><th scope=col>name</th><th scope=col>vore</th><th scope=col>sleep_total</th><th scope=col>bodywt</th></tr>\n",
              "\t<tr><th scope=col>&lt;chr&gt;</th><th scope=col>&lt;chr&gt;</th><th scope=col>&lt;dbl&gt;</th><th scope=col>&lt;dbl&gt;</th></tr>\n",
              "</thead>\n",
              "<tbody>\n",
              "\t<tr><td>Cow           </td><td>herbi</td><td>4.0</td><td> 600.000</td></tr>\n",
              "\t<tr><td>Asian elephant</td><td>herbi</td><td>3.9</td><td>2547.000</td></tr>\n",
              "\t<tr><td>Horse         </td><td>herbi</td><td>2.9</td><td> 521.000</td></tr>\n",
              "\t<tr><td>Donkey        </td><td>herbi</td><td>3.1</td><td> 187.000</td></tr>\n",
              "\t<tr><td>Giraffe       </td><td>herbi</td><td>1.9</td><td> 899.995</td></tr>\n",
              "</tbody>\n",
              "</table>\n"
            ]
          },
          "metadata": {
            "tags": []
          }
        }
      ]
    },
    {
      "cell_type": "code",
      "metadata": {
        "colab": {
          "base_uri": "https://localhost:8080/",
          "height": 470
        },
        "id": "58MxJK7csRtB",
        "outputId": "aa4b7b01-ce8a-44fb-a936-10165840db92"
      },
      "source": [
        "ggplot(msleep, aes(x = bodywt)) +\n",
        "  geom_histogram() +\n",
        "  facet_wrap(~vore)"
      ],
      "execution_count": null,
      "outputs": [
        {
          "output_type": "stream",
          "text": [
            "`stat_bin()` using `bins = 30`. Pick better value with `binwidth`.\n",
            "\n"
          ],
          "name": "stderr"
        },
        {
          "output_type": "display_data",
          "data": {
            "image/png": "[encoded data removed]",
            "text/plain": [
              "plot without title"
            ]
          },
          "metadata": {
            "tags": [],
            "image/png": {
              "width": 420,
              "height": 420
            }
          }
        }
      ]
    },
    {
      "cell_type": "code",
      "metadata": {
        "id": "2XrxOmJ1t9TP",
        "colab": {
          "base_uri": "https://localhost:8080/",
          "height": 128
        },
        "outputId": "3073544a-697b-4c1f-9a21-70a96c1c267b"
      },
      "source": [
        "set.seed(42)\n",
        "msleep %>%\n",
        "  sample_n(1)"
      ],
      "execution_count": 6,
      "outputs": [
        {
          "output_type": "display_data",
          "data": {
            "text/plain": [
              "  name  genus vore  order        conservation sleep_total sleep_rem sleep_cycle\n",
              "1 Sheep Ovis  herbi Artiodactyla domesticated 3.8         0.6       NA         \n",
              "  awake brainwt bodywt\n",
              "1 20.2  0.175   55.5  "
            ],
            "text/latex": "A tibble: 1 × 11\n\\begin{tabular}{lllllllllll}\n name & genus & vore & order & conservation & sleep\\_total & sleep\\_rem & sleep\\_cycle & awake & brainwt & bodywt\\\\\n <chr> & <chr> & <chr> & <chr> & <chr> & <dbl> & <dbl> & <dbl> & <dbl> & <dbl> & <dbl>\\\\\n\\hline\n\t Sheep & Ovis & herbi & Artiodactyla & domesticated & 3.8 & 0.6 & NA & 20.2 & 0.175 & 55.5\\\\\n\\end{tabular}\n",
            "text/markdown": "\nA tibble: 1 × 11\n\n| name &lt;chr&gt; | genus &lt;chr&gt; | vore &lt;chr&gt; | order &lt;chr&gt; | conservation &lt;chr&gt; | sleep_total &lt;dbl&gt; | sleep_rem &lt;dbl&gt; | sleep_cycle &lt;dbl&gt; | awake &lt;dbl&gt; | brainwt &lt;dbl&gt; | bodywt &lt;dbl&gt; |\n|---|---|---|---|---|---|---|---|---|---|---|\n| Sheep | Ovis | herbi | Artiodactyla | domesticated | 3.8 | 0.6 | NA | 20.2 | 0.175 | 55.5 |\n\n",
            "text/html": [
              "<table class=\"dataframe\">\n",
              "<caption>A tibble: 1 × 11</caption>\n",
              "<thead>\n",
              "\t<tr><th scope=col>name</th><th scope=col>genus</th><th scope=col>vore</th><th scope=col>order</th><th scope=col>conservation</th><th scope=col>sleep_total</th><th scope=col>sleep_rem</th><th scope=col>sleep_cycle</th><th scope=col>awake</th><th scope=col>brainwt</th><th scope=col>bodywt</th></tr>\n",
              "\t<tr><th scope=col>&lt;chr&gt;</th><th scope=col>&lt;chr&gt;</th><th scope=col>&lt;chr&gt;</th><th scope=col>&lt;chr&gt;</th><th scope=col>&lt;chr&gt;</th><th scope=col>&lt;dbl&gt;</th><th scope=col>&lt;dbl&gt;</th><th scope=col>&lt;dbl&gt;</th><th scope=col>&lt;dbl&gt;</th><th scope=col>&lt;dbl&gt;</th><th scope=col>&lt;dbl&gt;</th></tr>\n",
              "</thead>\n",
              "<tbody>\n",
              "\t<tr><td>Sheep</td><td>Ovis</td><td>herbi</td><td>Artiodactyla</td><td>domesticated</td><td>3.8</td><td>0.6</td><td>NA</td><td>20.2</td><td>0.175</td><td>55.5</td></tr>\n",
              "</tbody>\n",
              "</table>\n"
            ]
          },
          "metadata": {
            "tags": []
          }
        }
      ]
    },
    {
      "cell_type": "code",
      "metadata": {
        "colab": {
          "base_uri": "https://localhost:8080/",
          "height": 128
        },
        "id": "6EdoBA3152Cc",
        "outputId": "712d9b13-ef1b-419f-c8c1-751639e7499d"
      },
      "source": [
        "set.seed(42)\n",
        "# Sampling without replacement in R\n",
        "msleep %>%\n",
        "  sample_n(1, replace = FALSE) # default"
      ],
      "execution_count": 7,
      "outputs": [
        {
          "output_type": "display_data",
          "data": {
            "text/plain": [
              "  name  genus vore  order        conservation sleep_total sleep_rem sleep_cycle\n",
              "1 Sheep Ovis  herbi Artiodactyla domesticated 3.8         0.6       NA         \n",
              "  awake brainwt bodywt\n",
              "1 20.2  0.175   55.5  "
            ],
            "text/latex": "A tibble: 1 × 11\n\\begin{tabular}{lllllllllll}\n name & genus & vore & order & conservation & sleep\\_total & sleep\\_rem & sleep\\_cycle & awake & brainwt & bodywt\\\\\n <chr> & <chr> & <chr> & <chr> & <chr> & <dbl> & <dbl> & <dbl> & <dbl> & <dbl> & <dbl>\\\\\n\\hline\n\t Sheep & Ovis & herbi & Artiodactyla & domesticated & 3.8 & 0.6 & NA & 20.2 & 0.175 & 55.5\\\\\n\\end{tabular}\n",
            "text/markdown": "\nA tibble: 1 × 11\n\n| name &lt;chr&gt; | genus &lt;chr&gt; | vore &lt;chr&gt; | order &lt;chr&gt; | conservation &lt;chr&gt; | sleep_total &lt;dbl&gt; | sleep_rem &lt;dbl&gt; | sleep_cycle &lt;dbl&gt; | awake &lt;dbl&gt; | brainwt &lt;dbl&gt; | bodywt &lt;dbl&gt; |\n|---|---|---|---|---|---|---|---|---|---|---|\n| Sheep | Ovis | herbi | Artiodactyla | domesticated | 3.8 | 0.6 | NA | 20.2 | 0.175 | 55.5 |\n\n",
            "text/html": [
              "<table class=\"dataframe\">\n",
              "<caption>A tibble: 1 × 11</caption>\n",
              "<thead>\n",
              "\t<tr><th scope=col>name</th><th scope=col>genus</th><th scope=col>vore</th><th scope=col>order</th><th scope=col>conservation</th><th scope=col>sleep_total</th><th scope=col>sleep_rem</th><th scope=col>sleep_cycle</th><th scope=col>awake</th><th scope=col>brainwt</th><th scope=col>bodywt</th></tr>\n",
              "\t<tr><th scope=col>&lt;chr&gt;</th><th scope=col>&lt;chr&gt;</th><th scope=col>&lt;chr&gt;</th><th scope=col>&lt;chr&gt;</th><th scope=col>&lt;chr&gt;</th><th scope=col>&lt;dbl&gt;</th><th scope=col>&lt;dbl&gt;</th><th scope=col>&lt;dbl&gt;</th><th scope=col>&lt;dbl&gt;</th><th scope=col>&lt;dbl&gt;</th><th scope=col>&lt;dbl&gt;</th></tr>\n",
              "</thead>\n",
              "<tbody>\n",
              "\t<tr><td>Sheep</td><td>Ovis</td><td>herbi</td><td>Artiodactyla</td><td>domesticated</td><td>3.8</td><td>0.6</td><td>NA</td><td>20.2</td><td>0.175</td><td>55.5</td></tr>\n",
              "</tbody>\n",
              "</table>\n"
            ]
          },
          "metadata": {
            "tags": []
          }
        }
      ]
    },
    {
      "cell_type": "code",
      "metadata": {
        "colab": {
          "base_uri": "https://localhost:8080/",
          "height": 190
        },
        "id": "qm7SG3SO53pi",
        "outputId": "ae2d5721-16fd-4001-8e58-ed65cdcae09b"
      },
      "source": [
        "set.seed(41)\n",
        "# Sampling with replacement in R\n",
        "msleep %>%\n",
        "  sample_n(3, replace = TRUE)"
      ],
      "execution_count": 10,
      "outputs": [
        {
          "output_type": "display_data",
          "data": {
            "text/plain": [
              "  name           genus        vore  order        conservation sleep_total\n",
              "1 Golden hamster Mesocricetus herbi Rodentia     en           14.3       \n",
              "2 Mongoose lemur Lemur        herbi Primates     vu            9.5       \n",
              "3 Cow            Bos          herbi Artiodactyla domesticated  4.0       \n",
              "  sleep_rem sleep_cycle awake brainwt bodywt\n",
              "1 3.1       0.2000000    9.7  0.001     0.12\n",
              "2 0.9              NA   14.5     NA     1.67\n",
              "3 0.7       0.6666667   20.0  0.423   600.00"
            ],
            "text/latex": "A tibble: 3 × 11\n\\begin{tabular}{lllllllllll}\n name & genus & vore & order & conservation & sleep\\_total & sleep\\_rem & sleep\\_cycle & awake & brainwt & bodywt\\\\\n <chr> & <chr> & <chr> & <chr> & <chr> & <dbl> & <dbl> & <dbl> & <dbl> & <dbl> & <dbl>\\\\\n\\hline\n\t Golden hamster & Mesocricetus & herbi & Rodentia     & en           & 14.3 & 3.1 & 0.2000000 &  9.7 & 0.001 &   0.12\\\\\n\t Mongoose lemur & Lemur        & herbi & Primates     & vu           &  9.5 & 0.9 &        NA & 14.5 &    NA &   1.67\\\\\n\t Cow            & Bos          & herbi & Artiodactyla & domesticated &  4.0 & 0.7 & 0.6666667 & 20.0 & 0.423 & 600.00\\\\\n\\end{tabular}\n",
            "text/markdown": "\nA tibble: 3 × 11\n\n| name &lt;chr&gt; | genus &lt;chr&gt; | vore &lt;chr&gt; | order &lt;chr&gt; | conservation &lt;chr&gt; | sleep_total &lt;dbl&gt; | sleep_rem &lt;dbl&gt; | sleep_cycle &lt;dbl&gt; | awake &lt;dbl&gt; | brainwt &lt;dbl&gt; | bodywt &lt;dbl&gt; |\n|---|---|---|---|---|---|---|---|---|---|---|\n| Golden hamster | Mesocricetus | herbi | Rodentia     | en           | 14.3 | 3.1 | 0.2000000 |  9.7 | 0.001 |   0.12 |\n| Mongoose lemur | Lemur        | herbi | Primates     | vu           |  9.5 | 0.9 |        NA | 14.5 |    NA |   1.67 |\n| Cow            | Bos          | herbi | Artiodactyla | domesticated |  4.0 | 0.7 | 0.6666667 | 20.0 | 0.423 | 600.00 |\n\n",
            "text/html": [
              "<table class=\"dataframe\">\n",
              "<caption>A tibble: 3 × 11</caption>\n",
              "<thead>\n",
              "\t<tr><th scope=col>name</th><th scope=col>genus</th><th scope=col>vore</th><th scope=col>order</th><th scope=col>conservation</th><th scope=col>sleep_total</th><th scope=col>sleep_rem</th><th scope=col>sleep_cycle</th><th scope=col>awake</th><th scope=col>brainwt</th><th scope=col>bodywt</th></tr>\n",
              "\t<tr><th scope=col>&lt;chr&gt;</th><th scope=col>&lt;chr&gt;</th><th scope=col>&lt;chr&gt;</th><th scope=col>&lt;chr&gt;</th><th scope=col>&lt;chr&gt;</th><th scope=col>&lt;dbl&gt;</th><th scope=col>&lt;dbl&gt;</th><th scope=col>&lt;dbl&gt;</th><th scope=col>&lt;dbl&gt;</th><th scope=col>&lt;dbl&gt;</th><th scope=col>&lt;dbl&gt;</th></tr>\n",
              "</thead>\n",
              "<tbody>\n",
              "\t<tr><td>Golden hamster</td><td>Mesocricetus</td><td>herbi</td><td>Rodentia    </td><td>en          </td><td>14.3</td><td>3.1</td><td>0.2000000</td><td> 9.7</td><td>0.001</td><td>  0.12</td></tr>\n",
              "\t<tr><td>Mongoose lemur</td><td>Lemur       </td><td>herbi</td><td>Primates    </td><td>vu          </td><td> 9.5</td><td>0.9</td><td>       NA</td><td>14.5</td><td>   NA</td><td>  1.67</td></tr>\n",
              "\t<tr><td>Cow           </td><td>Bos         </td><td>herbi</td><td>Artiodactyla</td><td>domesticated</td><td> 4.0</td><td>0.7</td><td>0.6666667</td><td>20.0</td><td>0.423</td><td>600.00</td></tr>\n",
              "</tbody>\n",
              "</table>\n"
            ]
          },
          "metadata": {
            "tags": []
          }
        }
      ]
    },
    {
      "cell_type": "code",
      "metadata": {
        "colab": {
          "base_uri": "https://localhost:8080/",
          "height": 317
        },
        "id": "LRhJLuAU8FWF",
        "outputId": "12d9057a-01f5-4ad5-f7f2-a01c2cb7d48f"
      },
      "source": [
        "die <- c(1,2,3,4,5,6)\n",
        "die <- data.frame(die)\n",
        "die"
      ],
      "execution_count": 14,
      "outputs": [
        {
          "output_type": "display_data",
          "data": {
            "text/plain": [
              "  die\n",
              "1 1  \n",
              "2 2  \n",
              "3 3  \n",
              "4 4  \n",
              "5 5  \n",
              "6 6  "
            ],
            "text/latex": "A data.frame: 6 × 1\n\\begin{tabular}{l}\n die\\\\\n <dbl>\\\\\n\\hline\n\t 1\\\\\n\t 2\\\\\n\t 3\\\\\n\t 4\\\\\n\t 5\\\\\n\t 6\\\\\n\\end{tabular}\n",
            "text/markdown": "\nA data.frame: 6 × 1\n\n| die &lt;dbl&gt; |\n|---|\n| 1 |\n| 2 |\n| 3 |\n| 4 |\n| 5 |\n| 6 |\n\n",
            "text/html": [
              "<table class=\"dataframe\">\n",
              "<caption>A data.frame: 6 × 1</caption>\n",
              "<thead>\n",
              "\t<tr><th scope=col>die</th></tr>\n",
              "\t<tr><th scope=col>&lt;dbl&gt;</th></tr>\n",
              "</thead>\n",
              "<tbody>\n",
              "\t<tr><td>1</td></tr>\n",
              "\t<tr><td>2</td></tr>\n",
              "\t<tr><td>3</td></tr>\n",
              "\t<tr><td>4</td></tr>\n",
              "\t<tr><td>5</td></tr>\n",
              "\t<tr><td>6</td></tr>\n",
              "</tbody>\n",
              "</table>\n"
            ]
          },
          "metadata": {
            "tags": []
          }
        }
      ]
    },
    {
      "cell_type": "code",
      "metadata": {
        "colab": {
          "base_uri": "https://localhost:8080/",
          "height": 441
        },
        "id": "cmSMuvyA-T90",
        "outputId": "d9be465b-741e-4b21-8302-25f1e01076fa"
      },
      "source": [
        "rolls_10 <- die %>%\n",
        "  sample_n(10, replace = TRUE)\n",
        "\n",
        "rolls_10"
      ],
      "execution_count": 15,
      "outputs": [
        {
          "output_type": "display_data",
          "data": {
            "text/plain": [
              "   die\n",
              "1  6  \n",
              "2  2  \n",
              "3  5  \n",
              "4  6  \n",
              "5  6  \n",
              "6  2  \n",
              "7  2  \n",
              "8  3  \n",
              "9  6  \n",
              "10 5  "
            ],
            "text/latex": "A data.frame: 10 × 1\n\\begin{tabular}{l}\n die\\\\\n <dbl>\\\\\n\\hline\n\t 6\\\\\n\t 2\\\\\n\t 5\\\\\n\t 6\\\\\n\t 6\\\\\n\t 2\\\\\n\t 2\\\\\n\t 3\\\\\n\t 6\\\\\n\t 5\\\\\n\\end{tabular}\n",
            "text/markdown": "\nA data.frame: 10 × 1\n\n| die &lt;dbl&gt; |\n|---|\n| 6 |\n| 2 |\n| 5 |\n| 6 |\n| 6 |\n| 2 |\n| 2 |\n| 3 |\n| 6 |\n| 5 |\n\n",
            "text/html": [
              "<table class=\"dataframe\">\n",
              "<caption>A data.frame: 10 × 1</caption>\n",
              "<thead>\n",
              "\t<tr><th scope=col>die</th></tr>\n",
              "\t<tr><th scope=col>&lt;dbl&gt;</th></tr>\n",
              "</thead>\n",
              "<tbody>\n",
              "\t<tr><td>6</td></tr>\n",
              "\t<tr><td>2</td></tr>\n",
              "\t<tr><td>5</td></tr>\n",
              "\t<tr><td>6</td></tr>\n",
              "\t<tr><td>6</td></tr>\n",
              "\t<tr><td>2</td></tr>\n",
              "\t<tr><td>2</td></tr>\n",
              "\t<tr><td>3</td></tr>\n",
              "\t<tr><td>6</td></tr>\n",
              "\t<tr><td>5</td></tr>\n",
              "</tbody>\n",
              "</table>\n"
            ]
          },
          "metadata": {
            "tags": []
          }
        }
      ]
    },
    {
      "cell_type": "code",
      "metadata": {
        "colab": {
          "base_uri": "https://localhost:8080/",
          "height": 437
        },
        "id": "mfTNZ8bi-UAz",
        "outputId": "b0e43717-aeb0-4ea5-c4db-032d143458fc"
      },
      "source": [
        "ggplot(rolls_10, aes(die)) +\n",
        "  geom_histogram(bins = 6)"
      ],
      "execution_count": 16,
      "outputs": [
        {
          "output_type": "display_data",
          "data": {
            "image/png": "[encoded data removed]",
            "text/plain": [
              "plot without title"
            ]
          },
          "metadata": {
            "tags": [],
            "image/png": {
              "width": 420,
              "height": 420
            }
          }
        }
      ]
    },
    {
      "cell_type": "code",
      "metadata": {
        "colab": {
          "base_uri": "https://localhost:8080/",
          "height": 34
        },
        "id": "pLhBWdka-UD3",
        "outputId": "dc327a6d-12cb-4439-a735-039536926124"
      },
      "source": [
        "mean(die$die)"
      ],
      "execution_count": 20,
      "outputs": [
        {
          "output_type": "display_data",
          "data": {
            "text/plain": [
              "[1] 3.5"
            ],
            "text/latex": "3.5",
            "text/markdown": "3.5",
            "text/html": [
              "3.5"
            ]
          },
          "metadata": {
            "tags": []
          }
        }
      ]
    },
    {
      "cell_type": "code",
      "metadata": {
        "colab": {
          "base_uri": "https://localhost:8080/",
          "height": 34
        },
        "id": "zXfTta9X-UGL",
        "outputId": "008a2068-c043-4a8d-fe6c-63fe1fc7438e"
      },
      "source": [
        "mean(rolls_10$die)"
      ],
      "execution_count": 21,
      "outputs": [
        {
          "output_type": "display_data",
          "data": {
            "text/plain": [
              "[1] 4.3"
            ],
            "text/latex": "4.3",
            "text/markdown": "4.3",
            "text/html": [
              "4.3"
            ]
          },
          "metadata": {
            "tags": []
          }
        }
      ]
    },
    {
      "cell_type": "code",
      "metadata": {
        "colab": {
          "base_uri": "https://localhost:8080/",
          "height": 34
        },
        "id": "9Jmfw0a5A089",
        "outputId": "b58ff1c8-cee8-422b-c60e-5cd8b44116c3"
      },
      "source": [
        "# P (<=7)\n",
        "punif(7, min = 0, max = 12)"
      ],
      "execution_count": 22,
      "outputs": [
        {
          "output_type": "display_data",
          "data": {
            "text/plain": [
              "[1] 0.5833333"
            ],
            "text/latex": "0.583333333333333",
            "text/markdown": "0.583333333333333",
            "text/html": [
              "0.583333333333333"
            ]
          },
          "metadata": {
            "tags": []
          }
        }
      ]
    },
    {
      "cell_type": "code",
      "metadata": {
        "colab": {
          "base_uri": "https://localhost:8080/",
          "height": 34
        },
        "id": "3sDvCiMiEbtn",
        "outputId": "f006d8ee-9850-40e4-cd2b-0dd36e2b7135"
      },
      "source": [
        "# P (>=7)\n",
        "1 - punif(7, min = 0, max = 12)"
      ],
      "execution_count": 23,
      "outputs": [
        {
          "output_type": "display_data",
          "data": {
            "text/plain": [
              "[1] 0.4166667"
            ],
            "text/latex": "0.416666666666667",
            "text/markdown": "0.416666666666667",
            "text/html": [
              "0.416666666666667"
            ]
          },
          "metadata": {
            "tags": []
          }
        }
      ]
    },
    {
      "cell_type": "code",
      "metadata": {
        "colab": {
          "base_uri": "https://localhost:8080/",
          "height": 34
        },
        "id": "mnkqUbkpEdla",
        "outputId": "06b05b28-deaa-483a-a239-4f2512fcf3cb"
      },
      "source": [
        "# P (>=7)\n",
        "punif(7, min = 0, max = 12, lower.tail = FALSE)"
      ],
      "execution_count": 24,
      "outputs": [
        {
          "output_type": "display_data",
          "data": {
            "text/plain": [
              "[1] 0.4166667"
            ],
            "text/latex": "0.416666666666667",
            "text/markdown": "0.416666666666667",
            "text/html": [
              "0.416666666666667"
            ]
          },
          "metadata": {
            "tags": []
          }
        }
      ]
    },
    {
      "cell_type": "code",
      "metadata": {
        "colab": {
          "base_uri": "https://localhost:8080/",
          "height": 34
        },
        "id": "mFtkVVGIEguE",
        "outputId": "4b87639f-ed6c-418e-87f2-8c34ea8e6ba0"
      },
      "source": [
        "# P(4 <= x <= 7)\n",
        "punif(7, min = 0, max = 12) - punif(4, min = 0, max = 12)"
      ],
      "execution_count": 25,
      "outputs": [
        {
          "output_type": "display_data",
          "data": {
            "text/plain": [
              "[1] 0.25"
            ],
            "text/latex": "0.25",
            "text/markdown": "0.25",
            "text/html": [
              "0.25"
            ]
          },
          "metadata": {
            "tags": []
          }
        }
      ]
    },
    {
      "cell_type": "code",
      "metadata": {
        "id": "9SvHsH8yEpfV"
      },
      "source": [
        ""
      ],
      "execution_count": null,
      "outputs": []
    },
    {
      "cell_type": "code",
      "metadata": {
        "id": "PHIX_aYXEph4"
      },
      "source": [
        ""
      ],
      "execution_count": null,
      "outputs": []
    },
    {
      "cell_type": "code",
      "metadata": {
        "id": "Z2WqvaEtEpko"
      },
      "source": [
        ""
      ],
      "execution_count": null,
      "outputs": []
    }
  ]
}