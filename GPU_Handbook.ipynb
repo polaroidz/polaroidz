{
  "nbformat": 4,
  "nbformat_minor": 0,
  "metadata": {
    "colab": {
      "name": "GPU_Handbook.ipynb",
      "provenance": [],
      "collapsed_sections": [],
      "authorship_tag": "ABX9TyNrLpjvizqPIA6FJxkDwFtD"
    },
    "kernelspec": {
      "name": "python3",
      "display_name": "Python 3"
    },
    "accelerator": "GPU"
  },
  "cells": [
    {
      "cell_type": "code",
      "metadata": {
        "colab": {
          "base_uri": "https://localhost:8080/"
        },
        "id": "AHvkjJ5MFPVp",
        "outputId": "d6711002-72b6-43b7-e850-b71ec43845c8"
      },
      "source": [
        "!nvidia-smi"
      ],
      "execution_count": 1,
      "outputs": [
        {
          "output_type": "stream",
          "text": [
            "Mon Mar 15 18:14:17 2021       \n",
            "+-----------------------------------------------------------------------------+\n",
            "| NVIDIA-SMI 460.56       Driver Version: 460.32.03    CUDA Version: 11.2     |\n",
            "|-------------------------------+----------------------+----------------------+\n",
            "| GPU  Name        Persistence-M| Bus-Id        Disp.A | Volatile Uncorr. ECC |\n",
            "| Fan  Temp  Perf  Pwr:Usage/Cap|         Memory-Usage | GPU-Util  Compute M. |\n",
            "|                               |                      |               MIG M. |\n",
            "|===============================+======================+======================|\n",
            "|   0  Tesla T4            Off  | 00000000:00:04.0 Off |                    0 |\n",
            "| N/A   58C    P8    11W /  70W |      0MiB / 15109MiB |      0%      Default |\n",
            "|                               |                      |                  N/A |\n",
            "+-------------------------------+----------------------+----------------------+\n",
            "                                                                               \n",
            "+-----------------------------------------------------------------------------+\n",
            "| Processes:                                                                  |\n",
            "|  GPU   GI   CI        PID   Type   Process name                  GPU Memory |\n",
            "|        ID   ID                                                   Usage      |\n",
            "|=============================================================================|\n",
            "|  No running processes found                                                 |\n",
            "+-----------------------------------------------------------------------------+\n"
          ],
          "name": "stdout"
        }
      ]
    },
    {
      "cell_type": "code",
      "metadata": {
        "colab": {
          "base_uri": "https://localhost:8080/"
        },
        "id": "tE_FUF8hGMlC",
        "outputId": "aed0b69d-d16f-4de8-db4d-ba6602037123"
      },
      "source": [
        "from __future__ import print_function\r\n",
        "\r\n",
        "import pycuda.autoinit\r\n",
        "import pycuda.gpuarray as gpuarray\r\n",
        "import pycuda.driver as drv\r\n",
        "import numpy as np\r\n",
        "\r\n",
        "import skcuda.linalg as culinalg\r\n",
        "import skcuda.misc as cumisc\r\n",
        "culinalg.init()"
      ],
      "execution_count": 12,
      "outputs": [
        {
          "output_type": "stream",
          "text": [
            "/usr/local/lib/python3.7/dist-packages/skcuda/cublas.py:284: UserWarning: creating CUBLAS context to get version number\n",
            "  warnings.warn('creating CUBLAS context to get version number')\n"
          ],
          "name": "stderr"
        }
      ]
    },
    {
      "cell_type": "code",
      "metadata": {
        "id": "7613JphyG-Aq"
      },
      "source": [
        "#!pip install pycuda\r\n",
        "#!pip install scikit-cuda"
      ],
      "execution_count": 14,
      "outputs": []
    },
    {
      "cell_type": "code",
      "metadata": {
        "colab": {
          "base_uri": "https://localhost:8080/"
        },
        "id": "9M5i5qaMHAwh",
        "outputId": "ddc2d189-e991-4212-bbae-0baf8c03b3e5"
      },
      "source": [
        "t = np.float32\r\n",
        "\r\n",
        "a = np.asarray(np.random.rand(10, 5), t)\r\n",
        "b = np.asarray(np.random.rand(5, 5), t)\r\n",
        "c = np.asarray(np.random.rand(5, 5), t)\r\n",
        "\r\n",
        "a_gpu = gpuarray.to_gpu(a)\r\n",
        "b_gpu = gpuarray.to_gpu(b)\r\n",
        "c_gpu = gpuarray.to_gpu(c)\r\n",
        "\r\n",
        "temp_gpu = culinalg.dot(a_gpu, b_gpu)\r\n",
        "%timeit d_gpu = culinalg.dot(temp_gpu, c_gpu)\r\n",
        "temp_gpu.gpudata.free() # libera da memoria\r\n",
        "\r\n",
        "del(temp_gpu)\r\n",
        "\r\n",
        "d_gpu.get()"
      ],
      "execution_count": 15,
      "outputs": [
        {
          "output_type": "stream",
          "text": [
            "The slowest run took 4.94 times longer than the fastest. This could mean that an intermediate result is being cached.\n",
            "10000 loops, best of 5: 35 µs per loop\n"
          ],
          "name": "stdout"
        },
        {
          "output_type": "execute_result",
          "data": {
            "text/plain": [
              "array([[2.8476133, 2.283375 , 2.1403346, 2.2073686, 2.239183 ],\n",
              "       [4.5721517, 3.4648075, 3.6423566, 3.1681104, 3.489214 ],\n",
              "       [4.2243853, 3.009203 , 3.3144283, 2.9258728, 3.2523503],\n",
              "       [5.990926 , 4.402417 , 4.850643 , 4.2501926, 4.6804104],\n",
              "       [3.2456279, 2.4184813, 2.5966463, 2.3477015, 2.5828593],\n",
              "       [5.1159415, 3.5778418, 3.6519604, 3.7317119, 3.8493748],\n",
              "       [4.9950814, 3.5257294, 3.5439594, 3.6174772, 3.6870549],\n",
              "       [4.7962894, 3.320447 , 3.368563 , 3.4682484, 3.5518906],\n",
              "       [7.969443 , 5.7057953, 6.0078235, 5.517163 , 5.929224 ],\n",
              "       [3.673654 , 2.8873258, 2.713626 , 2.7026455, 2.7453701]],\n",
              "      dtype=float32)"
            ]
          },
          "metadata": {
            "tags": []
          },
          "execution_count": 15
        }
      ]
    },
    {
      "cell_type": "code",
      "metadata": {
        "id": "10A-GpXIHzKT"
      },
      "source": [
        ""
      ],
      "execution_count": null,
      "outputs": []
    }
  ]
}